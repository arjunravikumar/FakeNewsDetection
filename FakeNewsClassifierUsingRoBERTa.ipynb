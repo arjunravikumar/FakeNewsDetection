{
  "nbformat": 4,
  "nbformat_minor": 0,
  "metadata": {
    "colab": {
      "name": "FakeNewsClassifierUsingRoBERTa.ipynb",
      "provenance": [],
      "collapsed_sections": []
    },
    "kernelspec": {
      "display_name": "Python 3",
      "language": "python",
      "name": "python3"
    },
    "language_info": {
      "codemirror_mode": {
        "name": "ipython",
        "version": 3
      },
      "file_extension": ".py",
      "mimetype": "text/x-python",
      "name": "python",
      "nbconvert_exporter": "python",
      "pygments_lexer": "ipython3",
      "version": "3.7.4"
    }
  },
  "cells": [
    {
      "cell_type": "code",
      "metadata": {
        "colab": {
          "base_uri": "https://localhost:8080/"
        },
        "id": "g06CaeT_n2xh",
        "outputId": "a3a5263f-0cf5-473e-ba76-88a812fb5b96"
      },
      "source": [
        "from google.colab import drive\n",
        "drive.mount('/content/drive')"
      ],
      "execution_count": null,
      "outputs": [
        {
          "output_type": "stream",
          "text": [
            "Mounted at /content/drive\n"
          ],
          "name": "stdout"
        }
      ]
    },
    {
      "cell_type": "code",
      "metadata": {
        "colab": {
          "base_uri": "https://localhost:8080/"
        },
        "id": "4TZk_tyfoGHo",
        "outputId": "15e29c6f-1f53-4545-db9f-0a0cac572f9b"
      },
      "source": [
        "!pip install transformers\n",
        "!pip install tqdm"
      ],
      "execution_count": null,
      "outputs": [
        {
          "output_type": "stream",
          "text": [
            "Collecting transformers\n",
            "\u001b[?25l  Downloading https://files.pythonhosted.org/packages/b0/9e/5b80becd952d5f7250eaf8fc64b957077b12ccfe73e9c03d37146ab29712/transformers-4.6.0-py3-none-any.whl (2.3MB)\n",
            "\u001b[K     |████████████████████████████████| 2.3MB 6.5MB/s \n",
            "\u001b[?25hCollecting tokenizers<0.11,>=0.10.1\n",
            "\u001b[?25l  Downloading https://files.pythonhosted.org/packages/ae/04/5b870f26a858552025a62f1649c20d29d2672c02ff3c3fb4c688ca46467a/tokenizers-0.10.2-cp37-cp37m-manylinux2010_x86_64.whl (3.3MB)\n",
            "\u001b[K     |████████████████████████████████| 3.3MB 41.6MB/s \n",
            "\u001b[?25hRequirement already satisfied: packaging in /usr/local/lib/python3.7/dist-packages (from transformers) (20.9)\n",
            "Requirement already satisfied: regex!=2019.12.17 in /usr/local/lib/python3.7/dist-packages (from transformers) (2019.12.20)\n",
            "Requirement already satisfied: requests in /usr/local/lib/python3.7/dist-packages (from transformers) (2.23.0)\n",
            "Collecting huggingface-hub==0.0.8\n",
            "  Downloading https://files.pythonhosted.org/packages/a1/88/7b1e45720ecf59c6c6737ff332f41c955963090a18e72acbcbeac6b25e86/huggingface_hub-0.0.8-py3-none-any.whl\n",
            "Collecting sacremoses\n",
            "\u001b[?25l  Downloading https://files.pythonhosted.org/packages/75/ee/67241dc87f266093c533a2d4d3d69438e57d7a90abb216fa076e7d475d4a/sacremoses-0.0.45-py3-none-any.whl (895kB)\n",
            "\u001b[K     |████████████████████████████████| 901kB 52.0MB/s \n",
            "\u001b[?25hRequirement already satisfied: numpy>=1.17 in /usr/local/lib/python3.7/dist-packages (from transformers) (1.19.5)\n",
            "Requirement already satisfied: tqdm>=4.27 in /usr/local/lib/python3.7/dist-packages (from transformers) (4.41.1)\n",
            "Requirement already satisfied: filelock in /usr/local/lib/python3.7/dist-packages (from transformers) (3.0.12)\n",
            "Requirement already satisfied: importlib-metadata; python_version < \"3.8\" in /usr/local/lib/python3.7/dist-packages (from transformers) (4.0.1)\n",
            "Requirement already satisfied: pyparsing>=2.0.2 in /usr/local/lib/python3.7/dist-packages (from packaging->transformers) (2.4.7)\n",
            "Requirement already satisfied: idna<3,>=2.5 in /usr/local/lib/python3.7/dist-packages (from requests->transformers) (2.10)\n",
            "Requirement already satisfied: chardet<4,>=3.0.2 in /usr/local/lib/python3.7/dist-packages (from requests->transformers) (3.0.4)\n",
            "Requirement already satisfied: certifi>=2017.4.17 in /usr/local/lib/python3.7/dist-packages (from requests->transformers) (2020.12.5)\n",
            "Requirement already satisfied: urllib3!=1.25.0,!=1.25.1,<1.26,>=1.21.1 in /usr/local/lib/python3.7/dist-packages (from requests->transformers) (1.24.3)\n",
            "Requirement already satisfied: joblib in /usr/local/lib/python3.7/dist-packages (from sacremoses->transformers) (1.0.1)\n",
            "Requirement already satisfied: click in /usr/local/lib/python3.7/dist-packages (from sacremoses->transformers) (7.1.2)\n",
            "Requirement already satisfied: six in /usr/local/lib/python3.7/dist-packages (from sacremoses->transformers) (1.15.0)\n",
            "Requirement already satisfied: zipp>=0.5 in /usr/local/lib/python3.7/dist-packages (from importlib-metadata; python_version < \"3.8\"->transformers) (3.4.1)\n",
            "Requirement already satisfied: typing-extensions>=3.6.4; python_version < \"3.8\" in /usr/local/lib/python3.7/dist-packages (from importlib-metadata; python_version < \"3.8\"->transformers) (3.7.4.3)\n",
            "Installing collected packages: tokenizers, huggingface-hub, sacremoses, transformers\n",
            "Successfully installed huggingface-hub-0.0.8 sacremoses-0.0.45 tokenizers-0.10.2 transformers-4.6.0\n",
            "Requirement already satisfied: tqdm in /usr/local/lib/python3.7/dist-packages (4.41.1)\n"
          ],
          "name": "stdout"
        }
      ]
    },
    {
      "cell_type": "code",
      "metadata": {
        "id": "qeeDEKvJnuiz"
      },
      "source": [
        "import torch\n",
        "import pandas as pd\n",
        "import numpy as np\n",
        "from transformers import RobertaTokenizer, AdamW, get_linear_schedule_with_warmup,RobertaForSequenceClassification\n",
        "from torch.utils.data import TensorDataset, random_split\n",
        "from torch.utils.data import DataLoader, RandomSampler, SequentialSampler\n",
        "import time\n",
        "import datetime\n",
        "import random\n",
        "from tqdm import tqdm"
      ],
      "execution_count": null,
      "outputs": []
    },
    {
      "cell_type": "code",
      "metadata": {
        "id": "_GFhwXcBnui7"
      },
      "source": [
        "trainNews = pd.read_csv('/content/drive/MyDrive/Colab Notebooks/OutputFiles/TrainNews.csv')"
      ],
      "execution_count": null,
      "outputs": []
    },
    {
      "cell_type": "code",
      "metadata": {
        "colab": {
          "base_uri": "https://localhost:8080/",
          "height": 419
        },
        "id": "08__5Idknui7",
        "outputId": "3eb68caa-f143-46d1-ba6c-cb4bc2c06b68"
      },
      "source": [
        "trainNews"
      ],
      "execution_count": null,
      "outputs": [
        {
          "output_type": "execute_result",
          "data": {
            "text/html": [
              "<div>\n",
              "<style scoped>\n",
              "    .dataframe tbody tr th:only-of-type {\n",
              "        vertical-align: middle;\n",
              "    }\n",
              "\n",
              "    .dataframe tbody tr th {\n",
              "        vertical-align: top;\n",
              "    }\n",
              "\n",
              "    .dataframe thead th {\n",
              "        text-align: right;\n",
              "    }\n",
              "</style>\n",
              "<table border=\"1\" class=\"dataframe\">\n",
              "  <thead>\n",
              "    <tr style=\"text-align: right;\">\n",
              "      <th></th>\n",
              "      <th>label</th>\n",
              "      <th>text</th>\n",
              "      <th>title</th>\n",
              "    </tr>\n",
              "  </thead>\n",
              "  <tbody>\n",
              "    <tr>\n",
              "      <th>0</th>\n",
              "      <td>1</td>\n",
              "      <td>the head of a conservative republican faction ...</td>\n",
              "      <td>as u s budget fight looms republicans flip the...</td>\n",
              "    </tr>\n",
              "    <tr>\n",
              "      <th>1</th>\n",
              "      <td>1</td>\n",
              "      <td>transgender people will be allowed for the fir...</td>\n",
              "      <td>u s military to accept transgender recruits on...</td>\n",
              "    </tr>\n",
              "    <tr>\n",
              "      <th>2</th>\n",
              "      <td>1</td>\n",
              "      <td>the special counsel investigation of links bet...</td>\n",
              "      <td>senior u s republican senator let mr mueller d...</td>\n",
              "    </tr>\n",
              "    <tr>\n",
              "      <th>3</th>\n",
              "      <td>1</td>\n",
              "      <td>trump campaign adviser george papadopoulos tol...</td>\n",
              "      <td>fbi russia probe helped by australian diplomat...</td>\n",
              "    </tr>\n",
              "    <tr>\n",
              "      <th>4</th>\n",
              "      <td>1</td>\n",
              "      <td>president donald trump called on the u s posta...</td>\n",
              "      <td>trump wants postal service to charge much more...</td>\n",
              "    </tr>\n",
              "    <tr>\n",
              "      <th>...</th>\n",
              "      <td>...</td>\n",
              "      <td>...</td>\n",
              "      <td>...</td>\n",
              "    </tr>\n",
              "    <tr>\n",
              "      <th>51192</th>\n",
              "      <td>1</td>\n",
              "      <td>the state department told the republican natio...</td>\n",
              "      <td>state department says it can t find emails fro...</td>\n",
              "    </tr>\n",
              "    <tr>\n",
              "      <th>51193</th>\n",
              "      <td>0</td>\n",
              "      <td>the p in pbs should stand for plutocratic or p...</td>\n",
              "      <td>the p in pbs should stand for plutocratic or p...</td>\n",
              "    </tr>\n",
              "    <tr>\n",
              "      <th>51194</th>\n",
              "      <td>0</td>\n",
              "      <td>anti trump protesters are tools of the oligarc...</td>\n",
              "      <td>anti trump protesters are tools of the oligarc...</td>\n",
              "    </tr>\n",
              "    <tr>\n",
              "      <th>51195</th>\n",
              "      <td>1</td>\n",
              "      <td>addis ababa ethiopia president obama convened ...</td>\n",
              "      <td>in ethiopia obama seeks progress on peace secu...</td>\n",
              "    </tr>\n",
              "    <tr>\n",
              "      <th>51196</th>\n",
              "      <td>1</td>\n",
              "      <td>jeb bush is suddenly attacking trump here s wh...</td>\n",
              "      <td>jeb bush is suddenly attacking trump here s wh...</td>\n",
              "    </tr>\n",
              "  </tbody>\n",
              "</table>\n",
              "<p>51197 rows × 3 columns</p>\n",
              "</div>"
            ],
            "text/plain": [
              "       label  ...                                              title\n",
              "0          1  ...  as u s budget fight looms republicans flip the...\n",
              "1          1  ...  u s military to accept transgender recruits on...\n",
              "2          1  ...  senior u s republican senator let mr mueller d...\n",
              "3          1  ...  fbi russia probe helped by australian diplomat...\n",
              "4          1  ...  trump wants postal service to charge much more...\n",
              "...      ...  ...                                                ...\n",
              "51192      1  ...  state department says it can t find emails fro...\n",
              "51193      0  ...  the p in pbs should stand for plutocratic or p...\n",
              "51194      0  ...  anti trump protesters are tools of the oligarc...\n",
              "51195      1  ...  in ethiopia obama seeks progress on peace secu...\n",
              "51196      1  ...  jeb bush is suddenly attacking trump here s wh...\n",
              "\n",
              "[51197 rows x 3 columns]"
            ]
          },
          "metadata": {
            "tags": []
          },
          "execution_count": 5
        }
      ]
    },
    {
      "cell_type": "code",
      "metadata": {
        "id": "m6bslHkSnui9"
      },
      "source": [
        "trainNews = trainNews[trainNews.text.str.len() >= 5]\n",
        "\n",
        "trainNews['fullNewsText'] = trainNews['title'] + \". \" + trainNews['text']"
      ],
      "execution_count": null,
      "outputs": []
    },
    {
      "cell_type": "code",
      "metadata": {
        "colab": {
          "base_uri": "https://localhost:8080/",
          "height": 419
        },
        "id": "kOqyivwlnui9",
        "outputId": "bd26890f-580e-4d9d-f1ee-f5eee4ba5862"
      },
      "source": [
        "trainNews"
      ],
      "execution_count": null,
      "outputs": [
        {
          "output_type": "execute_result",
          "data": {
            "text/html": [
              "<div>\n",
              "<style scoped>\n",
              "    .dataframe tbody tr th:only-of-type {\n",
              "        vertical-align: middle;\n",
              "    }\n",
              "\n",
              "    .dataframe tbody tr th {\n",
              "        vertical-align: top;\n",
              "    }\n",
              "\n",
              "    .dataframe thead th {\n",
              "        text-align: right;\n",
              "    }\n",
              "</style>\n",
              "<table border=\"1\" class=\"dataframe\">\n",
              "  <thead>\n",
              "    <tr style=\"text-align: right;\">\n",
              "      <th></th>\n",
              "      <th>label</th>\n",
              "      <th>fullNewsText</th>\n",
              "    </tr>\n",
              "  </thead>\n",
              "  <tbody>\n",
              "    <tr>\n",
              "      <th>0</th>\n",
              "      <td>1</td>\n",
              "      <td>as u s budget fight looms republicans flip the...</td>\n",
              "    </tr>\n",
              "    <tr>\n",
              "      <th>1</th>\n",
              "      <td>1</td>\n",
              "      <td>u s military to accept transgender recruits on...</td>\n",
              "    </tr>\n",
              "    <tr>\n",
              "      <th>2</th>\n",
              "      <td>1</td>\n",
              "      <td>senior u s republican senator let mr mueller d...</td>\n",
              "    </tr>\n",
              "    <tr>\n",
              "      <th>3</th>\n",
              "      <td>1</td>\n",
              "      <td>fbi russia probe helped by australian diplomat...</td>\n",
              "    </tr>\n",
              "    <tr>\n",
              "      <th>4</th>\n",
              "      <td>1</td>\n",
              "      <td>trump wants postal service to charge much more...</td>\n",
              "    </tr>\n",
              "    <tr>\n",
              "      <th>...</th>\n",
              "      <td>...</td>\n",
              "      <td>...</td>\n",
              "    </tr>\n",
              "    <tr>\n",
              "      <th>51192</th>\n",
              "      <td>1</td>\n",
              "      <td>state department says it can t find emails fro...</td>\n",
              "    </tr>\n",
              "    <tr>\n",
              "      <th>51193</th>\n",
              "      <td>0</td>\n",
              "      <td>the p in pbs should stand for plutocratic or p...</td>\n",
              "    </tr>\n",
              "    <tr>\n",
              "      <th>51194</th>\n",
              "      <td>0</td>\n",
              "      <td>anti trump protesters are tools of the oligarc...</td>\n",
              "    </tr>\n",
              "    <tr>\n",
              "      <th>51195</th>\n",
              "      <td>1</td>\n",
              "      <td>in ethiopia obama seeks progress on peace secu...</td>\n",
              "    </tr>\n",
              "    <tr>\n",
              "      <th>51196</th>\n",
              "      <td>1</td>\n",
              "      <td>jeb bush is suddenly attacking trump here s wh...</td>\n",
              "    </tr>\n",
              "  </tbody>\n",
              "</table>\n",
              "<p>50564 rows × 2 columns</p>\n",
              "</div>"
            ],
            "text/plain": [
              "       label                                       fullNewsText\n",
              "0          1  as u s budget fight looms republicans flip the...\n",
              "1          1  u s military to accept transgender recruits on...\n",
              "2          1  senior u s republican senator let mr mueller d...\n",
              "3          1  fbi russia probe helped by australian diplomat...\n",
              "4          1  trump wants postal service to charge much more...\n",
              "...      ...                                                ...\n",
              "51192      1  state department says it can t find emails fro...\n",
              "51193      0  the p in pbs should stand for plutocratic or p...\n",
              "51194      0  anti trump protesters are tools of the oligarc...\n",
              "51195      1  in ethiopia obama seeks progress on peace secu...\n",
              "51196      1  jeb bush is suddenly attacking trump here s wh...\n",
              "\n",
              "[50564 rows x 2 columns]"
            ]
          },
          "metadata": {
            "tags": []
          },
          "execution_count": 16
        }
      ]
    },
    {
      "cell_type": "code",
      "metadata": {
        "id": "h0RjTS9Knui9"
      },
      "source": [
        "trainNews = trainNews.drop(['title', 'text'], axis=1)"
      ],
      "execution_count": null,
      "outputs": []
    },
    {
      "cell_type": "code",
      "metadata": {
        "id": "cVLGAMdJnui-"
      },
      "source": [
        "trainNews.to_csv(\"/content/drive/MyDrive/Colab Notebooks/OutputFiles/FinalTrainNews.csv\", index=False)"
      ],
      "execution_count": null,
      "outputs": []
    },
    {
      "cell_type": "code",
      "metadata": {
        "id": "ZGba6xydvwKo"
      },
      "source": [
        "trainNews = trainNews.dropna()"
      ],
      "execution_count": null,
      "outputs": []
    },
    {
      "cell_type": "code",
      "metadata": {
        "id": "fW9CAdGanui-"
      },
      "source": [
        "fullNewsSentences = trainNews[\"fullNewsText\"].values\n",
        "targetLabels = trainNews[\"label\"].values"
      ],
      "execution_count": null,
      "outputs": []
    },
    {
      "cell_type": "code",
      "metadata": {
        "colab": {
          "base_uri": "https://localhost:8080/"
        },
        "id": "JHoqpdP0nui_",
        "outputId": "172ded38-ecad-496f-aaa7-f45047348586"
      },
      "source": [
        "robertaModel = RobertaForSequenceClassification.from_pretrained(\"roberta-base\",\n",
        "                                                                    num_labels = 2,\n",
        "                                                                    output_attentions = False,\n",
        "                                                                    output_hidden_states = False)\n",
        "robertaTokenizer = RobertaTokenizer.from_pretrained(\"roberta-base\")\n",
        "\n",
        "if torch.cuda.is_available():\n",
        "    device = torch.device('cuda:0')\n",
        "    torch.backends.cudnn.deterministic = True\n",
        "    torch.backends.cudnn.benchmark = False\n",
        "    robertaModel.cuda()\n",
        "else:\n",
        "    device = torch.device('cpu')\n",
        "print(device)"
      ],
      "execution_count": null,
      "outputs": [
        {
          "output_type": "stream",
          "text": [
            "Some weights of the model checkpoint at roberta-base were not used when initializing RobertaForSequenceClassification: ['lm_head.layer_norm.bias', 'lm_head.decoder.weight', 'lm_head.bias', 'lm_head.layer_norm.weight', 'lm_head.dense.weight', 'roberta.pooler.dense.bias', 'lm_head.dense.bias', 'roberta.pooler.dense.weight']\n",
            "- This IS expected if you are initializing RobertaForSequenceClassification from the checkpoint of a model trained on another task or with another architecture (e.g. initializing a BertForSequenceClassification model from a BertForPreTraining model).\n",
            "- This IS NOT expected if you are initializing RobertaForSequenceClassification from the checkpoint of a model that you expect to be exactly identical (initializing a BertForSequenceClassification model from a BertForSequenceClassification model).\n",
            "Some weights of RobertaForSequenceClassification were not initialized from the model checkpoint at roberta-base and are newly initialized: ['classifier.dense.bias', 'classifier.dense.weight', 'classifier.out_proj.weight', 'classifier.out_proj.bias']\n",
            "You should probably TRAIN this model on a down-stream task to be able to use it for predictions and inference.\n"
          ],
          "name": "stderr"
        },
        {
          "output_type": "stream",
          "text": [
            "cpu\n"
          ],
          "name": "stdout"
        }
      ]
    },
    {
      "cell_type": "code",
      "metadata": {
        "id": "zCNOZ2hhnui_"
      },
      "source": [
        "def convertToTensor(newsSentences,labels):\n",
        "    idsRoberta = []\n",
        "    robertaMasks = []\n",
        "    for news in newsSentences:\n",
        "        robertaEncoded = robertaTokenizer.encode_plus(news,add_special_tokens = True,\n",
        "                                                      max_length = 256,\n",
        "                                                      truncation=True,\n",
        "                                                      padding='max_length',\n",
        "                                                      return_attention_mask = True,\n",
        "                                                      return_tensors = 'pt')\n",
        "        idsRoberta.append(robertaEncoded['input_ids'])\n",
        "        robertaMasks.append(robertaEncoded['attention_mask'])\n",
        "    idsRoberta = torch.cat(idsRoberta, dim=0)\n",
        "    robertaMasks = torch.cat(robertaMasks, dim=0)\n",
        "    labels = torch.tensor(labels)\n",
        "    tensonDataset = TensorDataset(idsRoberta, robertaMasks, labels)\n",
        "    return tensonDataset"
      ],
      "execution_count": null,
      "outputs": []
    },
    {
      "cell_type": "code",
      "metadata": {
        "id": "j9TLjEu4nujA",
        "colab": {
          "base_uri": "https://localhost:8080/"
        },
        "outputId": "b38425cd-e1eb-48ef-dee8-feda7740c5ab"
      },
      "source": [
        "torch.manual_seed(0)\n",
        "fullTensor = convertToTensor(fullNewsSentences,targetLabels)"
      ],
      "execution_count": null,
      "outputs": [
        {
          "output_type": "error",
          "ename": "ValueError",
          "evalue": "ignored",
          "traceback": [
            "\u001b[0;31m---------------------------------------------------------------------------\u001b[0m",
            "\u001b[0;31mValueError\u001b[0m                                Traceback (most recent call last)",
            "\u001b[0;32m<ipython-input-18-9da71fa377af>\u001b[0m in \u001b[0;36m<module>\u001b[0;34m()\u001b[0m\n\u001b[1;32m      1\u001b[0m \u001b[0mtorch\u001b[0m\u001b[0;34m.\u001b[0m\u001b[0mmanual_seed\u001b[0m\u001b[0;34m(\u001b[0m\u001b[0;36m0\u001b[0m\u001b[0;34m)\u001b[0m\u001b[0;34m\u001b[0m\u001b[0;34m\u001b[0m\u001b[0m\n\u001b[0;32m----> 2\u001b[0;31m \u001b[0mfullTensor\u001b[0m \u001b[0;34m=\u001b[0m \u001b[0mconvertToTensor\u001b[0m\u001b[0;34m(\u001b[0m\u001b[0mfullNewsSentences\u001b[0m\u001b[0;34m,\u001b[0m\u001b[0mtargetLabels\u001b[0m\u001b[0;34m)\u001b[0m\u001b[0;34m\u001b[0m\u001b[0;34m\u001b[0m\u001b[0m\n\u001b[0m",
            "\u001b[0;32m<ipython-input-17-79e8bfebb2ed>\u001b[0m in \u001b[0;36mconvertToTensor\u001b[0;34m(newsSentences, labels)\u001b[0m\n\u001b[1;32m      8\u001b[0m                                                       \u001b[0mpadding\u001b[0m\u001b[0;34m=\u001b[0m\u001b[0;34m'max_length'\u001b[0m\u001b[0;34m,\u001b[0m\u001b[0;34m\u001b[0m\u001b[0;34m\u001b[0m\u001b[0m\n\u001b[1;32m      9\u001b[0m                                                       \u001b[0mreturn_attention_mask\u001b[0m \u001b[0;34m=\u001b[0m \u001b[0;32mTrue\u001b[0m\u001b[0;34m,\u001b[0m\u001b[0;34m\u001b[0m\u001b[0;34m\u001b[0m\u001b[0m\n\u001b[0;32m---> 10\u001b[0;31m                                                       return_tensors = 'pt')\n\u001b[0m\u001b[1;32m     11\u001b[0m         \u001b[0midsRoberta\u001b[0m\u001b[0;34m.\u001b[0m\u001b[0mappend\u001b[0m\u001b[0;34m(\u001b[0m\u001b[0mrobertaEncoded\u001b[0m\u001b[0;34m[\u001b[0m\u001b[0;34m'input_ids'\u001b[0m\u001b[0;34m]\u001b[0m\u001b[0;34m)\u001b[0m\u001b[0;34m\u001b[0m\u001b[0;34m\u001b[0m\u001b[0m\n\u001b[1;32m     12\u001b[0m         \u001b[0mrobertaMasks\u001b[0m\u001b[0;34m.\u001b[0m\u001b[0mappend\u001b[0m\u001b[0;34m(\u001b[0m\u001b[0mrobertaEncoded\u001b[0m\u001b[0;34m[\u001b[0m\u001b[0;34m'attention_mask'\u001b[0m\u001b[0;34m]\u001b[0m\u001b[0;34m)\u001b[0m\u001b[0;34m\u001b[0m\u001b[0;34m\u001b[0m\u001b[0m\n",
            "\u001b[0;32m/usr/local/lib/python3.7/dist-packages/transformers/tokenization_utils_base.py\u001b[0m in \u001b[0;36mencode_plus\u001b[0;34m(self, text, text_pair, add_special_tokens, padding, truncation, max_length, stride, is_split_into_words, pad_to_multiple_of, return_tensors, return_token_type_ids, return_attention_mask, return_overflowing_tokens, return_special_tokens_mask, return_offsets_mapping, return_length, verbose, **kwargs)\u001b[0m\n\u001b[1;32m   2394\u001b[0m             \u001b[0mreturn_length\u001b[0m\u001b[0;34m=\u001b[0m\u001b[0mreturn_length\u001b[0m\u001b[0;34m,\u001b[0m\u001b[0;34m\u001b[0m\u001b[0;34m\u001b[0m\u001b[0m\n\u001b[1;32m   2395\u001b[0m             \u001b[0mverbose\u001b[0m\u001b[0;34m=\u001b[0m\u001b[0mverbose\u001b[0m\u001b[0;34m,\u001b[0m\u001b[0;34m\u001b[0m\u001b[0;34m\u001b[0m\u001b[0m\n\u001b[0;32m-> 2396\u001b[0;31m             \u001b[0;34m**\u001b[0m\u001b[0mkwargs\u001b[0m\u001b[0;34m,\u001b[0m\u001b[0;34m\u001b[0m\u001b[0;34m\u001b[0m\u001b[0m\n\u001b[0m\u001b[1;32m   2397\u001b[0m         )\n\u001b[1;32m   2398\u001b[0m \u001b[0;34m\u001b[0m\u001b[0m\n",
            "\u001b[0;32m/usr/local/lib/python3.7/dist-packages/transformers/tokenization_utils.py\u001b[0m in \u001b[0;36m_encode_plus\u001b[0;34m(self, text, text_pair, add_special_tokens, padding_strategy, truncation_strategy, max_length, stride, is_split_into_words, pad_to_multiple_of, return_tensors, return_token_type_ids, return_attention_mask, return_overflowing_tokens, return_special_tokens_mask, return_offsets_mapping, return_length, verbose, **kwargs)\u001b[0m\n\u001b[1;32m    459\u001b[0m             )\n\u001b[1;32m    460\u001b[0m \u001b[0;34m\u001b[0m\u001b[0m\n\u001b[0;32m--> 461\u001b[0;31m         \u001b[0mfirst_ids\u001b[0m \u001b[0;34m=\u001b[0m \u001b[0mget_input_ids\u001b[0m\u001b[0;34m(\u001b[0m\u001b[0mtext\u001b[0m\u001b[0;34m)\u001b[0m\u001b[0;34m\u001b[0m\u001b[0;34m\u001b[0m\u001b[0m\n\u001b[0m\u001b[1;32m    462\u001b[0m         \u001b[0msecond_ids\u001b[0m \u001b[0;34m=\u001b[0m \u001b[0mget_input_ids\u001b[0m\u001b[0;34m(\u001b[0m\u001b[0mtext_pair\u001b[0m\u001b[0;34m)\u001b[0m \u001b[0;32mif\u001b[0m \u001b[0mtext_pair\u001b[0m \u001b[0;32mis\u001b[0m \u001b[0;32mnot\u001b[0m \u001b[0;32mNone\u001b[0m \u001b[0;32melse\u001b[0m \u001b[0;32mNone\u001b[0m\u001b[0;34m\u001b[0m\u001b[0;34m\u001b[0m\u001b[0m\n\u001b[1;32m    463\u001b[0m \u001b[0;34m\u001b[0m\u001b[0m\n",
            "\u001b[0;32m/usr/local/lib/python3.7/dist-packages/transformers/tokenization_utils.py\u001b[0m in \u001b[0;36mget_input_ids\u001b[0;34m(text)\u001b[0m\n\u001b[1;32m    447\u001b[0m                 \u001b[0;32melse\u001b[0m\u001b[0;34m:\u001b[0m\u001b[0;34m\u001b[0m\u001b[0;34m\u001b[0m\u001b[0m\n\u001b[1;32m    448\u001b[0m                     raise ValueError(\n\u001b[0;32m--> 449\u001b[0;31m                         \u001b[0;34mf\"Input {text} is not valid. Should be a string, a list/tuple of strings or a list/tuple of integers.\"\u001b[0m\u001b[0;34m\u001b[0m\u001b[0;34m\u001b[0m\u001b[0m\n\u001b[0m\u001b[1;32m    450\u001b[0m                     )\n\u001b[1;32m    451\u001b[0m \u001b[0;34m\u001b[0m\u001b[0m\n",
            "\u001b[0;31mValueError\u001b[0m: Input nan is not valid. Should be a string, a list/tuple of strings or a list/tuple of integers."
          ]
        }
      ]
    },
    {
      "cell_type": "code",
      "metadata": {
        "id": "06aXdH-DhyFj"
      },
      "source": [
        "trainSetSize = int(0.95*len(fullTensor))\n",
        "validSetSize = len(fullTensor) - trainSetSize"
      ],
      "execution_count": null,
      "outputs": []
    },
    {
      "cell_type": "code",
      "metadata": {
        "id": "exHJKc84jMoo"
      },
      "source": [
        "trainTensor, validTensor = random_split(fullTensor, [trainSetSize, validSetSize])"
      ],
      "execution_count": null,
      "outputs": []
    },
    {
      "cell_type": "code",
      "metadata": {
        "id": "0ZMo6k-RnujA"
      },
      "source": [
        "batchSize = 16\n",
        "trainDataloader = DataLoader(trainTensor,sampler = RandomSampler(trainTensor),\n",
        "                                      batch_size = batchSize)\n",
        "validationDataloader = DataLoader(validTensor,sampler = SequentialSampler(validTensor)\n",
        "                                  ,batch_size = batchSize)"
      ],
      "execution_count": null,
      "outputs": []
    },
    {
      "cell_type": "code",
      "metadata": {
        "id": "OWBOYMSMnujA"
      },
      "source": [
        "optimizer = AdamW(robertaModel.parameters(),lr = 5e-5,eps = 1e-8)"
      ],
      "execution_count": null,
      "outputs": []
    },
    {
      "cell_type": "code",
      "metadata": {
        "id": "LKp4176nnujA"
      },
      "source": [
        "epochs = 4\n",
        "totalSteps = len(trainDataloader) * epochs\n",
        "scheduler = get_linear_schedule_with_warmup(optimizer, num_warmup_steps = 0,\n",
        "                                                    num_training_steps = totalSteps)"
      ],
      "execution_count": null,
      "outputs": []
    },
    {
      "cell_type": "code",
      "metadata": {
        "id": "Yq_sNw_tnujB"
      },
      "source": [
        "def getAccuracy(preds, labels):\n",
        "    flatPredictions = np.argmax(preds, axis=1).flatten()\n",
        "    flatLabels = labels.flatten()\n",
        "    return np.sum(flatPredictions == flatLabels) / len(flatLabels)"
      ],
      "execution_count": null,
      "outputs": []
    },
    {
      "cell_type": "code",
      "metadata": {
        "colab": {
          "base_uri": "https://localhost:8080/"
        },
        "id": "jS09DEx-nujB",
        "outputId": "bd277b06-916e-43fc-8961-1c12e7a050a9"
      },
      "source": [
        "seed_val = 100\n",
        "\n",
        "random.seed(seed_val)\n",
        "np.random.seed(seed_val)\n",
        "torch.manual_seed(seed_val)\n",
        "torch.cuda.manual_seed_all(seed_val)\n",
        "trainingData = []\n",
        "\n",
        "for epochNumber in range(0, epochs):\n",
        "    print(\"\\n\\nTraining epoch \"+str(epochNumber+1)+\" started.\\n\\n\\n\")\n",
        "    traininglossTotal = 0\n",
        "    robertaModel.train()\n",
        "    pbar = tqdm(total=len(trainDataloader), position=0, leave=True)\n",
        "    for step, batch in enumerate(trainDataloader):\n",
        "        pbar.update(1)\n",
        "        robertaModel.zero_grad()        \n",
        "        trainData = robertaModel(batch[0].to(device),attention_mask=batch[1].to(device),labels=batch[2].to(device))\n",
        "        loss = trainData[\"loss\"]\n",
        "        traininglossTotal += loss.item()\n",
        "        loss.backward()\n",
        "        torch.nn.utils.clip_grad_norm_(robertaModel.parameters(), 1.0)\n",
        "        optimizer.step()\n",
        "        scheduler.step()\n",
        "    avgTrainLoss = traininglossTotal / len(trainDataloader)\n",
        "    pbar.close()\n",
        "    print(\"\\n\\n\\tTraining loss: \"+str(round((avgLoss),2)))\n",
        "    \n",
        "    #changing to Validation mode\n",
        "    print(\"\\n\\n\\nValidation epoch \"+str(epochNumber+1)+\" started.\")\n",
        "    robertaModel.eval()\n",
        "    validationAccuracy = 0\n",
        "    validationLossTotal = 0\n",
        "    pbar = tqdm(total=len(validationDataloader), position=0, leave=True)\n",
        "    for step, batch in enumerate(validationDataloader):\n",
        "        pbar.update(1)\n",
        "        label = batch[2].to(device)\n",
        "        with torch.no_grad():        \n",
        "          val = robertaModel(batch[0].to(device),attention_mask=batch[1].to(device),labels=batch[2].to(device))\n",
        "          loss = val[\"loss\"]\n",
        "          logits = val[\"logits\"]\n",
        "        validationLossTotal += loss.item()\n",
        "        logits = logits.detach().cpu().numpy()\n",
        "        labelsIds = label.to('cpu').numpy()\n",
        "        validationAccuracy += getAccuracy(logits, labelsIds)\n",
        "    validationAccuracyAvg = validationAccuracy / len(validationDataloader)\n",
        "    pbar.close()\n",
        "    print(\"\\n\\n\\tAccuracy: \"+str(round((validationAccuracyAvg),2)))\n",
        "    validateLossAvg = validationLossTotal / len(validationDataloader)\n",
        "    trainingData.append(\n",
        "        {\n",
        "            'epoch': epochNumber + 1,\n",
        "            'TrainingLoss': avgTrainLoss,\n",
        "            'ValidationLoss': validateLossAvg,\n",
        "            'ValidationAccuracy': validationAccuracyAvg\n",
        "        }\n",
        "    )\n",
        "    print(\"\\tValidation Loss: \"+str(round((validateLossAvg*100),2)))"
      ],
      "execution_count": null,
      "outputs": [
        {
          "output_type": "stream",
          "text": [
            "\r  0%|          | 0/3003 [00:00<?, ?it/s]"
          ],
          "name": "stderr"
        },
        {
          "output_type": "stream",
          "text": [
            "\n",
            "\n",
            "Training epoch 1 started.\n",
            "\n",
            "\n",
            "\n"
          ],
          "name": "stdout"
        },
        {
          "output_type": "stream",
          "text": [
            "100%|██████████| 3003/3003 [39:10<00:00,  1.28it/s]\n",
            "  0%|          | 0/159 [00:00<?, ?it/s]"
          ],
          "name": "stderr"
        },
        {
          "output_type": "stream",
          "text": [
            "\tTraining loss: 0.31\n",
            "\n",
            "\n",
            "\n",
            "Validation epoch 1 started.\n"
          ],
          "name": "stdout"
        },
        {
          "output_type": "stream",
          "text": [
            "100%|██████████| 159/159 [00:39<00:00,  4.05it/s]\n",
            "  0%|          | 0/3003 [00:00<?, ?it/s]"
          ],
          "name": "stderr"
        },
        {
          "output_type": "stream",
          "text": [
            "\tAccuracy: 0.92\n",
            "\tValidation Loss: 25.63\n",
            "\n",
            "\n",
            "Training epoch 2 started.\n",
            "\n",
            "\n",
            "\n"
          ],
          "name": "stdout"
        },
        {
          "output_type": "stream",
          "text": [
            "100%|██████████| 3003/3003 [39:12<00:00,  1.28it/s]\n",
            "  0%|          | 0/159 [00:00<?, ?it/s]"
          ],
          "name": "stderr"
        },
        {
          "output_type": "stream",
          "text": [
            "\tTraining loss: 0.31\n",
            "\n",
            "\n",
            "\n",
            "Validation epoch 2 started.\n"
          ],
          "name": "stdout"
        },
        {
          "output_type": "stream",
          "text": [
            "100%|██████████| 159/159 [00:39<00:00,  4.04it/s]\n",
            "  0%|          | 0/3003 [00:00<?, ?it/s]"
          ],
          "name": "stderr"
        },
        {
          "output_type": "stream",
          "text": [
            "\tAccuracy: 0.94\n",
            "\tValidation Loss: 23.06\n",
            "\n",
            "\n",
            "Training epoch 3 started.\n",
            "\n",
            "\n",
            "\n"
          ],
          "name": "stdout"
        },
        {
          "output_type": "stream",
          "text": [
            "100%|██████████| 3003/3003 [39:12<00:00,  1.28it/s]\n",
            "  0%|          | 0/159 [00:00<?, ?it/s]"
          ],
          "name": "stderr"
        },
        {
          "output_type": "stream",
          "text": [
            "\tTraining loss: 0.31\n",
            "\n",
            "\n",
            "\n",
            "Validation epoch 3 started.\n"
          ],
          "name": "stdout"
        },
        {
          "output_type": "stream",
          "text": [
            "100%|██████████| 159/159 [00:39<00:00,  4.04it/s]\n",
            "  0%|          | 0/3003 [00:00<?, ?it/s]"
          ],
          "name": "stderr"
        },
        {
          "output_type": "stream",
          "text": [
            "\tAccuracy: 0.95\n",
            "\tValidation Loss: 16.77\n",
            "\n",
            "\n",
            "Training epoch 4 started.\n",
            "\n",
            "\n",
            "\n"
          ],
          "name": "stdout"
        },
        {
          "output_type": "stream",
          "text": [
            "100%|██████████| 3003/3003 [39:11<00:00,  1.28it/s]\n",
            "  0%|          | 0/159 [00:00<?, ?it/s]"
          ],
          "name": "stderr"
        },
        {
          "output_type": "stream",
          "text": [
            "\tTraining loss: 0.31\n",
            "\n",
            "\n",
            "\n",
            "Validation epoch 4 started.\n"
          ],
          "name": "stdout"
        },
        {
          "output_type": "stream",
          "text": [
            "100%|██████████| 159/159 [00:39<00:00,  4.05it/s]"
          ],
          "name": "stderr"
        },
        {
          "output_type": "stream",
          "text": [
            "\tAccuracy: 0.95\n",
            "\tValidation Loss: 16.77\n"
          ],
          "name": "stdout"
        },
        {
          "output_type": "stream",
          "text": [
            "\n"
          ],
          "name": "stderr"
        }
      ]
    },
    {
      "cell_type": "code",
      "metadata": {
        "id": "YtUcuXuXvYoi"
      },
      "source": [
        "torch.save(robertaModel.state_dict(), \"/content/drive/MyDrive/Colab Notebooks/OutputFiles/trainedRobertamodel.pkl\")"
      ],
      "execution_count": null,
      "outputs": []
    },
    {
      "cell_type": "code",
      "metadata": {
        "colab": {
          "base_uri": "https://localhost:8080/",
          "height": 427
        },
        "id": "4Qw27kWlBdIf",
        "outputId": "71ef8c21-ecf6-4019-8463-1199ae238ced"
      },
      "source": [
        "import matplotlib.pyplot as plt\n",
        "%matplotlib inline\n",
        "\n",
        "import seaborn as sns\n",
        "sns.set(style='whitegrid')\n",
        "sns.set(font_scale=1.5)\n",
        "plt.rcParams[\"figure.figsize\"] = (12,6)\n",
        "plt.plot(df_stats['TrainingLoss'], 'b-o', label=\"Training\")\n",
        "plt.plot(df_stats['ValidationLoss'], 'g-o', label=\"Validation\")\n",
        "plt.title(\"Training & Validation Loss\")\n",
        "plt.xlabel(\"Epoch\")\n",
        "plt.ylabel(\"Loss\")\n",
        "plt.legend()\n",
        "plt.xticks([1, 2, 3, 4, 5])\n",
        "plt.show()"
      ],
      "execution_count": null,
      "outputs": [
        {
          "output_type": "display_data",
          "data": {
            "image/png": "[encoded data removed]",
            "text/plain": [
              "<Figure size 864x432 with 1 Axes>"
            ]
          },
          "metadata": {
            "tags": []
          }
        }
      ]
    },
    {
      "cell_type": "code",
      "metadata": {
        "colab": {
          "base_uri": "https://localhost:8080/",
          "height": 427
        },
        "id": "ee5y4HC6dmgJ",
        "outputId": "608186e6-1554-47e6-f528-0906f38cc15c"
      },
      "source": [
        "import matplotlib.pyplot as plt\n",
        "%matplotlib inline\n",
        "\n",
        "import seaborn as sns\n",
        "sns.set(style='whitegrid')\n",
        "sns.set(font_scale=1.5)\n",
        "plt.rcParams[\"figure.figsize\"] = (12,6)\n",
        "plt.plot(df_stats['ValidationAccuracy']*100, 'b-o', label=\"Accuracy\")\n",
        "plt.title(\"Validation Accuracy\")\n",
        "plt.xlabel(\"Epoch\")\n",
        "plt.ylabel(\"Loss\")\n",
        "plt.legend()\n",
        "plt.xticks([1, 2, 3, 4, 5])\n",
        "plt.show()"
      ],
      "execution_count": null,
      "outputs": [
        {
          "output_type": "display_data",
          "data": {
            "image/png": "[encoded data removed]",
            "text/plain": [
              "<Figure size 864x432 with 1 Axes>"
            ]
          },
          "metadata": {
            "tags": []
          }
        }
      ]
    },
    {
      "cell_type": "code",
      "metadata": {
        "colab": {
          "base_uri": "https://localhost:8080/"
        },
        "id": "bEAxvPTqfJ9v",
        "outputId": "3c7550a8-b98a-4f0e-d10a-87c75cc7258f"
      },
      "source": [
        "robertaModel = RobertaForSequenceClassification.from_pretrained(\"roberta-base\",num_labels = 2,output_attentions = False,output_hidden_states = False)\n",
        "robertaTokenizer = RobertaTokenizer.from_pretrained(\"roberta-base\")\n",
        "robertaModel.load_state_dict(torch.load(\"/content/drive/MyDrive/Colab Notebooks/OutputFiles/trainedmodel.pkl\", map_location=device))"
      ],
      "execution_count": null,
      "outputs": [
        {
          "output_type": "stream",
          "text": [
            "Some weights of the model checkpoint at roberta-base were not used when initializing RobertaForSequenceClassification: ['lm_head.layer_norm.bias', 'lm_head.decoder.weight', 'lm_head.bias', 'lm_head.layer_norm.weight', 'lm_head.dense.weight', 'roberta.pooler.dense.bias', 'lm_head.dense.bias', 'roberta.pooler.dense.weight']\n",
            "- This IS expected if you are initializing RobertaForSequenceClassification from the checkpoint of a model trained on another task or with another architecture (e.g. initializing a BertForSequenceClassification model from a BertForPreTraining model).\n",
            "- This IS NOT expected if you are initializing RobertaForSequenceClassification from the checkpoint of a model that you expect to be exactly identical (initializing a BertForSequenceClassification model from a BertForSequenceClassification model).\n",
            "Some weights of RobertaForSequenceClassification were not initialized from the model checkpoint at roberta-base and are newly initialized: ['classifier.dense.bias', 'classifier.dense.weight', 'classifier.out_proj.weight', 'classifier.out_proj.bias']\n",
            "You should probably TRAIN this model on a down-stream task to be able to use it for predictions and inference.\n"
          ],
          "name": "stderr"
        },
        {
          "output_type": "execute_result",
          "data": {
            "text/plain": [
              "<All keys matched successfully>"
            ]
          },
          "metadata": {
            "tags": []
          },
          "execution_count": 10
        }
      ]
    },
    {
      "cell_type": "code",
      "metadata": {
        "id": "Qxlbf8z2fsjv",
        "colab": {
          "base_uri": "https://localhost:8080/",
          "height": 448
        },
        "outputId": "57d1285f-c9c8-4d06-8bb8-434eede3e81d"
      },
      "source": [
        "import seaborn as sn\n",
        "import pandas as pd\n",
        "import matplotlib.pyplot as plt\n",
        "array = [[1280,14], \n",
        "        [3,1263]]\n",
        "df_cm = pd.DataFrame(array, index = [i for i in [\"Actual True\",\"Actual False\"]],\n",
        "                  columns = [i for i in [\"Predicted True\",\"Predicted False\"]])\n",
        "plt.figure(figsize = (10,7))\n",
        "sn.heatmap(df_cm, annot=True, fmt='g')"
      ],
      "execution_count": null,
      "outputs": [
        {
          "output_type": "execute_result",
          "data": {
            "text/plain": [
              "<matplotlib.axes._subplots.AxesSubplot at 0x7f65c6ff4cd0>"
            ]
          },
          "metadata": {
            "tags": []
          },
          "execution_count": 15
        },
        {
          "output_type": "display_data",
          "data": {
            "image/png": "[encoded data removed]",
            "text/plain": [
              "<Figure size 720x504 with 2 Axes>"
            ]
          },
          "metadata": {
            "tags": []
          }
        }
      ]
    }
  ]
}