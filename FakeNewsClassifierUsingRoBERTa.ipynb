{
  "nbformat": 4,
  "nbformat_minor": 0,
  "metadata": {
    "colab": {
      "name": "FakeNewsClassifierUsingRoBERTa.ipynb",
      "provenance": [],
      "collapsed_sections": []
    },
    "kernelspec": {
      "display_name": "Python 3",
      "language": "python",
      "name": "python3"
    },
    "language_info": {
      "codemirror_mode": {
        "name": "ipython",
        "version": 3
      },
      "file_extension": ".py",
      "mimetype": "text/x-python",
      "name": "python",
      "nbconvert_exporter": "python",
      "pygments_lexer": "ipython3",
      "version": "3.7.4"
    },
    "accelerator": "GPU",
    "widgets": {
      "application/vnd.jupyter.widget-state+json": {
        "fc676494c5b246c188e75fd9751ba522": {
          "model_module": "@jupyter-widgets/controls",
          "model_name": "HBoxModel",
          "state": {
            "_view_name": "HBoxView",
            "_dom_classes": [],
            "_model_name": "HBoxModel",
            "_view_module": "@jupyter-widgets/controls",
            "_model_module_version": "1.5.0",
            "_view_count": null,
            "_view_module_version": "1.5.0",
            "box_style": "",
            "layout": "IPY_MODEL_71bcec17633545739b5ff28c024ad127",
            "_model_module": "@jupyter-widgets/controls",
            "children": [
              "IPY_MODEL_9a404c89a61f46eeb4d17e5b60cc5629",
              "IPY_MODEL_e2f1a4386b294459889a07929dddddde"
            ]
          }
        },
        "71bcec17633545739b5ff28c024ad127": {
          "model_module": "@jupyter-widgets/base",
          "model_name": "LayoutModel",
          "state": {
            "_view_name": "LayoutView",
            "grid_template_rows": null,
            "right": null,
            "justify_content": null,
            "_view_module": "@jupyter-widgets/base",
            "overflow": null,
            "_model_module_version": "1.2.0",
            "_view_count": null,
            "flex_flow": null,
            "width": null,
            "min_width": null,
            "border": null,
            "align_items": null,
            "bottom": null,
            "_model_module": "@jupyter-widgets/base",
            "top": null,
            "grid_column": null,
            "overflow_y": null,
            "overflow_x": null,
            "grid_auto_flow": null,
            "grid_area": null,
            "grid_template_columns": null,
            "flex": null,
            "_model_name": "LayoutModel",
            "justify_items": null,
            "grid_row": null,
            "max_height": null,
            "align_content": null,
            "visibility": null,
            "align_self": null,
            "height": null,
            "min_height": null,
            "padding": null,
            "grid_auto_rows": null,
            "grid_gap": null,
            "max_width": null,
            "order": null,
            "_view_module_version": "1.2.0",
            "grid_template_areas": null,
            "object_position": null,
            "object_fit": null,
            "grid_auto_columns": null,
            "margin": null,
            "display": null,
            "left": null
          }
        },
        "9a404c89a61f46eeb4d17e5b60cc5629": {
          "model_module": "@jupyter-widgets/controls",
          "model_name": "FloatProgressModel",
          "state": {
            "_view_name": "ProgressView",
            "style": "IPY_MODEL_a9e435e8d122427b9aee604c7be3d234",
            "_dom_classes": [],
            "description": "Downloading: 100%",
            "_model_name": "FloatProgressModel",
            "bar_style": "success",
            "max": 481,
            "_view_module": "@jupyter-widgets/controls",
            "_model_module_version": "1.5.0",
            "value": 481,
            "_view_count": null,
            "_view_module_version": "1.5.0",
            "orientation": "horizontal",
            "min": 0,
            "description_tooltip": null,
            "_model_module": "@jupyter-widgets/controls",
            "layout": "IPY_MODEL_bba9d80e3e0342f29cf3645d0c1ec00a"
          }
        },
        "e2f1a4386b294459889a07929dddddde": {
          "model_module": "@jupyter-widgets/controls",
          "model_name": "HTMLModel",
          "state": {
            "_view_name": "HTMLView",
            "style": "IPY_MODEL_e47d6028081145c7b2cbf2b9d929c9a1",
            "_dom_classes": [],
            "description": "",
            "_model_name": "HTMLModel",
            "placeholder": "​",
            "_view_module": "@jupyter-widgets/controls",
            "_model_module_version": "1.5.0",
            "value": " 481/481 [00:12&lt;00:00, 39.5B/s]",
            "_view_count": null,
            "_view_module_version": "1.5.0",
            "description_tooltip": null,
            "_model_module": "@jupyter-widgets/controls",
            "layout": "IPY_MODEL_c5bb96ea436340dba145a4d5c3cf5594"
          }
        },
        "a9e435e8d122427b9aee604c7be3d234": {
          "model_module": "@jupyter-widgets/controls",
          "model_name": "ProgressStyleModel",
          "state": {
            "_view_name": "StyleView",
            "_model_name": "ProgressStyleModel",
            "description_width": "initial",
            "_view_module": "@jupyter-widgets/base",
            "_model_module_version": "1.5.0",
            "_view_count": null,
            "_view_module_version": "1.2.0",
            "bar_color": null,
            "_model_module": "@jupyter-widgets/controls"
          }
        },
        "bba9d80e3e0342f29cf3645d0c1ec00a": {
          "model_module": "@jupyter-widgets/base",
          "model_name": "LayoutModel",
          "state": {
            "_view_name": "LayoutView",
            "grid_template_rows": null,
            "right": null,
            "justify_content": null,
            "_view_module": "@jupyter-widgets/base",
            "overflow": null,
            "_model_module_version": "1.2.0",
            "_view_count": null,
            "flex_flow": null,
            "width": null,
            "min_width": null,
            "border": null,
            "align_items": null,
            "bottom": null,
            "_model_module": "@jupyter-widgets/base",
            "top": null,
            "grid_column": null,
            "overflow_y": null,
            "overflow_x": null,
            "grid_auto_flow": null,
            "grid_area": null,
            "grid_template_columns": null,
            "flex": null,
            "_model_name": "LayoutModel",
            "justify_items": null,
            "grid_row": null,
            "max_height": null,
            "align_content": null,
            "visibility": null,
            "align_self": null,
            "height": null,
            "min_height": null,
            "padding": null,
            "grid_auto_rows": null,
            "grid_gap": null,
            "max_width": null,
            "order": null,
            "_view_module_version": "1.2.0",
            "grid_template_areas": null,
            "object_position": null,
            "object_fit": null,
            "grid_auto_columns": null,
            "margin": null,
            "display": null,
            "left": null
          }
        },
        "e47d6028081145c7b2cbf2b9d929c9a1": {
          "model_module": "@jupyter-widgets/controls",
          "model_name": "DescriptionStyleModel",
          "state": {
            "_view_name": "StyleView",
            "_model_name": "DescriptionStyleModel",
            "description_width": "",
            "_view_module": "@jupyter-widgets/base",
            "_model_module_version": "1.5.0",
            "_view_count": null,
            "_view_module_version": "1.2.0",
            "_model_module": "@jupyter-widgets/controls"
          }
        },
        "c5bb96ea436340dba145a4d5c3cf5594": {
          "model_module": "@jupyter-widgets/base",
          "model_name": "LayoutModel",
          "state": {
            "_view_name": "LayoutView",
            "grid_template_rows": null,
            "right": null,
            "justify_content": null,
            "_view_module": "@jupyter-widgets/base",
            "overflow": null,
            "_model_module_version": "1.2.0",
            "_view_count": null,
            "flex_flow": null,
            "width": null,
            "min_width": null,
            "border": null,
            "align_items": null,
            "bottom": null,
            "_model_module": "@jupyter-widgets/base",
            "top": null,
            "grid_column": null,
            "overflow_y": null,
            "overflow_x": null,
            "grid_auto_flow": null,
            "grid_area": null,
            "grid_template_columns": null,
            "flex": null,
            "_model_name": "LayoutModel",
            "justify_items": null,
            "grid_row": null,
            "max_height": null,
            "align_content": null,
            "visibility": null,
            "align_self": null,
            "height": null,
            "min_height": null,
            "padding": null,
            "grid_auto_rows": null,
            "grid_gap": null,
            "max_width": null,
            "order": null,
            "_view_module_version": "1.2.0",
            "grid_template_areas": null,
            "object_position": null,
            "object_fit": null,
            "grid_auto_columns": null,
            "margin": null,
            "display": null,
            "left": null
          }
        },
        "9a5f02af1f2944258851a24ae0517913": {
          "model_module": "@jupyter-widgets/controls",
          "model_name": "HBoxModel",
          "state": {
            "_view_name": "HBoxView",
            "_dom_classes": [],
            "_model_name": "HBoxModel",
            "_view_module": "@jupyter-widgets/controls",
            "_model_module_version": "1.5.0",
            "_view_count": null,
            "_view_module_version": "1.5.0",
            "box_style": "",
            "layout": "IPY_MODEL_9dc90c64eb774024b4f0c296b3313597",
            "_model_module": "@jupyter-widgets/controls",
            "children": [
              "IPY_MODEL_74e86fb72c3c489fa8f683564fc40fe5",
              "IPY_MODEL_d61cbc46b57643aaa7220bd7cd7a0df7"
            ]
          }
        },
        "9dc90c64eb774024b4f0c296b3313597": {
          "model_module": "@jupyter-widgets/base",
          "model_name": "LayoutModel",
          "state": {
            "_view_name": "LayoutView",
            "grid_template_rows": null,
            "right": null,
            "justify_content": null,
            "_view_module": "@jupyter-widgets/base",
            "overflow": null,
            "_model_module_version": "1.2.0",
            "_view_count": null,
            "flex_flow": null,
            "width": null,
            "min_width": null,
            "border": null,
            "align_items": null,
            "bottom": null,
            "_model_module": "@jupyter-widgets/base",
            "top": null,
            "grid_column": null,
            "overflow_y": null,
            "overflow_x": null,
            "grid_auto_flow": null,
            "grid_area": null,
            "grid_template_columns": null,
            "flex": null,
            "_model_name": "LayoutModel",
            "justify_items": null,
            "grid_row": null,
            "max_height": null,
            "align_content": null,
            "visibility": null,
            "align_self": null,
            "height": null,
            "min_height": null,
            "padding": null,
            "grid_auto_rows": null,
            "grid_gap": null,
            "max_width": null,
            "order": null,
            "_view_module_version": "1.2.0",
            "grid_template_areas": null,
            "object_position": null,
            "object_fit": null,
            "grid_auto_columns": null,
            "margin": null,
            "display": null,
            "left": null
          }
        },
        "74e86fb72c3c489fa8f683564fc40fe5": {
          "model_module": "@jupyter-widgets/controls",
          "model_name": "FloatProgressModel",
          "state": {
            "_view_name": "ProgressView",
            "style": "IPY_MODEL_3d496d8ce2254ae59398f92054b0b3bd",
            "_dom_classes": [],
            "description": "Downloading: 100%",
            "_model_name": "FloatProgressModel",
            "bar_style": "success",
            "max": 501200538,
            "_view_module": "@jupyter-widgets/controls",
            "_model_module_version": "1.5.0",
            "value": 501200538,
            "_view_count": null,
            "_view_module_version": "1.5.0",
            "orientation": "horizontal",
            "min": 0,
            "description_tooltip": null,
            "_model_module": "@jupyter-widgets/controls",
            "layout": "IPY_MODEL_5d1f90fbb35c4754a43bf2f36355a569"
          }
        },
        "d61cbc46b57643aaa7220bd7cd7a0df7": {
          "model_module": "@jupyter-widgets/controls",
          "model_name": "HTMLModel",
          "state": {
            "_view_name": "HTMLView",
            "style": "IPY_MODEL_2734d32a887d4e5e9df9884b0b2c94fc",
            "_dom_classes": [],
            "description": "",
            "_model_name": "HTMLModel",
            "placeholder": "​",
            "_view_module": "@jupyter-widgets/controls",
            "_model_module_version": "1.5.0",
            "value": " 501M/501M [00:12&lt;00:00, 41.6MB/s]",
            "_view_count": null,
            "_view_module_version": "1.5.0",
            "description_tooltip": null,
            "_model_module": "@jupyter-widgets/controls",
            "layout": "IPY_MODEL_0594b6486aa1409c8dbf1e0867d7e154"
          }
        },
        "3d496d8ce2254ae59398f92054b0b3bd": {
          "model_module": "@jupyter-widgets/controls",
          "model_name": "ProgressStyleModel",
          "state": {
            "_view_name": "StyleView",
            "_model_name": "ProgressStyleModel",
            "description_width": "initial",
            "_view_module": "@jupyter-widgets/base",
            "_model_module_version": "1.5.0",
            "_view_count": null,
            "_view_module_version": "1.2.0",
            "bar_color": null,
            "_model_module": "@jupyter-widgets/controls"
          }
        },
        "5d1f90fbb35c4754a43bf2f36355a569": {
          "model_module": "@jupyter-widgets/base",
          "model_name": "LayoutModel",
          "state": {
            "_view_name": "LayoutView",
            "grid_template_rows": null,
            "right": null,
            "justify_content": null,
            "_view_module": "@jupyter-widgets/base",
            "overflow": null,
            "_model_module_version": "1.2.0",
            "_view_count": null,
            "flex_flow": null,
            "width": null,
            "min_width": null,
            "border": null,
            "align_items": null,
            "bottom": null,
            "_model_module": "@jupyter-widgets/base",
            "top": null,
            "grid_column": null,
            "overflow_y": null,
            "overflow_x": null,
            "grid_auto_flow": null,
            "grid_area": null,
            "grid_template_columns": null,
            "flex": null,
            "_model_name": "LayoutModel",
            "justify_items": null,
            "grid_row": null,
            "max_height": null,
            "align_content": null,
            "visibility": null,
            "align_self": null,
            "height": null,
            "min_height": null,
            "padding": null,
            "grid_auto_rows": null,
            "grid_gap": null,
            "max_width": null,
            "order": null,
            "_view_module_version": "1.2.0",
            "grid_template_areas": null,
            "object_position": null,
            "object_fit": null,
            "grid_auto_columns": null,
            "margin": null,
            "display": null,
            "left": null
          }
        },
        "2734d32a887d4e5e9df9884b0b2c94fc": {
          "model_module": "@jupyter-widgets/controls",
          "model_name": "DescriptionStyleModel",
          "state": {
            "_view_name": "StyleView",
            "_model_name": "DescriptionStyleModel",
            "description_width": "",
            "_view_module": "@jupyter-widgets/base",
            "_model_module_version": "1.5.0",
            "_view_count": null,
            "_view_module_version": "1.2.0",
            "_model_module": "@jupyter-widgets/controls"
          }
        },
        "0594b6486aa1409c8dbf1e0867d7e154": {
          "model_module": "@jupyter-widgets/base",
          "model_name": "LayoutModel",
          "state": {
            "_view_name": "LayoutView",
            "grid_template_rows": null,
            "right": null,
            "justify_content": null,
            "_view_module": "@jupyter-widgets/base",
            "overflow": null,
            "_model_module_version": "1.2.0",
            "_view_count": null,
            "flex_flow": null,
            "width": null,
            "min_width": null,
            "border": null,
            "align_items": null,
            "bottom": null,
            "_model_module": "@jupyter-widgets/base",
            "top": null,
            "grid_column": null,
            "overflow_y": null,
            "overflow_x": null,
            "grid_auto_flow": null,
            "grid_area": null,
            "grid_template_columns": null,
            "flex": null,
            "_model_name": "LayoutModel",
            "justify_items": null,
            "grid_row": null,
            "max_height": null,
            "align_content": null,
            "visibility": null,
            "align_self": null,
            "height": null,
            "min_height": null,
            "padding": null,
            "grid_auto_rows": null,
            "grid_gap": null,
            "max_width": null,
            "order": null,
            "_view_module_version": "1.2.0",
            "grid_template_areas": null,
            "object_position": null,
            "object_fit": null,
            "grid_auto_columns": null,
            "margin": null,
            "display": null,
            "left": null
          }
        },
        "cf6767b8bdfd4d4496202a343c8d6ba1": {
          "model_module": "@jupyter-widgets/controls",
          "model_name": "HBoxModel",
          "state": {
            "_view_name": "HBoxView",
            "_dom_classes": [],
            "_model_name": "HBoxModel",
            "_view_module": "@jupyter-widgets/controls",
            "_model_module_version": "1.5.0",
            "_view_count": null,
            "_view_module_version": "1.5.0",
            "box_style": "",
            "layout": "IPY_MODEL_a9972f5ac8cd45a79ec9ca8658b3cec5",
            "_model_module": "@jupyter-widgets/controls",
            "children": [
              "IPY_MODEL_ac3d664e71c4499693a4ceebf56d5270",
              "IPY_MODEL_01008fd87629479dba95e56f615bf1d9"
            ]
          }
        },
        "a9972f5ac8cd45a79ec9ca8658b3cec5": {
          "model_module": "@jupyter-widgets/base",
          "model_name": "LayoutModel",
          "state": {
            "_view_name": "LayoutView",
            "grid_template_rows": null,
            "right": null,
            "justify_content": null,
            "_view_module": "@jupyter-widgets/base",
            "overflow": null,
            "_model_module_version": "1.2.0",
            "_view_count": null,
            "flex_flow": null,
            "width": null,
            "min_width": null,
            "border": null,
            "align_items": null,
            "bottom": null,
            "_model_module": "@jupyter-widgets/base",
            "top": null,
            "grid_column": null,
            "overflow_y": null,
            "overflow_x": null,
            "grid_auto_flow": null,
            "grid_area": null,
            "grid_template_columns": null,
            "flex": null,
            "_model_name": "LayoutModel",
            "justify_items": null,
            "grid_row": null,
            "max_height": null,
            "align_content": null,
            "visibility": null,
            "align_self": null,
            "height": null,
            "min_height": null,
            "padding": null,
            "grid_auto_rows": null,
            "grid_gap": null,
            "max_width": null,
            "order": null,
            "_view_module_version": "1.2.0",
            "grid_template_areas": null,
            "object_position": null,
            "object_fit": null,
            "grid_auto_columns": null,
            "margin": null,
            "display": null,
            "left": null
          }
        },
        "ac3d664e71c4499693a4ceebf56d5270": {
          "model_module": "@jupyter-widgets/controls",
          "model_name": "FloatProgressModel",
          "state": {
            "_view_name": "ProgressView",
            "style": "IPY_MODEL_775a49c511f24f88be34dd96ed111c9a",
            "_dom_classes": [],
            "description": "Downloading: 100%",
            "_model_name": "FloatProgressModel",
            "bar_style": "success",
            "max": 898823,
            "_view_module": "@jupyter-widgets/controls",
            "_model_module_version": "1.5.0",
            "value": 898823,
            "_view_count": null,
            "_view_module_version": "1.5.0",
            "orientation": "horizontal",
            "min": 0,
            "description_tooltip": null,
            "_model_module": "@jupyter-widgets/controls",
            "layout": "IPY_MODEL_b1add736b8254a86a8595f30b37ac4b2"
          }
        },
        "01008fd87629479dba95e56f615bf1d9": {
          "model_module": "@jupyter-widgets/controls",
          "model_name": "HTMLModel",
          "state": {
            "_view_name": "HTMLView",
            "style": "IPY_MODEL_7d0ed78bb116420da7487a8eba2db95b",
            "_dom_classes": [],
            "description": "",
            "_model_name": "HTMLModel",
            "placeholder": "​",
            "_view_module": "@jupyter-widgets/controls",
            "_model_module_version": "1.5.0",
            "value": " 899k/899k [00:00&lt;00:00, 2.98MB/s]",
            "_view_count": null,
            "_view_module_version": "1.5.0",
            "description_tooltip": null,
            "_model_module": "@jupyter-widgets/controls",
            "layout": "IPY_MODEL_d99cc41833124903854e527bb911be02"
          }
        },
        "775a49c511f24f88be34dd96ed111c9a": {
          "model_module": "@jupyter-widgets/controls",
          "model_name": "ProgressStyleModel",
          "state": {
            "_view_name": "StyleView",
            "_model_name": "ProgressStyleModel",
            "description_width": "initial",
            "_view_module": "@jupyter-widgets/base",
            "_model_module_version": "1.5.0",
            "_view_count": null,
            "_view_module_version": "1.2.0",
            "bar_color": null,
            "_model_module": "@jupyter-widgets/controls"
          }
        },
        "b1add736b8254a86a8595f30b37ac4b2": {
          "model_module": "@jupyter-widgets/base",
          "model_name": "LayoutModel",
          "state": {
            "_view_name": "LayoutView",
            "grid_template_rows": null,
            "right": null,
            "justify_content": null,
            "_view_module": "@jupyter-widgets/base",
            "overflow": null,
            "_model_module_version": "1.2.0",
            "_view_count": null,
            "flex_flow": null,
            "width": null,
            "min_width": null,
            "border": null,
            "align_items": null,
            "bottom": null,
            "_model_module": "@jupyter-widgets/base",
            "top": null,
            "grid_column": null,
            "overflow_y": null,
            "overflow_x": null,
            "grid_auto_flow": null,
            "grid_area": null,
            "grid_template_columns": null,
            "flex": null,
            "_model_name": "LayoutModel",
            "justify_items": null,
            "grid_row": null,
            "max_height": null,
            "align_content": null,
            "visibility": null,
            "align_self": null,
            "height": null,
            "min_height": null,
            "padding": null,
            "grid_auto_rows": null,
            "grid_gap": null,
            "max_width": null,
            "order": null,
            "_view_module_version": "1.2.0",
            "grid_template_areas": null,
            "object_position": null,
            "object_fit": null,
            "grid_auto_columns": null,
            "margin": null,
            "display": null,
            "left": null
          }
        },
        "7d0ed78bb116420da7487a8eba2db95b": {
          "model_module": "@jupyter-widgets/controls",
          "model_name": "DescriptionStyleModel",
          "state": {
            "_view_name": "StyleView",
            "_model_name": "DescriptionStyleModel",
            "description_width": "",
            "_view_module": "@jupyter-widgets/base",
            "_model_module_version": "1.5.0",
            "_view_count": null,
            "_view_module_version": "1.2.0",
            "_model_module": "@jupyter-widgets/controls"
          }
        },
        "d99cc41833124903854e527bb911be02": {
          "model_module": "@jupyter-widgets/base",
          "model_name": "LayoutModel",
          "state": {
            "_view_name": "LayoutView",
            "grid_template_rows": null,
            "right": null,
            "justify_content": null,
            "_view_module": "@jupyter-widgets/base",
            "overflow": null,
            "_model_module_version": "1.2.0",
            "_view_count": null,
            "flex_flow": null,
            "width": null,
            "min_width": null,
            "border": null,
            "align_items": null,
            "bottom": null,
            "_model_module": "@jupyter-widgets/base",
            "top": null,
            "grid_column": null,
            "overflow_y": null,
            "overflow_x": null,
            "grid_auto_flow": null,
            "grid_area": null,
            "grid_template_columns": null,
            "flex": null,
            "_model_name": "LayoutModel",
            "justify_items": null,
            "grid_row": null,
            "max_height": null,
            "align_content": null,
            "visibility": null,
            "align_self": null,
            "height": null,
            "min_height": null,
            "padding": null,
            "grid_auto_rows": null,
            "grid_gap": null,
            "max_width": null,
            "order": null,
            "_view_module_version": "1.2.0",
            "grid_template_areas": null,
            "object_position": null,
            "object_fit": null,
            "grid_auto_columns": null,
            "margin": null,
            "display": null,
            "left": null
          }
        },
        "ce56e9b7958c4be4b90b508d0ac90dbb": {
          "model_module": "@jupyter-widgets/controls",
          "model_name": "HBoxModel",
          "state": {
            "_view_name": "HBoxView",
            "_dom_classes": [],
            "_model_name": "HBoxModel",
            "_view_module": "@jupyter-widgets/controls",
            "_model_module_version": "1.5.0",
            "_view_count": null,
            "_view_module_version": "1.5.0",
            "box_style": "",
            "layout": "IPY_MODEL_142dd90bb7db4677ac2149f2d7c0baa7",
            "_model_module": "@jupyter-widgets/controls",
            "children": [
              "IPY_MODEL_07633e6371ee44f39b218d9bcaf02ec8",
              "IPY_MODEL_8bfc68dda8714264925c21de88781b6f"
            ]
          }
        },
        "142dd90bb7db4677ac2149f2d7c0baa7": {
          "model_module": "@jupyter-widgets/base",
          "model_name": "LayoutModel",
          "state": {
            "_view_name": "LayoutView",
            "grid_template_rows": null,
            "right": null,
            "justify_content": null,
            "_view_module": "@jupyter-widgets/base",
            "overflow": null,
            "_model_module_version": "1.2.0",
            "_view_count": null,
            "flex_flow": null,
            "width": null,
            "min_width": null,
            "border": null,
            "align_items": null,
            "bottom": null,
            "_model_module": "@jupyter-widgets/base",
            "top": null,
            "grid_column": null,
            "overflow_y": null,
            "overflow_x": null,
            "grid_auto_flow": null,
            "grid_area": null,
            "grid_template_columns": null,
            "flex": null,
            "_model_name": "LayoutModel",
            "justify_items": null,
            "grid_row": null,
            "max_height": null,
            "align_content": null,
            "visibility": null,
            "align_self": null,
            "height": null,
            "min_height": null,
            "padding": null,
            "grid_auto_rows": null,
            "grid_gap": null,
            "max_width": null,
            "order": null,
            "_view_module_version": "1.2.0",
            "grid_template_areas": null,
            "object_position": null,
            "object_fit": null,
            "grid_auto_columns": null,
            "margin": null,
            "display": null,
            "left": null
          }
        },
        "07633e6371ee44f39b218d9bcaf02ec8": {
          "model_module": "@jupyter-widgets/controls",
          "model_name": "FloatProgressModel",
          "state": {
            "_view_name": "ProgressView",
            "style": "IPY_MODEL_9302c45746ec411a9c1130916e292c2e",
            "_dom_classes": [],
            "description": "Downloading: 100%",
            "_model_name": "FloatProgressModel",
            "bar_style": "success",
            "max": 456318,
            "_view_module": "@jupyter-widgets/controls",
            "_model_module_version": "1.5.0",
            "value": 456318,
            "_view_count": null,
            "_view_module_version": "1.5.0",
            "orientation": "horizontal",
            "min": 0,
            "description_tooltip": null,
            "_model_module": "@jupyter-widgets/controls",
            "layout": "IPY_MODEL_dac3792133a3486198dee82e59598520"
          }
        },
        "8bfc68dda8714264925c21de88781b6f": {
          "model_module": "@jupyter-widgets/controls",
          "model_name": "HTMLModel",
          "state": {
            "_view_name": "HTMLView",
            "style": "IPY_MODEL_cc913abbe37b483483fa2c974644d474",
            "_dom_classes": [],
            "description": "",
            "_model_name": "HTMLModel",
            "placeholder": "​",
            "_view_module": "@jupyter-widgets/controls",
            "_model_module_version": "1.5.0",
            "value": " 456k/456k [00:00&lt;00:00, 2.62MB/s]",
            "_view_count": null,
            "_view_module_version": "1.5.0",
            "description_tooltip": null,
            "_model_module": "@jupyter-widgets/controls",
            "layout": "IPY_MODEL_3b75a448efbc4aa484c7302d032748f8"
          }
        },
        "9302c45746ec411a9c1130916e292c2e": {
          "model_module": "@jupyter-widgets/controls",
          "model_name": "ProgressStyleModel",
          "state": {
            "_view_name": "StyleView",
            "_model_name": "ProgressStyleModel",
            "description_width": "initial",
            "_view_module": "@jupyter-widgets/base",
            "_model_module_version": "1.5.0",
            "_view_count": null,
            "_view_module_version": "1.2.0",
            "bar_color": null,
            "_model_module": "@jupyter-widgets/controls"
          }
        },
        "dac3792133a3486198dee82e59598520": {
          "model_module": "@jupyter-widgets/base",
          "model_name": "LayoutModel",
          "state": {
            "_view_name": "LayoutView",
            "grid_template_rows": null,
            "right": null,
            "justify_content": null,
            "_view_module": "@jupyter-widgets/base",
            "overflow": null,
            "_model_module_version": "1.2.0",
            "_view_count": null,
            "flex_flow": null,
            "width": null,
            "min_width": null,
            "border": null,
            "align_items": null,
            "bottom": null,
            "_model_module": "@jupyter-widgets/base",
            "top": null,
            "grid_column": null,
            "overflow_y": null,
            "overflow_x": null,
            "grid_auto_flow": null,
            "grid_area": null,
            "grid_template_columns": null,
            "flex": null,
            "_model_name": "LayoutModel",
            "justify_items": null,
            "grid_row": null,
            "max_height": null,
            "align_content": null,
            "visibility": null,
            "align_self": null,
            "height": null,
            "min_height": null,
            "padding": null,
            "grid_auto_rows": null,
            "grid_gap": null,
            "max_width": null,
            "order": null,
            "_view_module_version": "1.2.0",
            "grid_template_areas": null,
            "object_position": null,
            "object_fit": null,
            "grid_auto_columns": null,
            "margin": null,
            "display": null,
            "left": null
          }
        },
        "cc913abbe37b483483fa2c974644d474": {
          "model_module": "@jupyter-widgets/controls",
          "model_name": "DescriptionStyleModel",
          "state": {
            "_view_name": "StyleView",
            "_model_name": "DescriptionStyleModel",
            "description_width": "",
            "_view_module": "@jupyter-widgets/base",
            "_model_module_version": "1.5.0",
            "_view_count": null,
            "_view_module_version": "1.2.0",
            "_model_module": "@jupyter-widgets/controls"
          }
        },
        "3b75a448efbc4aa484c7302d032748f8": {
          "model_module": "@jupyter-widgets/base",
          "model_name": "LayoutModel",
          "state": {
            "_view_name": "LayoutView",
            "grid_template_rows": null,
            "right": null,
            "justify_content": null,
            "_view_module": "@jupyter-widgets/base",
            "overflow": null,
            "_model_module_version": "1.2.0",
            "_view_count": null,
            "flex_flow": null,
            "width": null,
            "min_width": null,
            "border": null,
            "align_items": null,
            "bottom": null,
            "_model_module": "@jupyter-widgets/base",
            "top": null,
            "grid_column": null,
            "overflow_y": null,
            "overflow_x": null,
            "grid_auto_flow": null,
            "grid_area": null,
            "grid_template_columns": null,
            "flex": null,
            "_model_name": "LayoutModel",
            "justify_items": null,
            "grid_row": null,
            "max_height": null,
            "align_content": null,
            "visibility": null,
            "align_self": null,
            "height": null,
            "min_height": null,
            "padding": null,
            "grid_auto_rows": null,
            "grid_gap": null,
            "max_width": null,
            "order": null,
            "_view_module_version": "1.2.0",
            "grid_template_areas": null,
            "object_position": null,
            "object_fit": null,
            "grid_auto_columns": null,
            "margin": null,
            "display": null,
            "left": null
          }
        },
        "cf504c8540214fe8b82b51a25a043b18": {
          "model_module": "@jupyter-widgets/controls",
          "model_name": "HBoxModel",
          "state": {
            "_view_name": "HBoxView",
            "_dom_classes": [],
            "_model_name": "HBoxModel",
            "_view_module": "@jupyter-widgets/controls",
            "_model_module_version": "1.5.0",
            "_view_count": null,
            "_view_module_version": "1.5.0",
            "box_style": "",
            "layout": "IPY_MODEL_0ec59e2c11704ee2a9a86d7f50ca60c6",
            "_model_module": "@jupyter-widgets/controls",
            "children": [
              "IPY_MODEL_c1e4a673272741d79815907ee1808bf6",
              "IPY_MODEL_88f22dc6c94541a9905d558a5e184ceb"
            ]
          }
        },
        "0ec59e2c11704ee2a9a86d7f50ca60c6": {
          "model_module": "@jupyter-widgets/base",
          "model_name": "LayoutModel",
          "state": {
            "_view_name": "LayoutView",
            "grid_template_rows": null,
            "right": null,
            "justify_content": null,
            "_view_module": "@jupyter-widgets/base",
            "overflow": null,
            "_model_module_version": "1.2.0",
            "_view_count": null,
            "flex_flow": null,
            "width": null,
            "min_width": null,
            "border": null,
            "align_items": null,
            "bottom": null,
            "_model_module": "@jupyter-widgets/base",
            "top": null,
            "grid_column": null,
            "overflow_y": null,
            "overflow_x": null,
            "grid_auto_flow": null,
            "grid_area": null,
            "grid_template_columns": null,
            "flex": null,
            "_model_name": "LayoutModel",
            "justify_items": null,
            "grid_row": null,
            "max_height": null,
            "align_content": null,
            "visibility": null,
            "align_self": null,
            "height": null,
            "min_height": null,
            "padding": null,
            "grid_auto_rows": null,
            "grid_gap": null,
            "max_width": null,
            "order": null,
            "_view_module_version": "1.2.0",
            "grid_template_areas": null,
            "object_position": null,
            "object_fit": null,
            "grid_auto_columns": null,
            "margin": null,
            "display": null,
            "left": null
          }
        },
        "c1e4a673272741d79815907ee1808bf6": {
          "model_module": "@jupyter-widgets/controls",
          "model_name": "FloatProgressModel",
          "state": {
            "_view_name": "ProgressView",
            "style": "IPY_MODEL_b0297b5afb134b98830481a4c317be89",
            "_dom_classes": [],
            "description": "Downloading: 100%",
            "_model_name": "FloatProgressModel",
            "bar_style": "success",
            "max": 1355863,
            "_view_module": "@jupyter-widgets/controls",
            "_model_module_version": "1.5.0",
            "value": 1355863,
            "_view_count": null,
            "_view_module_version": "1.5.0",
            "orientation": "horizontal",
            "min": 0,
            "description_tooltip": null,
            "_model_module": "@jupyter-widgets/controls",
            "layout": "IPY_MODEL_82f396329d6848cea25bded47e0a590f"
          }
        },
        "88f22dc6c94541a9905d558a5e184ceb": {
          "model_module": "@jupyter-widgets/controls",
          "model_name": "HTMLModel",
          "state": {
            "_view_name": "HTMLView",
            "style": "IPY_MODEL_d6f789d3f090407fb088d55a01cc6105",
            "_dom_classes": [],
            "description": "",
            "_model_name": "HTMLModel",
            "placeholder": "​",
            "_view_module": "@jupyter-widgets/controls",
            "_model_module_version": "1.5.0",
            "value": " 1.36M/1.36M [00:00&lt;00:00, 9.51MB/s]",
            "_view_count": null,
            "_view_module_version": "1.5.0",
            "description_tooltip": null,
            "_model_module": "@jupyter-widgets/controls",
            "layout": "IPY_MODEL_585b19a2342e48baa8f65fa10dc97cb0"
          }
        },
        "b0297b5afb134b98830481a4c317be89": {
          "model_module": "@jupyter-widgets/controls",
          "model_name": "ProgressStyleModel",
          "state": {
            "_view_name": "StyleView",
            "_model_name": "ProgressStyleModel",
            "description_width": "initial",
            "_view_module": "@jupyter-widgets/base",
            "_model_module_version": "1.5.0",
            "_view_count": null,
            "_view_module_version": "1.2.0",
            "bar_color": null,
            "_model_module": "@jupyter-widgets/controls"
          }
        },
        "82f396329d6848cea25bded47e0a590f": {
          "model_module": "@jupyter-widgets/base",
          "model_name": "LayoutModel",
          "state": {
            "_view_name": "LayoutView",
            "grid_template_rows": null,
            "right": null,
            "justify_content": null,
            "_view_module": "@jupyter-widgets/base",
            "overflow": null,
            "_model_module_version": "1.2.0",
            "_view_count": null,
            "flex_flow": null,
            "width": null,
            "min_width": null,
            "border": null,
            "align_items": null,
            "bottom": null,
            "_model_module": "@jupyter-widgets/base",
            "top": null,
            "grid_column": null,
            "overflow_y": null,
            "overflow_x": null,
            "grid_auto_flow": null,
            "grid_area": null,
            "grid_template_columns": null,
            "flex": null,
            "_model_name": "LayoutModel",
            "justify_items": null,
            "grid_row": null,
            "max_height": null,
            "align_content": null,
            "visibility": null,
            "align_self": null,
            "height": null,
            "min_height": null,
            "padding": null,
            "grid_auto_rows": null,
            "grid_gap": null,
            "max_width": null,
            "order": null,
            "_view_module_version": "1.2.0",
            "grid_template_areas": null,
            "object_position": null,
            "object_fit": null,
            "grid_auto_columns": null,
            "margin": null,
            "display": null,
            "left": null
          }
        },
        "d6f789d3f090407fb088d55a01cc6105": {
          "model_module": "@jupyter-widgets/controls",
          "model_name": "DescriptionStyleModel",
          "state": {
            "_view_name": "StyleView",
            "_model_name": "DescriptionStyleModel",
            "description_width": "",
            "_view_module": "@jupyter-widgets/base",
            "_model_module_version": "1.5.0",
            "_view_count": null,
            "_view_module_version": "1.2.0",
            "_model_module": "@jupyter-widgets/controls"
          }
        },
        "585b19a2342e48baa8f65fa10dc97cb0": {
          "model_module": "@jupyter-widgets/base",
          "model_name": "LayoutModel",
          "state": {
            "_view_name": "LayoutView",
            "grid_template_rows": null,
            "right": null,
            "justify_content": null,
            "_view_module": "@jupyter-widgets/base",
            "overflow": null,
            "_model_module_version": "1.2.0",
            "_view_count": null,
            "flex_flow": null,
            "width": null,
            "min_width": null,
            "border": null,
            "align_items": null,
            "bottom": null,
            "_model_module": "@jupyter-widgets/base",
            "top": null,
            "grid_column": null,
            "overflow_y": null,
            "overflow_x": null,
            "grid_auto_flow": null,
            "grid_area": null,
            "grid_template_columns": null,
            "flex": null,
            "_model_name": "LayoutModel",
            "justify_items": null,
            "grid_row": null,
            "max_height": null,
            "align_content": null,
            "visibility": null,
            "align_self": null,
            "height": null,
            "min_height": null,
            "padding": null,
            "grid_auto_rows": null,
            "grid_gap": null,
            "max_width": null,
            "order": null,
            "_view_module_version": "1.2.0",
            "grid_template_areas": null,
            "object_position": null,
            "object_fit": null,
            "grid_auto_columns": null,
            "margin": null,
            "display": null,
            "left": null
          }
        }
      }
    }
  },
  "cells": [
    {
      "cell_type": "code",
      "metadata": {
        "colab": {
          "base_uri": "https://localhost:8080/"
        },
        "id": "g06CaeT_n2xh",
        "outputId": "1e6d04c4-c448-4661-f59e-970437713589"
      },
      "source": [
        "from google.colab import drive\n",
        "drive.mount('/content/drive')"
      ],
      "execution_count": 1,
      "outputs": [
        {
          "output_type": "stream",
          "text": [
            "Mounted at /content/drive\n"
          ],
          "name": "stdout"
        }
      ]
    },
    {
      "cell_type": "code",
      "metadata": {
        "colab": {
          "base_uri": "https://localhost:8080/"
        },
        "id": "4TZk_tyfoGHo",
        "outputId": "0fc5ef6f-593c-4ada-bcf6-4117bbe8c33a"
      },
      "source": [
        "!pip install transformers\n",
        "!pip install tqdm"
      ],
      "execution_count": 2,
      "outputs": [
        {
          "output_type": "stream",
          "text": [
            "Collecting transformers\n",
            "\u001b[?25l  Downloading https://files.pythonhosted.org/packages/b0/9e/5b80becd952d5f7250eaf8fc64b957077b12ccfe73e9c03d37146ab29712/transformers-4.6.0-py3-none-any.whl (2.3MB)\n",
            "\u001b[K     |████████████████████████████████| 2.3MB 29.3MB/s \n",
            "\u001b[?25hRequirement already satisfied: requests in /usr/local/lib/python3.7/dist-packages (from transformers) (2.23.0)\n",
            "Requirement already satisfied: tqdm>=4.27 in /usr/local/lib/python3.7/dist-packages (from transformers) (4.41.1)\n",
            "Requirement already satisfied: importlib-metadata; python_version < \"3.8\" in /usr/local/lib/python3.7/dist-packages (from transformers) (4.0.1)\n",
            "Requirement already satisfied: packaging in /usr/local/lib/python3.7/dist-packages (from transformers) (20.9)\n",
            "Requirement already satisfied: numpy>=1.17 in /usr/local/lib/python3.7/dist-packages (from transformers) (1.19.5)\n",
            "Requirement already satisfied: filelock in /usr/local/lib/python3.7/dist-packages (from transformers) (3.0.12)\n",
            "Collecting tokenizers<0.11,>=0.10.1\n",
            "\u001b[?25l  Downloading https://files.pythonhosted.org/packages/ae/04/5b870f26a858552025a62f1649c20d29d2672c02ff3c3fb4c688ca46467a/tokenizers-0.10.2-cp37-cp37m-manylinux2010_x86_64.whl (3.3MB)\n",
            "\u001b[K     |████████████████████████████████| 3.3MB 43.2MB/s \n",
            "\u001b[?25hRequirement already satisfied: regex!=2019.12.17 in /usr/local/lib/python3.7/dist-packages (from transformers) (2019.12.20)\n",
            "Collecting sacremoses\n",
            "\u001b[?25l  Downloading https://files.pythonhosted.org/packages/75/ee/67241dc87f266093c533a2d4d3d69438e57d7a90abb216fa076e7d475d4a/sacremoses-0.0.45-py3-none-any.whl (895kB)\n",
            "\u001b[K     |████████████████████████████████| 901kB 37.1MB/s \n",
            "\u001b[?25hCollecting huggingface-hub==0.0.8\n",
            "  Downloading https://files.pythonhosted.org/packages/a1/88/7b1e45720ecf59c6c6737ff332f41c955963090a18e72acbcbeac6b25e86/huggingface_hub-0.0.8-py3-none-any.whl\n",
            "Requirement already satisfied: certifi>=2017.4.17 in /usr/local/lib/python3.7/dist-packages (from requests->transformers) (2020.12.5)\n",
            "Requirement already satisfied: chardet<4,>=3.0.2 in /usr/local/lib/python3.7/dist-packages (from requests->transformers) (3.0.4)\n",
            "Requirement already satisfied: idna<3,>=2.5 in /usr/local/lib/python3.7/dist-packages (from requests->transformers) (2.10)\n",
            "Requirement already satisfied: urllib3!=1.25.0,!=1.25.1,<1.26,>=1.21.1 in /usr/local/lib/python3.7/dist-packages (from requests->transformers) (1.24.3)\n",
            "Requirement already satisfied: typing-extensions>=3.6.4; python_version < \"3.8\" in /usr/local/lib/python3.7/dist-packages (from importlib-metadata; python_version < \"3.8\"->transformers) (3.7.4.3)\n",
            "Requirement already satisfied: zipp>=0.5 in /usr/local/lib/python3.7/dist-packages (from importlib-metadata; python_version < \"3.8\"->transformers) (3.4.1)\n",
            "Requirement already satisfied: pyparsing>=2.0.2 in /usr/local/lib/python3.7/dist-packages (from packaging->transformers) (2.4.7)\n",
            "Requirement already satisfied: joblib in /usr/local/lib/python3.7/dist-packages (from sacremoses->transformers) (1.0.1)\n",
            "Requirement already satisfied: six in /usr/local/lib/python3.7/dist-packages (from sacremoses->transformers) (1.15.0)\n",
            "Requirement already satisfied: click in /usr/local/lib/python3.7/dist-packages (from sacremoses->transformers) (7.1.2)\n",
            "Installing collected packages: tokenizers, sacremoses, huggingface-hub, transformers\n",
            "Successfully installed huggingface-hub-0.0.8 sacremoses-0.0.45 tokenizers-0.10.2 transformers-4.6.0\n",
            "Requirement already satisfied: tqdm in /usr/local/lib/python3.7/dist-packages (4.41.1)\n"
          ],
          "name": "stdout"
        }
      ]
    },
    {
      "cell_type": "code",
      "metadata": {
        "id": "qeeDEKvJnuiz"
      },
      "source": [
        "import torch\n",
        "import pandas as pd\n",
        "import numpy as np\n",
        "from transformers import RobertaTokenizer, AdamW, get_linear_schedule_with_warmup,RobertaForSequenceClassification\n",
        "from torch.utils.data import TensorDataset, random_split\n",
        "from torch.utils.data import DataLoader, RandomSampler, SequentialSampler\n",
        "import time\n",
        "import datetime\n",
        "import random\n",
        "from tqdm import tqdm"
      ],
      "execution_count": 3,
      "outputs": []
    },
    {
      "cell_type": "code",
      "metadata": {
        "id": "_GFhwXcBnui7"
      },
      "source": [
        "trainNews = pd.read_csv('/content/drive/MyDrive/Colab Notebooks/OutputFiles/TrainNews.csv')"
      ],
      "execution_count": 4,
      "outputs": []
    },
    {
      "cell_type": "code",
      "metadata": {
        "colab": {
          "base_uri": "https://localhost:8080/",
          "height": 419
        },
        "id": "08__5Idknui7",
        "outputId": "8a67b670-059a-45fb-85e6-68199bd2da39"
      },
      "source": [
        "trainNews"
      ],
      "execution_count": 5,
      "outputs": [
        {
          "output_type": "execute_result",
          "data": {
            "text/html": [
              "<div>\n",
              "<style scoped>\n",
              "    .dataframe tbody tr th:only-of-type {\n",
              "        vertical-align: middle;\n",
              "    }\n",
              "\n",
              "    .dataframe tbody tr th {\n",
              "        vertical-align: top;\n",
              "    }\n",
              "\n",
              "    .dataframe thead th {\n",
              "        text-align: right;\n",
              "    }\n",
              "</style>\n",
              "<table border=\"1\" class=\"dataframe\">\n",
              "  <thead>\n",
              "    <tr style=\"text-align: right;\">\n",
              "      <th></th>\n",
              "      <th>label</th>\n",
              "      <th>text</th>\n",
              "      <th>title</th>\n",
              "    </tr>\n",
              "  </thead>\n",
              "  <tbody>\n",
              "    <tr>\n",
              "      <th>0</th>\n",
              "      <td>1</td>\n",
              "      <td>the head of a conservative republican faction ...</td>\n",
              "      <td>as u s budget fight looms republicans flip the...</td>\n",
              "    </tr>\n",
              "    <tr>\n",
              "      <th>1</th>\n",
              "      <td>1</td>\n",
              "      <td>transgender people will be allowed for the fir...</td>\n",
              "      <td>u s military to accept transgender recruits on...</td>\n",
              "    </tr>\n",
              "    <tr>\n",
              "      <th>2</th>\n",
              "      <td>1</td>\n",
              "      <td>the special counsel investigation of links bet...</td>\n",
              "      <td>senior u s republican senator let mr mueller d...</td>\n",
              "    </tr>\n",
              "    <tr>\n",
              "      <th>3</th>\n",
              "      <td>1</td>\n",
              "      <td>trump campaign adviser george papadopoulos tol...</td>\n",
              "      <td>fbi russia probe helped by australian diplomat...</td>\n",
              "    </tr>\n",
              "    <tr>\n",
              "      <th>4</th>\n",
              "      <td>1</td>\n",
              "      <td>president donald trump called on the u s posta...</td>\n",
              "      <td>trump wants postal service to charge much more...</td>\n",
              "    </tr>\n",
              "    <tr>\n",
              "      <th>...</th>\n",
              "      <td>...</td>\n",
              "      <td>...</td>\n",
              "      <td>...</td>\n",
              "    </tr>\n",
              "    <tr>\n",
              "      <th>51192</th>\n",
              "      <td>1</td>\n",
              "      <td>the state department told the republican natio...</td>\n",
              "      <td>state department says it can t find emails fro...</td>\n",
              "    </tr>\n",
              "    <tr>\n",
              "      <th>51193</th>\n",
              "      <td>0</td>\n",
              "      <td>the p in pbs should stand for plutocratic or p...</td>\n",
              "      <td>the p in pbs should stand for plutocratic or p...</td>\n",
              "    </tr>\n",
              "    <tr>\n",
              "      <th>51194</th>\n",
              "      <td>0</td>\n",
              "      <td>anti trump protesters are tools of the oligarc...</td>\n",
              "      <td>anti trump protesters are tools of the oligarc...</td>\n",
              "    </tr>\n",
              "    <tr>\n",
              "      <th>51195</th>\n",
              "      <td>1</td>\n",
              "      <td>addis ababa ethiopia president obama convened ...</td>\n",
              "      <td>in ethiopia obama seeks progress on peace secu...</td>\n",
              "    </tr>\n",
              "    <tr>\n",
              "      <th>51196</th>\n",
              "      <td>1</td>\n",
              "      <td>jeb bush is suddenly attacking trump here s wh...</td>\n",
              "      <td>jeb bush is suddenly attacking trump here s wh...</td>\n",
              "    </tr>\n",
              "  </tbody>\n",
              "</table>\n",
              "<p>51197 rows × 3 columns</p>\n",
              "</div>"
            ],
            "text/plain": [
              "       label  ...                                              title\n",
              "0          1  ...  as u s budget fight looms republicans flip the...\n",
              "1          1  ...  u s military to accept transgender recruits on...\n",
              "2          1  ...  senior u s republican senator let mr mueller d...\n",
              "3          1  ...  fbi russia probe helped by australian diplomat...\n",
              "4          1  ...  trump wants postal service to charge much more...\n",
              "...      ...  ...                                                ...\n",
              "51192      1  ...  state department says it can t find emails fro...\n",
              "51193      0  ...  the p in pbs should stand for plutocratic or p...\n",
              "51194      0  ...  anti trump protesters are tools of the oligarc...\n",
              "51195      1  ...  in ethiopia obama seeks progress on peace secu...\n",
              "51196      1  ...  jeb bush is suddenly attacking trump here s wh...\n",
              "\n",
              "[51197 rows x 3 columns]"
            ]
          },
          "metadata": {
            "tags": []
          },
          "execution_count": 5
        }
      ]
    },
    {
      "cell_type": "code",
      "metadata": {
        "id": "m6bslHkSnui9",
        "colab": {
          "base_uri": "https://localhost:8080/"
        },
        "outputId": "5831d696-89e3-4c83-ad9d-16f26dacf432"
      },
      "source": [
        "trainNews = trainNews[trainNews.text.str.len() >= 5]\n",
        "\n",
        "trainNews['fullNewsText'] = trainNews['title'] + \". \" + trainNews['text']"
      ],
      "execution_count": 6,
      "outputs": [
        {
          "output_type": "stream",
          "text": [
            "/usr/local/lib/python3.7/dist-packages/ipykernel_launcher.py:3: SettingWithCopyWarning: \n",
            "A value is trying to be set on a copy of a slice from a DataFrame.\n",
            "Try using .loc[row_indexer,col_indexer] = value instead\n",
            "\n",
            "See the caveats in the documentation: https://pandas.pydata.org/pandas-docs/stable/user_guide/indexing.html#returning-a-view-versus-a-copy\n",
            "  This is separate from the ipykernel package so we can avoid doing imports until\n"
          ],
          "name": "stderr"
        }
      ]
    },
    {
      "cell_type": "code",
      "metadata": {
        "colab": {
          "base_uri": "https://localhost:8080/",
          "height": 419
        },
        "id": "kOqyivwlnui9",
        "outputId": "2fb2a0d5-0b90-431d-9936-8ee91cc6495b"
      },
      "source": [
        "trainNews"
      ],
      "execution_count": 7,
      "outputs": [
        {
          "output_type": "execute_result",
          "data": {
            "text/html": [
              "<div>\n",
              "<style scoped>\n",
              "    .dataframe tbody tr th:only-of-type {\n",
              "        vertical-align: middle;\n",
              "    }\n",
              "\n",
              "    .dataframe tbody tr th {\n",
              "        vertical-align: top;\n",
              "    }\n",
              "\n",
              "    .dataframe thead th {\n",
              "        text-align: right;\n",
              "    }\n",
              "</style>\n",
              "<table border=\"1\" class=\"dataframe\">\n",
              "  <thead>\n",
              "    <tr style=\"text-align: right;\">\n",
              "      <th></th>\n",
              "      <th>label</th>\n",
              "      <th>text</th>\n",
              "      <th>title</th>\n",
              "      <th>fullNewsText</th>\n",
              "    </tr>\n",
              "  </thead>\n",
              "  <tbody>\n",
              "    <tr>\n",
              "      <th>0</th>\n",
              "      <td>1</td>\n",
              "      <td>the head of a conservative republican faction ...</td>\n",
              "      <td>as u s budget fight looms republicans flip the...</td>\n",
              "      <td>as u s budget fight looms republicans flip the...</td>\n",
              "    </tr>\n",
              "    <tr>\n",
              "      <th>1</th>\n",
              "      <td>1</td>\n",
              "      <td>transgender people will be allowed for the fir...</td>\n",
              "      <td>u s military to accept transgender recruits on...</td>\n",
              "      <td>u s military to accept transgender recruits on...</td>\n",
              "    </tr>\n",
              "    <tr>\n",
              "      <th>2</th>\n",
              "      <td>1</td>\n",
              "      <td>the special counsel investigation of links bet...</td>\n",
              "      <td>senior u s republican senator let mr mueller d...</td>\n",
              "      <td>senior u s republican senator let mr mueller d...</td>\n",
              "    </tr>\n",
              "    <tr>\n",
              "      <th>3</th>\n",
              "      <td>1</td>\n",
              "      <td>trump campaign adviser george papadopoulos tol...</td>\n",
              "      <td>fbi russia probe helped by australian diplomat...</td>\n",
              "      <td>fbi russia probe helped by australian diplomat...</td>\n",
              "    </tr>\n",
              "    <tr>\n",
              "      <th>4</th>\n",
              "      <td>1</td>\n",
              "      <td>president donald trump called on the u s posta...</td>\n",
              "      <td>trump wants postal service to charge much more...</td>\n",
              "      <td>trump wants postal service to charge much more...</td>\n",
              "    </tr>\n",
              "    <tr>\n",
              "      <th>...</th>\n",
              "      <td>...</td>\n",
              "      <td>...</td>\n",
              "      <td>...</td>\n",
              "      <td>...</td>\n",
              "    </tr>\n",
              "    <tr>\n",
              "      <th>51192</th>\n",
              "      <td>1</td>\n",
              "      <td>the state department told the republican natio...</td>\n",
              "      <td>state department says it can t find emails fro...</td>\n",
              "      <td>state department says it can t find emails fro...</td>\n",
              "    </tr>\n",
              "    <tr>\n",
              "      <th>51193</th>\n",
              "      <td>0</td>\n",
              "      <td>the p in pbs should stand for plutocratic or p...</td>\n",
              "      <td>the p in pbs should stand for plutocratic or p...</td>\n",
              "      <td>the p in pbs should stand for plutocratic or p...</td>\n",
              "    </tr>\n",
              "    <tr>\n",
              "      <th>51194</th>\n",
              "      <td>0</td>\n",
              "      <td>anti trump protesters are tools of the oligarc...</td>\n",
              "      <td>anti trump protesters are tools of the oligarc...</td>\n",
              "      <td>anti trump protesters are tools of the oligarc...</td>\n",
              "    </tr>\n",
              "    <tr>\n",
              "      <th>51195</th>\n",
              "      <td>1</td>\n",
              "      <td>addis ababa ethiopia president obama convened ...</td>\n",
              "      <td>in ethiopia obama seeks progress on peace secu...</td>\n",
              "      <td>in ethiopia obama seeks progress on peace secu...</td>\n",
              "    </tr>\n",
              "    <tr>\n",
              "      <th>51196</th>\n",
              "      <td>1</td>\n",
              "      <td>jeb bush is suddenly attacking trump here s wh...</td>\n",
              "      <td>jeb bush is suddenly attacking trump here s wh...</td>\n",
              "      <td>jeb bush is suddenly attacking trump here s wh...</td>\n",
              "    </tr>\n",
              "  </tbody>\n",
              "</table>\n",
              "<p>50564 rows × 4 columns</p>\n",
              "</div>"
            ],
            "text/plain": [
              "       label  ...                                       fullNewsText\n",
              "0          1  ...  as u s budget fight looms republicans flip the...\n",
              "1          1  ...  u s military to accept transgender recruits on...\n",
              "2          1  ...  senior u s republican senator let mr mueller d...\n",
              "3          1  ...  fbi russia probe helped by australian diplomat...\n",
              "4          1  ...  trump wants postal service to charge much more...\n",
              "...      ...  ...                                                ...\n",
              "51192      1  ...  state department says it can t find emails fro...\n",
              "51193      0  ...  the p in pbs should stand for plutocratic or p...\n",
              "51194      0  ...  anti trump protesters are tools of the oligarc...\n",
              "51195      1  ...  in ethiopia obama seeks progress on peace secu...\n",
              "51196      1  ...  jeb bush is suddenly attacking trump here s wh...\n",
              "\n",
              "[50564 rows x 4 columns]"
            ]
          },
          "metadata": {
            "tags": []
          },
          "execution_count": 7
        }
      ]
    },
    {
      "cell_type": "code",
      "metadata": {
        "id": "h0RjTS9Knui9"
      },
      "source": [
        "trainNews = trainNews.drop(['title', 'text'], axis=1)"
      ],
      "execution_count": 8,
      "outputs": []
    },
    {
      "cell_type": "code",
      "metadata": {
        "id": "cVLGAMdJnui-"
      },
      "source": [
        "trainNews.to_csv(\"/content/drive/MyDrive/Colab Notebooks/OutputFiles/FinalTrainNews.csv\", index=False)"
      ],
      "execution_count": 9,
      "outputs": []
    },
    {
      "cell_type": "code",
      "metadata": {
        "id": "ZGba6xydvwKo"
      },
      "source": [
        "trainNews = trainNews.dropna()"
      ],
      "execution_count": 10,
      "outputs": []
    },
    {
      "cell_type": "code",
      "metadata": {
        "id": "fW9CAdGanui-"
      },
      "source": [
        "fullNewsSentences = trainNews[\"fullNewsText\"].values\n",
        "targetLabels = trainNews[\"label\"].values"
      ],
      "execution_count": 11,
      "outputs": []
    },
    {
      "cell_type": "code",
      "metadata": {
        "colab": {
          "base_uri": "https://localhost:8080/",
          "height": 384,
          "referenced_widgets": [
            "fc676494c5b246c188e75fd9751ba522",
            "71bcec17633545739b5ff28c024ad127",
            "9a404c89a61f46eeb4d17e5b60cc5629",
            "e2f1a4386b294459889a07929dddddde",
            "a9e435e8d122427b9aee604c7be3d234",
            "bba9d80e3e0342f29cf3645d0c1ec00a",
            "e47d6028081145c7b2cbf2b9d929c9a1",
            "c5bb96ea436340dba145a4d5c3cf5594",
            "9a5f02af1f2944258851a24ae0517913",
            "9dc90c64eb774024b4f0c296b3313597",
            "74e86fb72c3c489fa8f683564fc40fe5",
            "d61cbc46b57643aaa7220bd7cd7a0df7",
            "3d496d8ce2254ae59398f92054b0b3bd",
            "5d1f90fbb35c4754a43bf2f36355a569",
            "2734d32a887d4e5e9df9884b0b2c94fc",
            "0594b6486aa1409c8dbf1e0867d7e154",
            "cf6767b8bdfd4d4496202a343c8d6ba1",
            "a9972f5ac8cd45a79ec9ca8658b3cec5",
            "ac3d664e71c4499693a4ceebf56d5270",
            "01008fd87629479dba95e56f615bf1d9",
            "775a49c511f24f88be34dd96ed111c9a",
            "b1add736b8254a86a8595f30b37ac4b2",
            "7d0ed78bb116420da7487a8eba2db95b",
            "d99cc41833124903854e527bb911be02",
            "ce56e9b7958c4be4b90b508d0ac90dbb",
            "142dd90bb7db4677ac2149f2d7c0baa7",
            "07633e6371ee44f39b218d9bcaf02ec8",
            "8bfc68dda8714264925c21de88781b6f",
            "9302c45746ec411a9c1130916e292c2e",
            "dac3792133a3486198dee82e59598520",
            "cc913abbe37b483483fa2c974644d474",
            "3b75a448efbc4aa484c7302d032748f8",
            "cf504c8540214fe8b82b51a25a043b18",
            "0ec59e2c11704ee2a9a86d7f50ca60c6",
            "c1e4a673272741d79815907ee1808bf6",
            "88f22dc6c94541a9905d558a5e184ceb",
            "b0297b5afb134b98830481a4c317be89",
            "82f396329d6848cea25bded47e0a590f",
            "d6f789d3f090407fb088d55a01cc6105",
            "585b19a2342e48baa8f65fa10dc97cb0"
          ]
        },
        "id": "JHoqpdP0nui_",
        "outputId": "d5fa63a7-8390-4c66-e51e-d9beaa7a2a2e"
      },
      "source": [
        "robertaModel = RobertaForSequenceClassification.from_pretrained(\"roberta-base\",\n",
        "                                                                    num_labels = 2,\n",
        "                                                                    output_attentions = False,\n",
        "                                                                    output_hidden_states = False)\n",
        "robertaTokenizer = RobertaTokenizer.from_pretrained(\"roberta-base\")\n",
        "\n",
        "if torch.cuda.is_available():\n",
        "    device = torch.device('cuda:0')\n",
        "    torch.backends.cudnn.deterministic = True\n",
        "    torch.backends.cudnn.benchmark = False\n",
        "    robertaModel.cuda()\n",
        "else:\n",
        "    device = torch.device('cpu')\n",
        "print(device)"
      ],
      "execution_count": 12,
      "outputs": [
        {
          "output_type": "display_data",
          "data": {
            "application/vnd.jupyter.widget-view+json": {
              "model_id": "fc676494c5b246c188e75fd9751ba522",
              "version_minor": 0,
              "version_major": 2
            },
            "text/plain": [
              "HBox(children=(FloatProgress(value=0.0, description='Downloading', max=481.0, style=ProgressStyle(description_…"
            ]
          },
          "metadata": {
            "tags": []
          }
        },
        {
          "output_type": "stream",
          "text": [
            "\n"
          ],
          "name": "stdout"
        },
        {
          "output_type": "display_data",
          "data": {
            "application/vnd.jupyter.widget-view+json": {
              "model_id": "9a5f02af1f2944258851a24ae0517913",
              "version_minor": 0,
              "version_major": 2
            },
            "text/plain": [
              "HBox(children=(FloatProgress(value=0.0, description='Downloading', max=501200538.0, style=ProgressStyle(descri…"
            ]
          },
          "metadata": {
            "tags": []
          }
        },
        {
          "output_type": "stream",
          "text": [
            "\n"
          ],
          "name": "stdout"
        },
        {
          "output_type": "stream",
          "text": [
            "Some weights of the model checkpoint at roberta-base were not used when initializing RobertaForSequenceClassification: ['lm_head.bias', 'lm_head.layer_norm.weight', 'roberta.pooler.dense.weight', 'lm_head.decoder.weight', 'lm_head.dense.weight', 'lm_head.layer_norm.bias', 'roberta.pooler.dense.bias', 'lm_head.dense.bias']\n",
            "- This IS expected if you are initializing RobertaForSequenceClassification from the checkpoint of a model trained on another task or with another architecture (e.g. initializing a BertForSequenceClassification model from a BertForPreTraining model).\n",
            "- This IS NOT expected if you are initializing RobertaForSequenceClassification from the checkpoint of a model that you expect to be exactly identical (initializing a BertForSequenceClassification model from a BertForSequenceClassification model).\n",
            "Some weights of RobertaForSequenceClassification were not initialized from the model checkpoint at roberta-base and are newly initialized: ['classifier.out_proj.bias', 'classifier.dense.weight', 'classifier.out_proj.weight', 'classifier.dense.bias']\n",
            "You should probably TRAIN this model on a down-stream task to be able to use it for predictions and inference.\n"
          ],
          "name": "stderr"
        },
        {
          "output_type": "display_data",
          "data": {
            "application/vnd.jupyter.widget-view+json": {
              "model_id": "cf6767b8bdfd4d4496202a343c8d6ba1",
              "version_minor": 0,
              "version_major": 2
            },
            "text/plain": [
              "HBox(children=(FloatProgress(value=0.0, description='Downloading', max=898823.0, style=ProgressStyle(descripti…"
            ]
          },
          "metadata": {
            "tags": []
          }
        },
        {
          "output_type": "stream",
          "text": [
            "\n"
          ],
          "name": "stdout"
        },
        {
          "output_type": "display_data",
          "data": {
            "application/vnd.jupyter.widget-view+json": {
              "model_id": "ce56e9b7958c4be4b90b508d0ac90dbb",
              "version_minor": 0,
              "version_major": 2
            },
            "text/plain": [
              "HBox(children=(FloatProgress(value=0.0, description='Downloading', max=456318.0, style=ProgressStyle(descripti…"
            ]
          },
          "metadata": {
            "tags": []
          }
        },
        {
          "output_type": "stream",
          "text": [
            "\n"
          ],
          "name": "stdout"
        },
        {
          "output_type": "display_data",
          "data": {
            "application/vnd.jupyter.widget-view+json": {
              "model_id": "cf504c8540214fe8b82b51a25a043b18",
              "version_minor": 0,
              "version_major": 2
            },
            "text/plain": [
              "HBox(children=(FloatProgress(value=0.0, description='Downloading', max=1355863.0, style=ProgressStyle(descript…"
            ]
          },
          "metadata": {
            "tags": []
          }
        },
        {
          "output_type": "stream",
          "text": [
            "\n",
            "cuda:0\n"
          ],
          "name": "stdout"
        }
      ]
    },
    {
      "cell_type": "code",
      "metadata": {
        "id": "zCNOZ2hhnui_"
      },
      "source": [
        "def convertToTensor(newsSentences,labels):\n",
        "    idsRoberta = []\n",
        "    robertaMasks = []\n",
        "    for news in newsSentences:\n",
        "        robertaEncoded = robertaTokenizer.encode_plus(news,add_special_tokens = True,\n",
        "                                                      max_length = 256,\n",
        "                                                      truncation=True,\n",
        "                                                      padding='max_length',\n",
        "                                                      return_attention_mask = True,\n",
        "                                                      return_tensors = 'pt')\n",
        "        idsRoberta.append(robertaEncoded['input_ids'])\n",
        "        robertaMasks.append(robertaEncoded['attention_mask'])\n",
        "    idsRoberta = torch.cat(idsRoberta, dim=0)\n",
        "    robertaMasks = torch.cat(robertaMasks, dim=0)\n",
        "    labels = torch.tensor(labels)\n",
        "    tensonDataset = TensorDataset(idsRoberta, robertaMasks, labels)\n",
        "    return tensonDataset"
      ],
      "execution_count": 13,
      "outputs": []
    },
    {
      "cell_type": "code",
      "metadata": {
        "id": "j9TLjEu4nujA"
      },
      "source": [
        "torch.manual_seed(0)\n",
        "fullTensor = convertToTensor(fullNewsSentences,targetLabels)"
      ],
      "execution_count": 14,
      "outputs": []
    },
    {
      "cell_type": "code",
      "metadata": {
        "id": "06aXdH-DhyFj"
      },
      "source": [
        "trainSetSize = int(0.95*len(fullTensor))\n",
        "validSetSize = len(fullTensor) - trainSetSize"
      ],
      "execution_count": 15,
      "outputs": []
    },
    {
      "cell_type": "code",
      "metadata": {
        "id": "exHJKc84jMoo"
      },
      "source": [
        "trainTensor, validTensor = random_split(fullTensor, [trainSetSize, validSetSize])"
      ],
      "execution_count": 16,
      "outputs": []
    },
    {
      "cell_type": "code",
      "metadata": {
        "id": "0ZMo6k-RnujA"
      },
      "source": [
        "batchSize = 16\n",
        "trainDataloader = DataLoader(trainTensor,sampler = RandomSampler(trainTensor),\n",
        "                                      batch_size = batchSize)\n",
        "validationDataloader = DataLoader(validTensor,sampler = SequentialSampler(validTensor)\n",
        "                                  ,batch_size = batchSize)"
      ],
      "execution_count": 17,
      "outputs": []
    },
    {
      "cell_type": "code",
      "metadata": {
        "id": "OWBOYMSMnujA"
      },
      "source": [
        "optimizer = AdamW(robertaModel.parameters(),lr = 5e-5,eps = 1e-8)"
      ],
      "execution_count": 18,
      "outputs": []
    },
    {
      "cell_type": "code",
      "metadata": {
        "id": "LKp4176nnujA"
      },
      "source": [
        "epochs = 4\n",
        "totalSteps = len(trainDataloader) * epochs\n",
        "scheduler = get_linear_schedule_with_warmup(optimizer, num_warmup_steps = 0,\n",
        "                                                    num_training_steps = totalSteps)"
      ],
      "execution_count": 19,
      "outputs": []
    },
    {
      "cell_type": "code",
      "metadata": {
        "id": "Yq_sNw_tnujB"
      },
      "source": [
        "def getAccuracy(preds, labels):\n",
        "    flatPredictions = np.argmax(preds, axis=1).flatten()\n",
        "    flatLabels = labels.flatten()\n",
        "    return np.sum(flatPredictions == flatLabels) / len(flatLabels)"
      ],
      "execution_count": 20,
      "outputs": []
    },
    {
      "cell_type": "code",
      "metadata": {
        "colab": {
          "base_uri": "https://localhost:8080/"
        },
        "id": "jS09DEx-nujB",
        "outputId": "c6b36444-3182-4390-c2b6-205f57a79173"
      },
      "source": [
        "seed_val = 100\n",
        "\n",
        "random.seed(seed_val)\n",
        "np.random.seed(seed_val)\n",
        "torch.manual_seed(seed_val)\n",
        "torch.cuda.manual_seed_all(seed_val)\n",
        "trainingData = []\n",
        "\n",
        "for epochNumber in range(0, epochs):\n",
        "    print(\"\\n\\nTraining epoch \"+str(epochNumber+1)+\" started.\\n\\n\\n\")\n",
        "    traininglossTotal = 0\n",
        "    robertaModel.train()\n",
        "    pbar = tqdm(total=len(trainDataloader), position=0, leave=True)\n",
        "    for step, batch in enumerate(trainDataloader):\n",
        "        pbar.update(1)\n",
        "        robertaModel.zero_grad()        \n",
        "        trainData = robertaModel(batch[0].to(device),attention_mask=batch[1].to(device),labels=batch[2].to(device))\n",
        "        loss = trainData[\"loss\"]\n",
        "        traininglossTotal += loss.item()\n",
        "        loss.backward()\n",
        "        torch.nn.utils.clip_grad_norm_(robertaModel.parameters(), 1.0)\n",
        "        optimizer.step()\n",
        "        scheduler.step()\n",
        "    avgTrainLoss = traininglossTotal / len(trainDataloader)\n",
        "    pbar.close()\n",
        "    print(\"\\n\\n\\tTraining loss: \"+str(round((avgTrainLoss),2)))\n",
        "    \n",
        "    #changing to Validation mode\n",
        "    print(\"\\n\\n\\nValidation epoch \"+str(epochNumber+1)+\" started.\")\n",
        "    robertaModel.eval()\n",
        "    validationAccuracy = 0\n",
        "    validationLossTotal = 0\n",
        "    pbar = tqdm(total=len(validationDataloader), position=0, leave=True)\n",
        "    for step, batch in enumerate(validationDataloader):\n",
        "        pbar.update(1)\n",
        "        label = batch[2].to(device)\n",
        "        with torch.no_grad():        \n",
        "          val = robertaModel(batch[0].to(device),attention_mask=batch[1].to(device),labels=batch[2].to(device))\n",
        "          loss = val[\"loss\"]\n",
        "          logits = val[\"logits\"]\n",
        "        validationLossTotal += loss.item()\n",
        "        logits = logits.detach().cpu().numpy()\n",
        "        labelsIds = label.to('cpu').numpy()\n",
        "        validationAccuracy += getAccuracy(logits, labelsIds)\n",
        "    validationAccuracyAvg = validationAccuracy / len(validationDataloader)\n",
        "    pbar.close()\n",
        "    print(\"\\n\\n\\tAccuracy: \"+str(round((validationAccuracyAvg),2)))\n",
        "    validateLossAvg = validationLossTotal / len(validationDataloader)\n",
        "    trainingData.append(\n",
        "        {\n",
        "            'epoch': epochNumber + 1,\n",
        "            'TrainingLoss': avgTrainLoss,\n",
        "            'ValidationLoss': validateLossAvg,\n",
        "            'ValidationAccuracy': validationAccuracyAvg\n",
        "        }\n",
        "    )\n",
        "    print(\"\\tValidation Loss: \"+str(round((validateLossAvg),2)))"
      ],
      "execution_count": 22,
      "outputs": [
        {
          "output_type": "stream",
          "text": [
            "\r  0%|          | 0/3003 [00:00<?, ?it/s]"
          ],
          "name": "stderr"
        },
        {
          "output_type": "stream",
          "text": [
            "\n",
            "\n",
            "Training epoch 1 started.\n",
            "\n",
            "\n",
            "\n"
          ],
          "name": "stdout"
        },
        {
          "output_type": "stream",
          "text": [
            "100%|██████████| 3003/3003 [39:55<00:00,  1.25it/s]\n",
            "  0%|          | 0/159 [00:00<?, ?it/s]"
          ],
          "name": "stderr"
        },
        {
          "output_type": "stream",
          "text": [
            "\n",
            "\n",
            "\tTraining loss: 0.08\n",
            "\n",
            "\n",
            "\n",
            "Validation epoch 1 started.\n"
          ],
          "name": "stdout"
        },
        {
          "output_type": "stream",
          "text": [
            "100%|██████████| 159/159 [00:41<00:00,  3.86it/s]\n",
            "  0%|          | 0/3003 [00:00<?, ?it/s]"
          ],
          "name": "stderr"
        },
        {
          "output_type": "stream",
          "text": [
            "\n",
            "\n",
            "\tAccuracy: 0.98\n",
            "\tValidation Loss: 8.72\n",
            "\n",
            "\n",
            "Training epoch 2 started.\n",
            "\n",
            "\n",
            "\n"
          ],
          "name": "stdout"
        },
        {
          "output_type": "stream",
          "text": [
            "100%|██████████| 3003/3003 [39:49<00:00,  1.26it/s]\n",
            "  0%|          | 0/159 [00:00<?, ?it/s]"
          ],
          "name": "stderr"
        },
        {
          "output_type": "stream",
          "text": [
            "\n",
            "\n",
            "\tTraining loss: 0.05\n",
            "\n",
            "\n",
            "\n",
            "Validation epoch 2 started.\n"
          ],
          "name": "stdout"
        },
        {
          "output_type": "stream",
          "text": [
            "100%|██████████| 159/159 [00:41<00:00,  3.83it/s]\n",
            "  0%|          | 0/3003 [00:00<?, ?it/s]"
          ],
          "name": "stderr"
        },
        {
          "output_type": "stream",
          "text": [
            "\n",
            "\n",
            "\tAccuracy: 0.98\n",
            "\tValidation Loss: 10.41\n",
            "\n",
            "\n",
            "Training epoch 3 started.\n",
            "\n",
            "\n",
            "\n"
          ],
          "name": "stdout"
        },
        {
          "output_type": "stream",
          "text": [
            "100%|██████████| 3003/3003 [39:48<00:00,  1.26it/s]\n",
            "  0%|          | 0/159 [00:00<?, ?it/s]"
          ],
          "name": "stderr"
        },
        {
          "output_type": "stream",
          "text": [
            "\n",
            "\n",
            "\tTraining loss: 0.03\n",
            "\n",
            "\n",
            "\n",
            "Validation epoch 3 started.\n"
          ],
          "name": "stdout"
        },
        {
          "output_type": "stream",
          "text": [
            "100%|██████████| 159/159 [00:41<00:00,  3.84it/s]\n",
            "  0%|          | 0/3003 [00:00<?, ?it/s]"
          ],
          "name": "stderr"
        },
        {
          "output_type": "stream",
          "text": [
            "\n",
            "\n",
            "\tAccuracy: 0.99\n",
            "\tValidation Loss: 6.31\n",
            "\n",
            "\n",
            "Training epoch 4 started.\n",
            "\n",
            "\n",
            "\n"
          ],
          "name": "stdout"
        },
        {
          "output_type": "stream",
          "text": [
            "100%|██████████| 3003/3003 [39:48<00:00,  1.26it/s]\n",
            "  0%|          | 0/159 [00:00<?, ?it/s]"
          ],
          "name": "stderr"
        },
        {
          "output_type": "stream",
          "text": [
            "\n",
            "\n",
            "\tTraining loss: 0.02\n",
            "\n",
            "\n",
            "\n",
            "Validation epoch 4 started.\n"
          ],
          "name": "stdout"
        },
        {
          "output_type": "stream",
          "text": [
            "100%|██████████| 159/159 [00:41<00:00,  3.82it/s]"
          ],
          "name": "stderr"
        },
        {
          "output_type": "stream",
          "text": [
            "\n",
            "\n",
            "\tAccuracy: 0.99\n",
            "\tValidation Loss: 6.31\n"
          ],
          "name": "stdout"
        },
        {
          "output_type": "stream",
          "text": [
            "\n"
          ],
          "name": "stderr"
        }
      ]
    },
    {
      "cell_type": "code",
      "metadata": {
        "id": "YtUcuXuXvYoi"
      },
      "source": [
        "torch.save(robertaModel.state_dict(), \"/content/drive/MyDrive/Colab Notebooks/OutputFiles/trainedRobertamodel.pkl\")"
      ],
      "execution_count": 23,
      "outputs": []
    },
    {
      "cell_type": "code",
      "metadata": {
        "colab": {
          "base_uri": "https://localhost:8080/"
        },
        "id": "aXlQWfEeGYJx",
        "outputId": "c80913ce-3893-4105-e20d-aea49780e370"
      },
      "source": [
        "trainingData"
      ],
      "execution_count": 24,
      "outputs": [
        {
          "output_type": "execute_result",
          "data": {
            "text/plain": [
              "[{'TrainingLoss': 0.07852579245879245,\n",
              "  'ValidationAccuracy': 0.9799528301886793,\n",
              "  'ValidationLoss': 0.0871973520015958,\n",
              "  'epoch': 1},\n",
              " {'TrainingLoss': 0.05293638268503498,\n",
              "  'ValidationAccuracy': 0.9811320754716981,\n",
              "  'ValidationLoss': 0.10409464180885386,\n",
              "  'epoch': 2},\n",
              " {'TrainingLoss': 0.03162472291124313,\n",
              "  'ValidationAccuracy': 0.985062893081761,\n",
              "  'ValidationLoss': 0.0630839522862104,\n",
              "  'epoch': 3},\n",
              " {'TrainingLoss': 0.01791213083277803,\n",
              "  'ValidationAccuracy': 0.985062893081761,\n",
              "  'ValidationLoss': 0.0630839522862104,\n",
              "  'epoch': 4}]"
            ]
          },
          "metadata": {
            "tags": []
          },
          "execution_count": 24
        }
      ]
    },
    {
      "cell_type": "code",
      "metadata": {
        "colab": {
          "base_uri": "https://localhost:8080/"
        },
        "id": "OGx-4fO5Gi21",
        "outputId": "1c1f3e00-b293-4539-ed50-1e1984019d23"
      },
      "source": [
        "from sklearn.metrics import confusion_matrix\n",
        "robertaModel.eval()\n",
        "pbar = tqdm(total=len(validationDataloader), position=0, leave=True)\n",
        "result = [[0,0],[0,0]]\n",
        "for step, batch in enumerate(validationDataloader):\n",
        "    pbar.update(1)\n",
        "    label = batch[2].to(device)\n",
        "    with torch.no_grad():        \n",
        "      val = robertaModel(batch[0].to(device),attention_mask=batch[1].to(device),labels=batch[2].to(device))\n",
        "      loss = val[\"loss\"]\n",
        "      logits = val[\"logits\"]\n",
        "    logits = logits.detach().cpu().numpy()\n",
        "    labelsIds = label.to('cpu').numpy()\n",
        "    flatPredictions = np.argmax(logits, axis=1).flatten()\n",
        "    flatLabels = labelsIds.flatten()\n",
        "    cf_matrix = confusion_matrix(flatLabels, flatPredictions)\n",
        "    if(len(cf_matrix)>1 and len(cf_matrix[1]>1)):\n",
        "      result = [[result[i][j] + cf_matrix[i][j]  for j in range(len(result[0]))] for i in range(len(result))]\n",
        "pbar.close()\n",
        "print(result)"
      ],
      "execution_count": 29,
      "outputs": [
        {
          "output_type": "stream",
          "text": [
            "100%|██████████| 159/159 [00:37<00:00,  4.28it/s]"
          ],
          "name": "stderr"
        },
        {
          "output_type": "stream",
          "text": [
            "[[1279, 23], [15, 1211]]\n"
          ],
          "name": "stdout"
        },
        {
          "output_type": "stream",
          "text": [
            "\n"
          ],
          "name": "stderr"
        }
      ]
    },
    {
      "cell_type": "code",
      "metadata": {
        "colab": {
          "base_uri": "https://localhost:8080/",
          "height": 279
        },
        "id": "qKYZs7gdOM96",
        "outputId": "e5306256-0ea7-4203-a6aa-bcd87b47005b"
      },
      "source": [
        "import seaborn as sns\n",
        "import matplotlib.pyplot as plt\n",
        "heatmap = sns.heatmap(result, annot=True, cmap='Blues', fmt='g', cbar=False, xticklabels=[\"False\",\"True\"], yticklabels=[\"False\",\"True\"])\n",
        "heatmap.set_xticklabels(heatmap.get_xticklabels(), rotation=0) \n",
        "heatmap.set_yticklabels(heatmap.get_yticklabels(), rotation=0) \n",
        "plt.xlabel(\"Predicted\")\n",
        "plt.ylabel(\"Actual\") \n",
        "plt.show()"
      ],
      "execution_count": 13,
      "outputs": [
        {
          "output_type": "display_data",
          "data": {
            "image/png": "[encoded data removed]",
            "text/plain": [
              "<Figure size 432x288 with 1 Axes>"
            ]
          },
          "metadata": {
            "tags": [],
            "needs_background": "light"
          }
        }
      ]
    },
    {
      "cell_type": "code",
      "metadata": {
        "colab": {
          "base_uri": "https://localhost:8080/",
          "height": 427
        },
        "id": "F82wjagGQaTm",
        "outputId": "d3ad7de7-25b9-4fef-c502-ad188db698c8"
      },
      "source": [
        "pd.set_option('precision', 2)\n",
        "df_stats = pd.DataFrame(data=trainingData)\n",
        "df_stats = df_stats.set_index('epoch')\n",
        "import matplotlib.pyplot as plt\n",
        "%matplotlib inline\n",
        "sns.set(style='darkgrid')\n",
        "sns.set(font_scale=1.5)\n",
        "plt.rcParams[\"figure.figsize\"] = (12,6)\n",
        "plt.plot(df_stats['TrainingLoss'], 'b-o', label=\"Training\")\n",
        "plt.plot(df_stats['ValidationLoss'], 'g-o', label=\"Validation\")\n",
        "plt.title(\"Training & Validation Loss\")\n",
        "plt.xlabel(\"Epoch\")\n",
        "plt.ylabel(\"Loss\")\n",
        "plt.legend()\n",
        "plt.xticks([1, 2, 3, 4, 5])\n",
        "\n",
        "plt.show()"
      ],
      "execution_count": 34,
      "outputs": [
        {
          "output_type": "display_data",
          "data": {
            "image/png": "[encoded data removed]",
            "text/plain": [
              "<Figure size 864x432 with 1 Axes>"
            ]
          },
          "metadata": {
            "tags": []
          }
        }
      ]
    },
    {
      "cell_type": "code",
      "metadata": {
        "colab": {
          "base_uri": "https://localhost:8080/",
          "height": 427
        },
        "id": "HxeuTzKXRKe-",
        "outputId": "206ff2aa-81d2-4939-82eb-c9d1156aaddc"
      },
      "source": [
        "pd.set_option('precision', 2)\n",
        "df_stats = pd.DataFrame(data=trainingData)\n",
        "df_stats = df_stats.set_index('epoch')\n",
        "%matplotlib inline\n",
        "sns.set(style='darkgrid')\n",
        "sns.set(font_scale=1.5)\n",
        "plt.rcParams[\"figure.figsize\"] = (12,6)\n",
        "plt.plot(df_stats['ValidationAccuracy'], 'b-o', label=\"Validation Accuracy\")\n",
        "plt.title(\"Validation Accuracy\")\n",
        "plt.xlabel(\"Epoch\")\n",
        "plt.ylabel(\"Loss\")\n",
        "plt.legend()\n",
        "plt.xticks([1, 2, 3, 4, 5])\n",
        "plt.show()"
      ],
      "execution_count": 4,
      "outputs": [
        {
          "output_type": "display_data",
          "data": {
            "image/png": "[encoded data removed]",
            "text/plain": [
              "<Figure size 864x432 with 1 Axes>"
            ]
          },
          "metadata": {
            "tags": []
          }
        }
      ]
    }
  ]
}