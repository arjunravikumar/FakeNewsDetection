{
  "nbformat": 4,
  "nbformat_minor": 0,
  "metadata": {
    "colab": {
      "name": "ClassifyFakeNews.ipynb",
      "provenance": [],
      "collapsed_sections": []
    },
    "kernelspec": {
      "display_name": "Python 3",
      "name": "python3"
    },
    "language_info": {
      "name": "python"
    },
    "accelerator": "GPU"
  },
  "cells": [
    {
      "cell_type": "code",
      "metadata": {
        "id": "-Ol3zhZfptWH",
        "colab": {
          "base_uri": "https://localhost:8080/",
          "height": 34
        },
        "outputId": "53d000a7-f89d-4370-e46b-a589f8e14aa1"
      },
      "source": [
        "from google.colab import drive\n",
        "drive.mount('/content/drive')"
      ],
      "execution_count": null,
      "outputs": [
        {
          "output_type": "display_data",
          "data": {
            "text/html": [
              "<style>\n",
              "  ol ol {\n",
              "    list-style-type: lower-roman;\n",
              "  }\n",
              "  h1 {\n",
              "    color: red;\n",
              "  }\n",
              "  </style>"
            ],
            "text/plain": [
              "<IPython.core.display.HTML object>"
            ]
          },
          "metadata": {
            "tags": []
          }
        },
        {
          "output_type": "display_data",
          "data": {
            "text/html": [
              "<style>\n",
              "  ol ol {\n",
              "    list-style-type: lower-roman;\n",
              "  }\n",
              "  h1 {\n",
              "    color: red;\n",
              "  }\n",
              "  </style>"
            ],
            "text/plain": [
              "<IPython.core.display.HTML object>"
            ]
          },
          "metadata": {
            "tags": []
          }
        },
        {
          "output_type": "stream",
          "text": [
            "Drive already mounted at /content/drive; to attempt to forcibly remount, call drive.mount(\"/content/drive\", force_remount=True).\n"
          ],
          "name": "stdout"
        }
      ]
    },
    {
      "cell_type": "code",
      "metadata": {
        "id": "ubc_K_ab7jEo",
        "colab": {
          "base_uri": "https://localhost:8080/",
          "height": 598
        },
        "outputId": "aa5e0699-8d74-449b-e011-a5047759b44d"
      },
      "source": [
        "!pip install transformers\n",
        "!pip install flask-ngrok"
      ],
      "execution_count": null,
      "outputs": [
        {
          "output_type": "display_data",
          "data": {
            "text/html": [
              "<style>\n",
              "  ol ol {\n",
              "    list-style-type: lower-roman;\n",
              "  }\n",
              "  h1 {\n",
              "    color: red;\n",
              "  }\n",
              "  </style>"
            ],
            "text/plain": [
              "<IPython.core.display.HTML object>"
            ]
          },
          "metadata": {
            "tags": []
          }
        },
        {
          "output_type": "display_data",
          "data": {
            "text/html": [
              "<style>\n",
              "  ol ol {\n",
              "    list-style-type: lower-roman;\n",
              "  }\n",
              "  h1 {\n",
              "    color: red;\n",
              "  }\n",
              "  </style>"
            ],
            "text/plain": [
              "<IPython.core.display.HTML object>"
            ]
          },
          "metadata": {
            "tags": []
          }
        },
        {
          "output_type": "stream",
          "text": [
            "Requirement already satisfied: transformers in /usr/local/lib/python3.7/dist-packages (4.6.0)\n",
            "Requirement already satisfied: numpy>=1.17 in /usr/local/lib/python3.7/dist-packages (from transformers) (1.19.5)\n",
            "Requirement already satisfied: filelock in /usr/local/lib/python3.7/dist-packages (from transformers) (3.0.12)\n",
            "Requirement already satisfied: importlib-metadata; python_version < \"3.8\" in /usr/local/lib/python3.7/dist-packages (from transformers) (4.0.1)\n",
            "Requirement already satisfied: sacremoses in /usr/local/lib/python3.7/dist-packages (from transformers) (0.0.45)\n",
            "Requirement already satisfied: requests in /usr/local/lib/python3.7/dist-packages (from transformers) (2.23.0)\n",
            "Requirement already satisfied: regex!=2019.12.17 in /usr/local/lib/python3.7/dist-packages (from transformers) (2019.12.20)\n",
            "Requirement already satisfied: huggingface-hub==0.0.8 in /usr/local/lib/python3.7/dist-packages (from transformers) (0.0.8)\n",
            "Requirement already satisfied: packaging in /usr/local/lib/python3.7/dist-packages (from transformers) (20.9)\n",
            "Requirement already satisfied: tqdm>=4.27 in /usr/local/lib/python3.7/dist-packages (from transformers) (4.41.1)\n",
            "Requirement already satisfied: tokenizers<0.11,>=0.10.1 in /usr/local/lib/python3.7/dist-packages (from transformers) (0.10.2)\n",
            "Requirement already satisfied: typing-extensions>=3.6.4; python_version < \"3.8\" in /usr/local/lib/python3.7/dist-packages (from importlib-metadata; python_version < \"3.8\"->transformers) (3.7.4.3)\n",
            "Requirement already satisfied: zipp>=0.5 in /usr/local/lib/python3.7/dist-packages (from importlib-metadata; python_version < \"3.8\"->transformers) (3.4.1)\n",
            "Requirement already satisfied: six in /usr/local/lib/python3.7/dist-packages (from sacremoses->transformers) (1.15.0)\n",
            "Requirement already satisfied: joblib in /usr/local/lib/python3.7/dist-packages (from sacremoses->transformers) (1.0.1)\n",
            "Requirement already satisfied: click in /usr/local/lib/python3.7/dist-packages (from sacremoses->transformers) (7.1.2)\n",
            "Requirement already satisfied: certifi>=2017.4.17 in /usr/local/lib/python3.7/dist-packages (from requests->transformers) (2020.12.5)\n",
            "Requirement already satisfied: idna<3,>=2.5 in /usr/local/lib/python3.7/dist-packages (from requests->transformers) (2.10)\n",
            "Requirement already satisfied: urllib3!=1.25.0,!=1.25.1,<1.26,>=1.21.1 in /usr/local/lib/python3.7/dist-packages (from requests->transformers) (1.24.3)\n",
            "Requirement already satisfied: chardet<4,>=3.0.2 in /usr/local/lib/python3.7/dist-packages (from requests->transformers) (3.0.4)\n",
            "Requirement already satisfied: pyparsing>=2.0.2 in /usr/local/lib/python3.7/dist-packages (from packaging->transformers) (2.4.7)\n",
            "Requirement already satisfied: flask-ngrok in /usr/local/lib/python3.7/dist-packages (0.0.25)\n",
            "Requirement already satisfied: requests in /usr/local/lib/python3.7/dist-packages (from flask-ngrok) (2.23.0)\n",
            "Requirement already satisfied: Flask>=0.8 in /usr/local/lib/python3.7/dist-packages (from flask-ngrok) (1.1.2)\n",
            "Requirement already satisfied: chardet<4,>=3.0.2 in /usr/local/lib/python3.7/dist-packages (from requests->flask-ngrok) (3.0.4)\n",
            "Requirement already satisfied: idna<3,>=2.5 in /usr/local/lib/python3.7/dist-packages (from requests->flask-ngrok) (2.10)\n",
            "Requirement already satisfied: certifi>=2017.4.17 in /usr/local/lib/python3.7/dist-packages (from requests->flask-ngrok) (2020.12.5)\n",
            "Requirement already satisfied: urllib3!=1.25.0,!=1.25.1,<1.26,>=1.21.1 in /usr/local/lib/python3.7/dist-packages (from requests->flask-ngrok) (1.24.3)\n",
            "Requirement already satisfied: click>=5.1 in /usr/local/lib/python3.7/dist-packages (from Flask>=0.8->flask-ngrok) (7.1.2)\n",
            "Requirement already satisfied: Jinja2>=2.10.1 in /usr/local/lib/python3.7/dist-packages (from Flask>=0.8->flask-ngrok) (2.11.3)\n",
            "Requirement already satisfied: Werkzeug>=0.15 in /usr/local/lib/python3.7/dist-packages (from Flask>=0.8->flask-ngrok) (1.0.1)\n",
            "Requirement already satisfied: itsdangerous>=0.24 in /usr/local/lib/python3.7/dist-packages (from Flask>=0.8->flask-ngrok) (1.1.0)\n",
            "Requirement already satisfied: MarkupSafe>=0.23 in /usr/local/lib/python3.7/dist-packages (from Jinja2>=2.10.1->Flask>=0.8->flask-ngrok) (1.1.1)\n"
          ],
          "name": "stdout"
        }
      ]
    },
    {
      "cell_type": "code",
      "metadata": {
        "id": "8FZlgFLFwf47",
        "colab": {
          "base_uri": "https://localhost:8080/",
          "height": 17
        },
        "outputId": "32cf9e82-8fad-4b02-e7ec-c6ca7410ec7d"
      },
      "source": [
        "import pickle\n",
        "from termcolor import colored\n",
        "import torch\n",
        "torch.cuda.empty_cache()\n",
        "import pandas as pd\n",
        "from transformers import RobertaTokenizer, RobertaModel, AdamW,RobertaForSequenceClassification\n",
        "from torch.utils.data import TensorDataset\n",
        "from torch.utils.data import DataLoader, SequentialSampler\n",
        "import numpy as np\n",
        "import re\n",
        "from flask import Flask, url_for, request, redirect\n",
        "from flask_ngrok import run_with_ngrok\n",
        "from IPython.display import Math, HTML, display"
      ],
      "execution_count": null,
      "outputs": [
        {
          "output_type": "display_data",
          "data": {
            "text/html": [
              "<style>\n",
              "  ol ol {\n",
              "    list-style-type: lower-roman;\n",
              "  }\n",
              "  h1 {\n",
              "    color: red;\n",
              "  }\n",
              "  </style>"
            ],
            "text/plain": [
              "<IPython.core.display.HTML object>"
            ]
          },
          "metadata": {
            "tags": []
          }
        },
        {
          "output_type": "display_data",
          "data": {
            "text/html": [
              "<style>\n",
              "  ol ol {\n",
              "    list-style-type: lower-roman;\n",
              "  }\n",
              "  h1 {\n",
              "    color: red;\n",
              "  }\n",
              "  </style>"
            ],
            "text/plain": [
              "<IPython.core.display.HTML object>"
            ]
          },
          "metadata": {
            "tags": []
          }
        }
      ]
    },
    {
      "cell_type": "code",
      "metadata": {
        "id": "it45A_8BO4Rp",
        "colab": {
          "base_uri": "https://localhost:8080/",
          "height": 122
        },
        "outputId": "855a711b-de09-446a-d8a3-1b41db039235"
      },
      "source": [
        "robertaModel = RobertaForSequenceClassification.from_pretrained(\"roberta-base\",num_labels = 2,output_attentions = False,output_hidden_states = False)\n",
        "robertaTokenizer = RobertaTokenizer.from_pretrained(\"roberta-base\")"
      ],
      "execution_count": null,
      "outputs": [
        {
          "output_type": "display_data",
          "data": {
            "text/html": [
              "<style>\n",
              "  ol ol {\n",
              "    list-style-type: lower-roman;\n",
              "  }\n",
              "  h1 {\n",
              "    color: red;\n",
              "  }\n",
              "  </style>"
            ],
            "text/plain": [
              "<IPython.core.display.HTML object>"
            ]
          },
          "metadata": {
            "tags": []
          }
        },
        {
          "output_type": "display_data",
          "data": {
            "text/html": [
              "<style>\n",
              "  ol ol {\n",
              "    list-style-type: lower-roman;\n",
              "  }\n",
              "  h1 {\n",
              "    color: red;\n",
              "  }\n",
              "  </style>"
            ],
            "text/plain": [
              "<IPython.core.display.HTML object>"
            ]
          },
          "metadata": {
            "tags": []
          }
        },
        {
          "output_type": "stream",
          "text": [
            "Some weights of the model checkpoint at roberta-base were not used when initializing RobertaForSequenceClassification: ['lm_head.dense.bias', 'lm_head.dense.weight', 'lm_head.bias', 'roberta.pooler.dense.bias', 'lm_head.decoder.weight', 'lm_head.layer_norm.bias', 'lm_head.layer_norm.weight', 'roberta.pooler.dense.weight']\n",
            "- This IS expected if you are initializing RobertaForSequenceClassification from the checkpoint of a model trained on another task or with another architecture (e.g. initializing a BertForSequenceClassification model from a BertForPreTraining model).\n",
            "- This IS NOT expected if you are initializing RobertaForSequenceClassification from the checkpoint of a model that you expect to be exactly identical (initializing a BertForSequenceClassification model from a BertForSequenceClassification model).\n",
            "Some weights of RobertaForSequenceClassification were not initialized from the model checkpoint at roberta-base and are newly initialized: ['classifier.out_proj.bias', 'classifier.out_proj.weight', 'classifier.dense.bias', 'classifier.dense.weight']\n",
            "You should probably TRAIN this model on a down-stream task to be able to use it for predictions and inference.\n"
          ],
          "name": "stderr"
        }
      ]
    },
    {
      "cell_type": "code",
      "metadata": {
        "id": "LGhDgLrKvCVG",
        "colab": {
          "base_uri": "https://localhost:8080/",
          "height": 34
        },
        "outputId": "13976887-36d6-4a5c-b88a-3b1440aaff7a"
      },
      "source": [
        "if torch.cuda.is_available():\n",
        "    device = torch.device('cuda:0')\n",
        "    torch.backends.cudnn.deterministic = True\n",
        "    torch.backends.cudnn.benchmark = False\n",
        "    robertaModel.cuda()\n",
        "else:\n",
        "    device = torch.device('cpu')\n",
        "robertaModel.to(device)\n",
        "print(device)"
      ],
      "execution_count": null,
      "outputs": [
        {
          "output_type": "display_data",
          "data": {
            "text/html": [
              "<style>\n",
              "  ol ol {\n",
              "    list-style-type: lower-roman;\n",
              "  }\n",
              "  h1 {\n",
              "    color: red;\n",
              "  }\n",
              "  </style>"
            ],
            "text/plain": [
              "<IPython.core.display.HTML object>"
            ]
          },
          "metadata": {
            "tags": []
          }
        },
        {
          "output_type": "display_data",
          "data": {
            "text/html": [
              "<style>\n",
              "  ol ol {\n",
              "    list-style-type: lower-roman;\n",
              "  }\n",
              "  h1 {\n",
              "    color: red;\n",
              "  }\n",
              "  </style>"
            ],
            "text/plain": [
              "<IPython.core.display.HTML object>"
            ]
          },
          "metadata": {
            "tags": []
          }
        },
        {
          "output_type": "stream",
          "text": [
            "cuda:0\n"
          ],
          "name": "stdout"
        }
      ]
    },
    {
      "cell_type": "code",
      "metadata": {
        "id": "oTvk41pYO-l-",
        "colab": {
          "base_uri": "https://localhost:8080/",
          "height": 34
        },
        "outputId": "948ddd53-3928-4b3a-ffe1-24ead2a434fb"
      },
      "source": [
        "robertaModel.load_state_dict(torch.load(\"/content/drive/MyDrive/Colab Notebooks/OutputFiles/trainedmodel.pkl\", map_location=device))"
      ],
      "execution_count": null,
      "outputs": [
        {
          "output_type": "display_data",
          "data": {
            "text/html": [
              "<style>\n",
              "  ol ol {\n",
              "    list-style-type: lower-roman;\n",
              "  }\n",
              "  h1 {\n",
              "    color: red;\n",
              "  }\n",
              "  </style>"
            ],
            "text/plain": [
              "<IPython.core.display.HTML object>"
            ]
          },
          "metadata": {
            "tags": []
          }
        },
        {
          "output_type": "display_data",
          "data": {
            "text/html": [
              "<style>\n",
              "  ol ol {\n",
              "    list-style-type: lower-roman;\n",
              "  }\n",
              "  h1 {\n",
              "    color: red;\n",
              "  }\n",
              "  </style>"
            ],
            "text/plain": [
              "<IPython.core.display.HTML object>"
            ]
          },
          "metadata": {
            "tags": []
          }
        },
        {
          "output_type": "execute_result",
          "data": {
            "text/plain": [
              "<All keys matched successfully>"
            ]
          },
          "metadata": {
            "tags": []
          },
          "execution_count": 42
        }
      ]
    },
    {
      "cell_type": "code",
      "metadata": {
        "id": "S2c6Fu4w8Ujb",
        "colab": {
          "base_uri": "https://localhost:8080/",
          "height": 17
        },
        "outputId": "f0a97636-bce4-41bc-f5c7-c6184ec99225"
      },
      "source": [
        "def formatText(title,content):\n",
        "  title = title.strip()\n",
        "  title = re.sub(' +', ' ', title)\n",
        "  title = re.sub('[^A-Za-z0-9]+', ' ', title)\n",
        "  title = title.lower()\n",
        "  content = content.strip()\n",
        "  content = re.sub(' +', ' ', content)\n",
        "  content = re.sub('[^A-Za-z0-9]+', ' ', content)\n",
        "  content = content.lower()\n",
        "  finalText = title + \". \" + content\n",
        "  return finalText"
      ],
      "execution_count": null,
      "outputs": [
        {
          "output_type": "display_data",
          "data": {
            "text/html": [
              "<style>\n",
              "  ol ol {\n",
              "    list-style-type: lower-roman;\n",
              "  }\n",
              "  h1 {\n",
              "    color: red;\n",
              "  }\n",
              "  </style>"
            ],
            "text/plain": [
              "<IPython.core.display.HTML object>"
            ]
          },
          "metadata": {
            "tags": []
          }
        },
        {
          "output_type": "display_data",
          "data": {
            "text/html": [
              "<style>\n",
              "  ol ol {\n",
              "    list-style-type: lower-roman;\n",
              "  }\n",
              "  h1 {\n",
              "    color: red;\n",
              "  }\n",
              "  </style>"
            ],
            "text/plain": [
              "<IPython.core.display.HTML object>"
            ]
          },
          "metadata": {
            "tags": []
          }
        }
      ]
    },
    {
      "cell_type": "code",
      "metadata": {
        "id": "_OvBSZ0u6Z34",
        "colab": {
          "base_uri": "https://localhost:8080/",
          "height": 17
        },
        "outputId": "62588a7e-3576-467f-ac46-ccd61d7738d0"
      },
      "source": [
        "def getSentences(lenOfWords,lenToRemove):\n",
        "  removeWordsFullList = []\n",
        "  for i in range(lenOfWords-lenToRemove-1):\n",
        "    removeWordsFullList.append([j for j in range(i,i+lenToRemove+1)])\n",
        "  return removeWordsFullList"
      ],
      "execution_count": null,
      "outputs": [
        {
          "output_type": "display_data",
          "data": {
            "text/html": [
              "<style>\n",
              "  ol ol {\n",
              "    list-style-type: lower-roman;\n",
              "  }\n",
              "  h1 {\n",
              "    color: red;\n",
              "  }\n",
              "  </style>"
            ],
            "text/plain": [
              "<IPython.core.display.HTML object>"
            ]
          },
          "metadata": {
            "tags": []
          }
        },
        {
          "output_type": "display_data",
          "data": {
            "text/html": [
              "<style>\n",
              "  ol ol {\n",
              "    list-style-type: lower-roman;\n",
              "  }\n",
              "  h1 {\n",
              "    color: red;\n",
              "  }\n",
              "  </style>"
            ],
            "text/plain": [
              "<IPython.core.display.HTML object>"
            ]
          },
          "metadata": {
            "tags": []
          }
        }
      ]
    },
    {
      "cell_type": "code",
      "metadata": {
        "id": "NH0Ay9rgAMFD",
        "colab": {
          "base_uri": "https://localhost:8080/",
          "height": 17
        },
        "outputId": "a53a678d-416b-41aa-e12d-cfd6322c1cd5"
      },
      "source": [
        "def removeWordsFromSentence(words,removeWordsFullList):\n",
        "  finalStrings = []\n",
        "  for i in range(len(removeWordsFullList)):\n",
        "    wordsCopy = words[:]\n",
        "    for j in range(len(removeWordsFullList[i])):\n",
        "      wordsCopy[removeWordsFullList[i][j]] = \"\"\n",
        "    content = \" \".join(wordsCopy)\n",
        "    content = re.sub(' +', ' ', content)\n",
        "    content = content.strip()\n",
        "    finalStrings.append(content)\n",
        "  return finalStrings"
      ],
      "execution_count": null,
      "outputs": [
        {
          "output_type": "display_data",
          "data": {
            "text/html": [
              "<style>\n",
              "  ol ol {\n",
              "    list-style-type: lower-roman;\n",
              "  }\n",
              "  h1 {\n",
              "    color: red;\n",
              "  }\n",
              "  </style>"
            ],
            "text/plain": [
              "<IPython.core.display.HTML object>"
            ]
          },
          "metadata": {
            "tags": []
          }
        },
        {
          "output_type": "display_data",
          "data": {
            "text/html": [
              "<style>\n",
              "  ol ol {\n",
              "    list-style-type: lower-roman;\n",
              "  }\n",
              "  h1 {\n",
              "    color: red;\n",
              "  }\n",
              "  </style>"
            ],
            "text/plain": [
              "<IPython.core.display.HTML object>"
            ]
          },
          "metadata": {
            "tags": []
          }
        }
      ]
    },
    {
      "cell_type": "code",
      "metadata": {
        "id": "5GKf6axa5J9p",
        "colab": {
          "base_uri": "https://localhost:8080/",
          "height": 17
        },
        "outputId": "6ce885b0-5919-43aa-d43a-7411699deb01"
      },
      "source": [
        "def splitTextToIdedentifyTheImportantWords(finalText,remNum):\n",
        "  words = finalText.split(\" \")\n",
        "  removeWordsFullList = getSentences(len(words),remNum)\n",
        "  finalStrings = removeWordsFromSentence(words,removeWordsFullList)\n",
        "  return finalStrings"
      ],
      "execution_count": null,
      "outputs": [
        {
          "output_type": "display_data",
          "data": {
            "text/html": [
              "<style>\n",
              "  ol ol {\n",
              "    list-style-type: lower-roman;\n",
              "  }\n",
              "  h1 {\n",
              "    color: red;\n",
              "  }\n",
              "  </style>"
            ],
            "text/plain": [
              "<IPython.core.display.HTML object>"
            ]
          },
          "metadata": {
            "tags": []
          }
        },
        {
          "output_type": "display_data",
          "data": {
            "text/html": [
              "<style>\n",
              "  ol ol {\n",
              "    list-style-type: lower-roman;\n",
              "  }\n",
              "  h1 {\n",
              "    color: red;\n",
              "  }\n",
              "  </style>"
            ],
            "text/plain": [
              "<IPython.core.display.HTML object>"
            ]
          },
          "metadata": {
            "tags": []
          }
        }
      ]
    },
    {
      "cell_type": "code",
      "metadata": {
        "id": "W40-9zGuAJjM",
        "colab": {
          "base_uri": "https://localhost:8080/",
          "height": 17
        },
        "outputId": "583167eb-24b9-4f2a-9b1c-b7101cbcd6f7"
      },
      "source": [
        "def convertToTensor(newsSentences,robertaTokenizer):\n",
        "  ids = []\n",
        "  masks = []\n",
        "  batchSize = 16\n",
        "  for news in newsSentences:\n",
        "    encoded = robertaTokenizer.encode_plus(news,add_special_tokens = True,\n",
        "                                            max_length = 256,\n",
        "                                            pad_to_max_length = True,\n",
        "                                            return_attention_mask = True,\n",
        "                                            return_tensors = 'pt')\n",
        "    ids.append(encoded['input_ids'])\n",
        "    masks.append(encoded['attention_mask'])\n",
        "  tensonDataset = TensorDataset(torch.cat(ids, dim=0), torch.cat(masks, dim=0))\n",
        "  predictionSampler = SequentialSampler(tensonDataset)\n",
        "  predictionDataloader = DataLoader(tensonDataset, sampler=predictionSampler, batch_size=batchSize)\n",
        "  return predictionDataloader"
      ],
      "execution_count": null,
      "outputs": [
        {
          "output_type": "display_data",
          "data": {
            "text/html": [
              "<style>\n",
              "  ol ol {\n",
              "    list-style-type: lower-roman;\n",
              "  }\n",
              "  h1 {\n",
              "    color: red;\n",
              "  }\n",
              "  </style>"
            ],
            "text/plain": [
              "<IPython.core.display.HTML object>"
            ]
          },
          "metadata": {
            "tags": []
          }
        },
        {
          "output_type": "display_data",
          "data": {
            "text/html": [
              "<style>\n",
              "  ol ol {\n",
              "    list-style-type: lower-roman;\n",
              "  }\n",
              "  h1 {\n",
              "    color: red;\n",
              "  }\n",
              "  </style>"
            ],
            "text/plain": [
              "<IPython.core.display.HTML object>"
            ]
          },
          "metadata": {
            "tags": []
          }
        }
      ]
    },
    {
      "cell_type": "code",
      "metadata": {
        "id": "vKXaTnJJF_Cf",
        "colab": {
          "base_uri": "https://localhost:8080/",
          "height": 17
        },
        "outputId": "f2514b0f-f8fa-49cd-8070-b637f63b7287"
      },
      "source": [
        "def getDifferenceBetweenPredictions(orginal,current):\n",
        "  diff = abs(orginal[0]-current[0])\n",
        "  diff = diff + abs(orginal[1]-current[1])\n",
        "  return diff"
      ],
      "execution_count": null,
      "outputs": [
        {
          "output_type": "display_data",
          "data": {
            "text/html": [
              "<style>\n",
              "  ol ol {\n",
              "    list-style-type: lower-roman;\n",
              "  }\n",
              "  h1 {\n",
              "    color: red;\n",
              "  }\n",
              "  </style>"
            ],
            "text/plain": [
              "<IPython.core.display.HTML object>"
            ]
          },
          "metadata": {
            "tags": []
          }
        },
        {
          "output_type": "display_data",
          "data": {
            "text/html": [
              "<style>\n",
              "  ol ol {\n",
              "    list-style-type: lower-roman;\n",
              "  }\n",
              "  h1 {\n",
              "    color: red;\n",
              "  }\n",
              "  </style>"
            ],
            "text/plain": [
              "<IPython.core.display.HTML object>"
            ]
          },
          "metadata": {
            "tags": []
          }
        }
      ]
    },
    {
      "cell_type": "code",
      "metadata": {
        "id": "Ja9WuZxn71qR",
        "colab": {
          "base_uri": "https://localhost:8080/",
          "height": 17
        },
        "outputId": "58f791dd-915c-4071-864f-c07646ca4c94"
      },
      "source": [
        "def checkOriginalTextStatus(finalText):\n",
        "  robertaModel.eval()\n",
        "  predictions = []\n",
        "  finalText = \" \".join(finalText.split(\" \")[:256])\n",
        "  highestDiffString = \"\"\n",
        "  originalPrediction = []\n",
        "  tensVal = convertToTensor([finalText],robertaTokenizer)\n",
        "  count = 0\n",
        "  newsStatus = [\"FAKE\",\"REAL\"]\n",
        "  for batch in tensVal:\n",
        "    ids,masks = batch\n",
        "    ids = ids.to(device)\n",
        "    masks = masks.to(device)\n",
        "    with torch.no_grad():\n",
        "        outputs = robertaModel(ids, token_type_ids=None, \n",
        "                        attention_mask=masks)\n",
        "    logits = outputs[0]\n",
        "    logits = logits.detach().cpu().numpy()\n",
        "    originalPrediction = logits[0]\n",
        "  return newsStatus[np.argmax(originalPrediction)],originalPrediction"
      ],
      "execution_count": null,
      "outputs": [
        {
          "output_type": "display_data",
          "data": {
            "text/html": [
              "<style>\n",
              "  ol ol {\n",
              "    list-style-type: lower-roman;\n",
              "  }\n",
              "  h1 {\n",
              "    color: red;\n",
              "  }\n",
              "  </style>"
            ],
            "text/plain": [
              "<IPython.core.display.HTML object>"
            ]
          },
          "metadata": {
            "tags": []
          }
        },
        {
          "output_type": "display_data",
          "data": {
            "text/html": [
              "<style>\n",
              "  ol ol {\n",
              "    list-style-type: lower-roman;\n",
              "  }\n",
              "  h1 {\n",
              "    color: red;\n",
              "  }\n",
              "  </style>"
            ],
            "text/plain": [
              "<IPython.core.display.HTML object>"
            ]
          },
          "metadata": {
            "tags": []
          }
        }
      ]
    },
    {
      "cell_type": "code",
      "metadata": {
        "id": "Ox0NUPbKT4Nx",
        "colab": {
          "base_uri": "https://localhost:8080/",
          "height": 17
        },
        "outputId": "94ff12b2-8e4c-4d63-ad61-cb113b8c9cd8"
      },
      "source": [
        "def checkForMostImportantWords(finalText,originalPrediction):\n",
        "  highestDiffVal = -float(\"inf\")\n",
        "  highestDiffString = \"\"\n",
        "  maxLen = min(len(finalText.split(\" \"))/2,20)\n",
        "  for checkWordCount in range(5,maxLen):\n",
        "    allStringsToCheck = splitTextToIdedentifyTheImportantWords(finalText,checkWordCount)\n",
        "    if(len(allStringsToCheck)>0):\n",
        "      tensVal = convertToTensor(allStringsToCheck,robertaTokenizer)\n",
        "      count = 0\n",
        "      for batch in tensVal:\n",
        "        ids,masks = batch\n",
        "        ids = ids.to(device)\n",
        "        masks = masks.to(device)\n",
        "        with torch.no_grad():\n",
        "            outputs = robertaModel(ids, token_type_ids=None, \n",
        "                            attention_mask=masks)\n",
        "        logits = outputs[0]\n",
        "        logits = logits.detach().cpu().numpy()\n",
        "        for logit in logits:\n",
        "          diffrenceWithOriginal = getDifferenceBetweenPredictions(originalPrediction,logit)\n",
        "          if(diffrenceWithOriginal > highestDiffVal):\n",
        "            highestDiffString = allStringsToCheck[count]\n",
        "            highestDiffVal = diffrenceWithOriginal\n",
        "          count+=1\n",
        "  return highestDiffString"
      ],
      "execution_count": null,
      "outputs": [
        {
          "output_type": "display_data",
          "data": {
            "text/html": [
              "<style>\n",
              "  ol ol {\n",
              "    list-style-type: lower-roman;\n",
              "  }\n",
              "  h1 {\n",
              "    color: red;\n",
              "  }\n",
              "  </style>"
            ],
            "text/plain": [
              "<IPython.core.display.HTML object>"
            ]
          },
          "metadata": {
            "tags": []
          }
        },
        {
          "output_type": "display_data",
          "data": {
            "text/html": [
              "<style>\n",
              "  ol ol {\n",
              "    list-style-type: lower-roman;\n",
              "  }\n",
              "  h1 {\n",
              "    color: red;\n",
              "  }\n",
              "  </style>"
            ],
            "text/plain": [
              "<IPython.core.display.HTML object>"
            ]
          },
          "metadata": {
            "tags": []
          }
        }
      ]
    },
    {
      "cell_type": "code",
      "metadata": {
        "id": "L0rf4DhK97N7",
        "colab": {
          "base_uri": "https://localhost:8080/",
          "height": 17
        },
        "outputId": "7571e381-00f3-445c-ca48-31fec84b5c32"
      },
      "source": [
        "def highlightTheMostImportant(highestDiffString,finalText):\n",
        "  diffStr = highestDiffString.split(\" \")\n",
        "  orginalStr = finalText.split(\" \")\n",
        "  diffStrCounter = 0\n",
        "  orgStrCounter = 0\n",
        "  newArr = []\n",
        "  while(orgStrCounter < len(orginalStr) and diffStrCounter < len(diffStr)):\n",
        "    if(orginalStr[orgStrCounter] != diffStr[diffStrCounter]):\n",
        "      newArr.append(\"<mark>\" + orginalStr[orgStrCounter]+\"</mark>\")\n",
        "      orgStrCounter+=1\n",
        "    else:\n",
        "      newArr.append(orginalStr[orgStrCounter])\n",
        "      diffStrCounter+=1\n",
        "      orgStrCounter+=1\n",
        "  return \" \".join(newArr)"
      ],
      "execution_count": null,
      "outputs": [
        {
          "output_type": "display_data",
          "data": {
            "text/html": [
              "<style>\n",
              "  ol ol {\n",
              "    list-style-type: lower-roman;\n",
              "  }\n",
              "  h1 {\n",
              "    color: red;\n",
              "  }\n",
              "  </style>"
            ],
            "text/plain": [
              "<IPython.core.display.HTML object>"
            ]
          },
          "metadata": {
            "tags": []
          }
        },
        {
          "output_type": "display_data",
          "data": {
            "text/html": [
              "<style>\n",
              "  ol ol {\n",
              "    list-style-type: lower-roman;\n",
              "  }\n",
              "  h1 {\n",
              "    color: red;\n",
              "  }\n",
              "  </style>"
            ],
            "text/plain": [
              "<IPython.core.display.HTML object>"
            ]
          },
          "metadata": {
            "tags": []
          }
        }
      ]
    },
    {
      "cell_type": "code",
      "metadata": {
        "id": "fyogrSJn1jiT",
        "colab": {
          "base_uri": "https://localhost:8080/",
          "height": 17
        },
        "outputId": "bf507886-46e6-477b-f0b3-a660ffbed095"
      },
      "source": [
        "def startCheckingForText(title,content):\n",
        "  finalText = formatText(title,content)\n",
        "  status,originalPrediction = checkOriginalTextStatus(finalText)\n",
        "  highestDiffString = checkForMostImportantWords(finalText,originalPrediction)\n",
        "  mostImportantSentence = highlightTheMostImportant(highestDiffString,finalText)\n",
        "  return status,mostImportantSentence"
      ],
      "execution_count": null,
      "outputs": [
        {
          "output_type": "display_data",
          "data": {
            "text/html": [
              "<style>\n",
              "  ol ol {\n",
              "    list-style-type: lower-roman;\n",
              "  }\n",
              "  h1 {\n",
              "    color: red;\n",
              "  }\n",
              "  </style>"
            ],
            "text/plain": [
              "<IPython.core.display.HTML object>"
            ]
          },
          "metadata": {
            "tags": []
          }
        },
        {
          "output_type": "display_data",
          "data": {
            "text/html": [
              "<style>\n",
              "  ol ol {\n",
              "    list-style-type: lower-roman;\n",
              "  }\n",
              "  h1 {\n",
              "    color: red;\n",
              "  }\n",
              "  </style>"
            ],
            "text/plain": [
              "<IPython.core.display.HTML object>"
            ]
          },
          "metadata": {
            "tags": []
          }
        }
      ]
    },
    {
      "cell_type": "code",
      "metadata": {
        "id": "n33-WKlzsjMy",
        "colab": {
          "base_uri": "https://localhost:8080/",
          "height": 17
        },
        "outputId": "12adb701-b1ae-4b8e-c5e1-cd294b6e8384"
      },
      "source": [
        "def set_css_in_cell_output():\n",
        "  display(HTML(\"\"\"<style>\n",
        "  ol ol {\n",
        "    list-style-type: lower-roman;\n",
        "  }\n",
        "  h1 {\n",
        "    color: red;\n",
        "  }\n",
        "  </style>\"\"\"))\n",
        "\n",
        "get_ipython().events.register('pre_run_cell', set_css_in_cell_output)"
      ],
      "execution_count": null,
      "outputs": [
        {
          "output_type": "display_data",
          "data": {
            "text/html": [
              "<style>\n",
              "  ol ol {\n",
              "    list-style-type: lower-roman;\n",
              "  }\n",
              "  h1 {\n",
              "    color: red;\n",
              "  }\n",
              "  </style>"
            ],
            "text/plain": [
              "<IPython.core.display.HTML object>"
            ]
          },
          "metadata": {
            "tags": []
          }
        },
        {
          "output_type": "display_data",
          "data": {
            "text/html": [
              "<style>\n",
              "  ol ol {\n",
              "    list-style-type: lower-roman;\n",
              "  }\n",
              "  h1 {\n",
              "    color: red;\n",
              "  }\n",
              "  </style>"
            ],
            "text/plain": [
              "<IPython.core.display.HTML object>"
            ]
          },
          "metadata": {
            "tags": []
          }
        }
      ]
    },
    {
      "cell_type": "code",
      "metadata": {
        "id": "3cbDq0Nh7qpD",
        "colab": {
          "base_uri": "https://localhost:8080/",
          "height": 153
        },
        "outputId": "99aa3a31-5295-4c72-997c-fcf2c77d88d4"
      },
      "source": [
        "\n",
        "app = Flask(__name__)\n",
        "run_with_ngrok(app)   \n",
        "\n",
        "@app.route('/login', methods=['GET', 'POST'])\n",
        "def login():\n",
        "  title = request.form['Title']\n",
        "  content = request.form['Content']\n",
        "  newsStatus,mostImportantSentence = startCheckingForText(title,content)\n",
        "  return redirect(url_for('newsStatus',status = newsStatus,news = mostImportantSentence))\n",
        "\n",
        "@app.route('/newsStatus/<status>')\n",
        "def newsStatus(status):\n",
        "  news = request.args.get('news')\n",
        "  if(status == \"REAL\"):\n",
        "    strToShow = '<body style=\"background-color:#99FF66;\"><h1>The news is <span style=\"background-color: #99FF66\">' + status +\"</span></h1><br>\"\n",
        "  else:\n",
        "    strToShow = '<body style=\"background-color:#FF6666;\"><h1>The news is <span style=\"background-color: #FF6666\">' + status +\"</span></h1><br>\"\n",
        "  strToShow = strToShow + \"Most Important words which influences the decision: <br><br>\"+ news\n",
        "  return strToShow\n",
        "\n",
        "@app.route(\"/\")\n",
        "def home():\n",
        "  reader = open('/content/drive/MyDrive/Colab Notebooks/templates/index.html','r')\n",
        "  indexFile = reader.read()\n",
        "  return indexFile\n",
        "    \n",
        "app.run()"
      ],
      "execution_count": null,
      "outputs": [
        {
          "output_type": "display_data",
          "data": {
            "text/html": [
              "<style>\n",
              "  ol ol {\n",
              "    list-style-type: lower-roman;\n",
              "  }\n",
              "  h1 {\n",
              "    color: red;\n",
              "  }\n",
              "  </style>"
            ],
            "text/plain": [
              "<IPython.core.display.HTML object>"
            ]
          },
          "metadata": {
            "tags": []
          }
        },
        {
          "output_type": "display_data",
          "data": {
            "text/html": [
              "<style>\n",
              "  ol ol {\n",
              "    list-style-type: lower-roman;\n",
              "  }\n",
              "  h1 {\n",
              "    color: red;\n",
              "  }\n",
              "  </style>"
            ],
            "text/plain": [
              "<IPython.core.display.HTML object>"
            ]
          },
          "metadata": {
            "tags": []
          }
        },
        {
          "output_type": "display_data",
          "data": {
            "text/html": [
              "<style>\n",
              "  ol ol {\n",
              "    list-style-type: lower-roman;\n",
              "  }\n",
              "  h1 {\n",
              "    color: red;\n",
              "  }\n",
              "  </style>"
            ],
            "text/plain": [
              "<IPython.core.display.HTML object>"
            ]
          },
          "metadata": {
            "tags": []
          }
        },
        {
          "output_type": "stream",
          "text": [
            " * Serving Flask app \"__main__\" (lazy loading)\n",
            " * Environment: production\n",
            "\u001b[31m   WARNING: This is a development server. Do not use it in a production deployment.\u001b[0m\n",
            "\u001b[2m   Use a production WSGI server instead.\u001b[0m\n",
            " * Debug mode: off\n"
          ],
          "name": "stdout"
        },
        {
          "output_type": "stream",
          "text": [
            " * Running on http://127.0.0.1:5000/ (Press CTRL+C to quit)\n"
          ],
          "name": "stderr"
        },
        {
          "output_type": "stream",
          "text": [
            " * Running on http://e2dc1af98148.ngrok.io\n",
            " * Traffic stats available on http://127.0.0.1:4040\n"
          ],
          "name": "stdout"
        }
      ]
    }
  ]
}