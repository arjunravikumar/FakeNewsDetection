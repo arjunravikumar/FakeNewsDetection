{
  "nbformat": 4,
  "nbformat_minor": 0,
  "metadata": {
    "kernelspec": {
      "display_name": "Python 3",
      "language": "python",
      "name": "python3"
    },
    "language_info": {
      "codemirror_mode": {
        "name": "ipython",
        "version": 3
      },
      "file_extension": ".py",
      "mimetype": "text/x-python",
      "name": "python",
      "nbconvert_exporter": "python",
      "pygments_lexer": "ipython3",
      "version": "3.7.4"
    },
    "colab": {
      "name": "CleanandMergeNews.ipynb",
      "provenance": []
    }
  },
  "cells": [
    {
      "cell_type": "code",
      "metadata": {
        "colab": {
          "base_uri": "https://localhost:8080/"
        },
        "id": "yb-F0NuHmtPa",
        "outputId": "89b104c9-70de-43a5-8ebe-c68c1b68425c"
      },
      "source": [
        "from google.colab import drive\n",
        "drive.mount('/content/drive')"
      ],
      "execution_count": null,
      "outputs": [
        {
          "output_type": "stream",
          "text": [
            "Mounted at /content/drive\n"
          ],
          "name": "stdout"
        }
      ]
    },
    {
      "cell_type": "code",
      "metadata": {
        "id": "N-IWbiZAlIzU"
      },
      "source": [
        "import random\n",
        "import pandas as pd"
      ],
      "execution_count": null,
      "outputs": []
    },
    {
      "cell_type": "code",
      "metadata": {
        "id": "1TR6CtkOlIzj"
      },
      "source": [
        "real = pd.read_csv('/content/drive/MyDrive/Colab Notebooks/OriginalInputFiles/True.csv')\n",
        "fake = pd.read_csv('/content/drive/MyDrive/Colab Notebooks/OriginalInputFiles/Fake.csv')\n",
        "smallDataset = pd.read_csv('/content/drive/MyDrive/Colab Notebooks/OriginalInputFiles/news.csv')"
      ],
      "execution_count": null,
      "outputs": []
    },
    {
      "cell_type": "code",
      "metadata": {
        "colab": {
          "base_uri": "https://localhost:8080/",
          "height": 419
        },
        "id": "l1-0SFzQlIzk",
        "outputId": "8e19fade-1392-4d77-9e07-d97b3502a48a"
      },
      "source": [
        "real"
      ],
      "execution_count": null,
      "outputs": [
        {
          "output_type": "execute_result",
          "data": {
            "text/html": [
              "<div>\n",
              "<style scoped>\n",
              "    .dataframe tbody tr th:only-of-type {\n",
              "        vertical-align: middle;\n",
              "    }\n",
              "\n",
              "    .dataframe tbody tr th {\n",
              "        vertical-align: top;\n",
              "    }\n",
              "\n",
              "    .dataframe thead th {\n",
              "        text-align: right;\n",
              "    }\n",
              "</style>\n",
              "<table border=\"1\" class=\"dataframe\">\n",
              "  <thead>\n",
              "    <tr style=\"text-align: right;\">\n",
              "      <th></th>\n",
              "      <th>title</th>\n",
              "      <th>text</th>\n",
              "      <th>subject</th>\n",
              "      <th>date</th>\n",
              "    </tr>\n",
              "  </thead>\n",
              "  <tbody>\n",
              "    <tr>\n",
              "      <th>0</th>\n",
              "      <td>As U.S. budget fight looms, Republicans flip t...</td>\n",
              "      <td>WASHINGTON (Reuters) - The head of a conservat...</td>\n",
              "      <td>politicsNews</td>\n",
              "      <td>December 31, 2017</td>\n",
              "    </tr>\n",
              "    <tr>\n",
              "      <th>1</th>\n",
              "      <td>U.S. military to accept transgender recruits o...</td>\n",
              "      <td>WASHINGTON (Reuters) - Transgender people will...</td>\n",
              "      <td>politicsNews</td>\n",
              "      <td>December 29, 2017</td>\n",
              "    </tr>\n",
              "    <tr>\n",
              "      <th>2</th>\n",
              "      <td>Senior U.S. Republican senator: 'Let Mr. Muell...</td>\n",
              "      <td>WASHINGTON (Reuters) - The special counsel inv...</td>\n",
              "      <td>politicsNews</td>\n",
              "      <td>December 31, 2017</td>\n",
              "    </tr>\n",
              "    <tr>\n",
              "      <th>3</th>\n",
              "      <td>FBI Russia probe helped by Australian diplomat...</td>\n",
              "      <td>WASHINGTON (Reuters) - Trump campaign adviser ...</td>\n",
              "      <td>politicsNews</td>\n",
              "      <td>December 30, 2017</td>\n",
              "    </tr>\n",
              "    <tr>\n",
              "      <th>4</th>\n",
              "      <td>Trump wants Postal Service to charge 'much mor...</td>\n",
              "      <td>SEATTLE/WASHINGTON (Reuters) - President Donal...</td>\n",
              "      <td>politicsNews</td>\n",
              "      <td>December 29, 2017</td>\n",
              "    </tr>\n",
              "    <tr>\n",
              "      <th>...</th>\n",
              "      <td>...</td>\n",
              "      <td>...</td>\n",
              "      <td>...</td>\n",
              "      <td>...</td>\n",
              "    </tr>\n",
              "    <tr>\n",
              "      <th>21412</th>\n",
              "      <td>'Fully committed' NATO backs new U.S. approach...</td>\n",
              "      <td>BRUSSELS (Reuters) - NATO allies on Tuesday we...</td>\n",
              "      <td>worldnews</td>\n",
              "      <td>August 22, 2017</td>\n",
              "    </tr>\n",
              "    <tr>\n",
              "      <th>21413</th>\n",
              "      <td>LexisNexis withdrew two products from Chinese ...</td>\n",
              "      <td>LONDON (Reuters) - LexisNexis, a provider of l...</td>\n",
              "      <td>worldnews</td>\n",
              "      <td>August 22, 2017</td>\n",
              "    </tr>\n",
              "    <tr>\n",
              "      <th>21414</th>\n",
              "      <td>Minsk cultural hub becomes haven from authorities</td>\n",
              "      <td>MINSK (Reuters) - In the shadow of disused Sov...</td>\n",
              "      <td>worldnews</td>\n",
              "      <td>August 22, 2017</td>\n",
              "    </tr>\n",
              "    <tr>\n",
              "      <th>21415</th>\n",
              "      <td>Vatican upbeat on possibility of Pope Francis ...</td>\n",
              "      <td>MOSCOW (Reuters) - Vatican Secretary of State ...</td>\n",
              "      <td>worldnews</td>\n",
              "      <td>August 22, 2017</td>\n",
              "    </tr>\n",
              "    <tr>\n",
              "      <th>21416</th>\n",
              "      <td>Indonesia to buy $1.14 billion worth of Russia...</td>\n",
              "      <td>JAKARTA (Reuters) - Indonesia will buy 11 Sukh...</td>\n",
              "      <td>worldnews</td>\n",
              "      <td>August 22, 2017</td>\n",
              "    </tr>\n",
              "  </tbody>\n",
              "</table>\n",
              "<p>21417 rows × 4 columns</p>\n",
              "</div>"
            ],
            "text/plain": [
              "                                                   title  ...                date\n",
              "0      As U.S. budget fight looms, Republicans flip t...  ...  December 31, 2017 \n",
              "1      U.S. military to accept transgender recruits o...  ...  December 29, 2017 \n",
              "2      Senior U.S. Republican senator: 'Let Mr. Muell...  ...  December 31, 2017 \n",
              "3      FBI Russia probe helped by Australian diplomat...  ...  December 30, 2017 \n",
              "4      Trump wants Postal Service to charge 'much mor...  ...  December 29, 2017 \n",
              "...                                                  ...  ...                 ...\n",
              "21412  'Fully committed' NATO backs new U.S. approach...  ...    August 22, 2017 \n",
              "21413  LexisNexis withdrew two products from Chinese ...  ...    August 22, 2017 \n",
              "21414  Minsk cultural hub becomes haven from authorities  ...    August 22, 2017 \n",
              "21415  Vatican upbeat on possibility of Pope Francis ...  ...    August 22, 2017 \n",
              "21416  Indonesia to buy $1.14 billion worth of Russia...  ...    August 22, 2017 \n",
              "\n",
              "[21417 rows x 4 columns]"
            ]
          },
          "metadata": {
            "tags": []
          },
          "execution_count": 5
        }
      ]
    },
    {
      "cell_type": "code",
      "metadata": {
        "colab": {
          "base_uri": "https://localhost:8080/",
          "height": 419
        },
        "id": "VUj9VZLrlIzl",
        "outputId": "f18f8591-59c4-418c-db55-832bc4201aa4"
      },
      "source": [
        "fake"
      ],
      "execution_count": null,
      "outputs": [
        {
          "output_type": "execute_result",
          "data": {
            "text/html": [
              "<div>\n",
              "<style scoped>\n",
              "    .dataframe tbody tr th:only-of-type {\n",
              "        vertical-align: middle;\n",
              "    }\n",
              "\n",
              "    .dataframe tbody tr th {\n",
              "        vertical-align: top;\n",
              "    }\n",
              "\n",
              "    .dataframe thead th {\n",
              "        text-align: right;\n",
              "    }\n",
              "</style>\n",
              "<table border=\"1\" class=\"dataframe\">\n",
              "  <thead>\n",
              "    <tr style=\"text-align: right;\">\n",
              "      <th></th>\n",
              "      <th>title</th>\n",
              "      <th>text</th>\n",
              "      <th>subject</th>\n",
              "      <th>date</th>\n",
              "    </tr>\n",
              "  </thead>\n",
              "  <tbody>\n",
              "    <tr>\n",
              "      <th>0</th>\n",
              "      <td>Donald Trump Sends Out Embarrassing New Year’...</td>\n",
              "      <td>Donald Trump just couldn t wish all Americans ...</td>\n",
              "      <td>News</td>\n",
              "      <td>December 31, 2017</td>\n",
              "    </tr>\n",
              "    <tr>\n",
              "      <th>1</th>\n",
              "      <td>Drunk Bragging Trump Staffer Started Russian ...</td>\n",
              "      <td>House Intelligence Committee Chairman Devin Nu...</td>\n",
              "      <td>News</td>\n",
              "      <td>December 31, 2017</td>\n",
              "    </tr>\n",
              "    <tr>\n",
              "      <th>2</th>\n",
              "      <td>Sheriff David Clarke Becomes An Internet Joke...</td>\n",
              "      <td>On Friday, it was revealed that former Milwauk...</td>\n",
              "      <td>News</td>\n",
              "      <td>December 30, 2017</td>\n",
              "    </tr>\n",
              "    <tr>\n",
              "      <th>3</th>\n",
              "      <td>Trump Is So Obsessed He Even Has Obama’s Name...</td>\n",
              "      <td>On Christmas day, Donald Trump announced that ...</td>\n",
              "      <td>News</td>\n",
              "      <td>December 29, 2017</td>\n",
              "    </tr>\n",
              "    <tr>\n",
              "      <th>4</th>\n",
              "      <td>Pope Francis Just Called Out Donald Trump Dur...</td>\n",
              "      <td>Pope Francis used his annual Christmas Day mes...</td>\n",
              "      <td>News</td>\n",
              "      <td>December 25, 2017</td>\n",
              "    </tr>\n",
              "    <tr>\n",
              "      <th>...</th>\n",
              "      <td>...</td>\n",
              "      <td>...</td>\n",
              "      <td>...</td>\n",
              "      <td>...</td>\n",
              "    </tr>\n",
              "    <tr>\n",
              "      <th>23476</th>\n",
              "      <td>McPain: John McCain Furious That Iran Treated ...</td>\n",
              "      <td>21st Century Wire says As 21WIRE reported earl...</td>\n",
              "      <td>Middle-east</td>\n",
              "      <td>January 16, 2016</td>\n",
              "    </tr>\n",
              "    <tr>\n",
              "      <th>23477</th>\n",
              "      <td>JUSTICE? Yahoo Settles E-mail Privacy Class-ac...</td>\n",
              "      <td>21st Century Wire says It s a familiar theme. ...</td>\n",
              "      <td>Middle-east</td>\n",
              "      <td>January 16, 2016</td>\n",
              "    </tr>\n",
              "    <tr>\n",
              "      <th>23478</th>\n",
              "      <td>Sunnistan: US and Allied ‘Safe Zone’ Plan to T...</td>\n",
              "      <td>Patrick Henningsen  21st Century WireRemember ...</td>\n",
              "      <td>Middle-east</td>\n",
              "      <td>January 15, 2016</td>\n",
              "    </tr>\n",
              "    <tr>\n",
              "      <th>23479</th>\n",
              "      <td>How to Blow $700 Million: Al Jazeera America F...</td>\n",
              "      <td>21st Century Wire says Al Jazeera America will...</td>\n",
              "      <td>Middle-east</td>\n",
              "      <td>January 14, 2016</td>\n",
              "    </tr>\n",
              "    <tr>\n",
              "      <th>23480</th>\n",
              "      <td>10 U.S. Navy Sailors Held by Iranian Military ...</td>\n",
              "      <td>21st Century Wire says As 21WIRE predicted in ...</td>\n",
              "      <td>Middle-east</td>\n",
              "      <td>January 12, 2016</td>\n",
              "    </tr>\n",
              "  </tbody>\n",
              "</table>\n",
              "<p>23481 rows × 4 columns</p>\n",
              "</div>"
            ],
            "text/plain": [
              "                                                   title  ...               date\n",
              "0       Donald Trump Sends Out Embarrassing New Year’...  ...  December 31, 2017\n",
              "1       Drunk Bragging Trump Staffer Started Russian ...  ...  December 31, 2017\n",
              "2       Sheriff David Clarke Becomes An Internet Joke...  ...  December 30, 2017\n",
              "3       Trump Is So Obsessed He Even Has Obama’s Name...  ...  December 29, 2017\n",
              "4       Pope Francis Just Called Out Donald Trump Dur...  ...  December 25, 2017\n",
              "...                                                  ...  ...                ...\n",
              "23476  McPain: John McCain Furious That Iran Treated ...  ...   January 16, 2016\n",
              "23477  JUSTICE? Yahoo Settles E-mail Privacy Class-ac...  ...   January 16, 2016\n",
              "23478  Sunnistan: US and Allied ‘Safe Zone’ Plan to T...  ...   January 15, 2016\n",
              "23479  How to Blow $700 Million: Al Jazeera America F...  ...   January 14, 2016\n",
              "23480  10 U.S. Navy Sailors Held by Iranian Military ...  ...   January 12, 2016\n",
              "\n",
              "[23481 rows x 4 columns]"
            ]
          },
          "metadata": {
            "tags": []
          },
          "execution_count": 6
        }
      ]
    },
    {
      "cell_type": "code",
      "metadata": {
        "id": "AdmVkcYylIzl"
      },
      "source": [
        "real['label']=1\n",
        "fake['label']=0\n",
        "\n",
        "cleaningDF = pd.concat([real, fake], ignore_index= True)"
      ],
      "execution_count": null,
      "outputs": []
    },
    {
      "cell_type": "code",
      "metadata": {
        "colab": {
          "base_uri": "https://localhost:8080/",
          "height": 419
        },
        "id": "fEWrbpftlIzl",
        "outputId": "b3272b77-056a-4fae-9e7d-e7f6a52ffa48"
      },
      "source": [
        "cleaningDF"
      ],
      "execution_count": null,
      "outputs": [
        {
          "output_type": "execute_result",
          "data": {
            "text/html": [
              "<div>\n",
              "<style scoped>\n",
              "    .dataframe tbody tr th:only-of-type {\n",
              "        vertical-align: middle;\n",
              "    }\n",
              "\n",
              "    .dataframe tbody tr th {\n",
              "        vertical-align: top;\n",
              "    }\n",
              "\n",
              "    .dataframe thead th {\n",
              "        text-align: right;\n",
              "    }\n",
              "</style>\n",
              "<table border=\"1\" class=\"dataframe\">\n",
              "  <thead>\n",
              "    <tr style=\"text-align: right;\">\n",
              "      <th></th>\n",
              "      <th>title</th>\n",
              "      <th>text</th>\n",
              "      <th>subject</th>\n",
              "      <th>date</th>\n",
              "      <th>label</th>\n",
              "    </tr>\n",
              "  </thead>\n",
              "  <tbody>\n",
              "    <tr>\n",
              "      <th>0</th>\n",
              "      <td>As U.S. budget fight looms, Republicans flip t...</td>\n",
              "      <td>WASHINGTON (Reuters) - The head of a conservat...</td>\n",
              "      <td>politicsNews</td>\n",
              "      <td>December 31, 2017</td>\n",
              "      <td>1</td>\n",
              "    </tr>\n",
              "    <tr>\n",
              "      <th>1</th>\n",
              "      <td>U.S. military to accept transgender recruits o...</td>\n",
              "      <td>WASHINGTON (Reuters) - Transgender people will...</td>\n",
              "      <td>politicsNews</td>\n",
              "      <td>December 29, 2017</td>\n",
              "      <td>1</td>\n",
              "    </tr>\n",
              "    <tr>\n",
              "      <th>2</th>\n",
              "      <td>Senior U.S. Republican senator: 'Let Mr. Muell...</td>\n",
              "      <td>WASHINGTON (Reuters) - The special counsel inv...</td>\n",
              "      <td>politicsNews</td>\n",
              "      <td>December 31, 2017</td>\n",
              "      <td>1</td>\n",
              "    </tr>\n",
              "    <tr>\n",
              "      <th>3</th>\n",
              "      <td>FBI Russia probe helped by Australian diplomat...</td>\n",
              "      <td>WASHINGTON (Reuters) - Trump campaign adviser ...</td>\n",
              "      <td>politicsNews</td>\n",
              "      <td>December 30, 2017</td>\n",
              "      <td>1</td>\n",
              "    </tr>\n",
              "    <tr>\n",
              "      <th>4</th>\n",
              "      <td>Trump wants Postal Service to charge 'much mor...</td>\n",
              "      <td>SEATTLE/WASHINGTON (Reuters) - President Donal...</td>\n",
              "      <td>politicsNews</td>\n",
              "      <td>December 29, 2017</td>\n",
              "      <td>1</td>\n",
              "    </tr>\n",
              "    <tr>\n",
              "      <th>...</th>\n",
              "      <td>...</td>\n",
              "      <td>...</td>\n",
              "      <td>...</td>\n",
              "      <td>...</td>\n",
              "      <td>...</td>\n",
              "    </tr>\n",
              "    <tr>\n",
              "      <th>44893</th>\n",
              "      <td>McPain: John McCain Furious That Iran Treated ...</td>\n",
              "      <td>21st Century Wire says As 21WIRE reported earl...</td>\n",
              "      <td>Middle-east</td>\n",
              "      <td>January 16, 2016</td>\n",
              "      <td>0</td>\n",
              "    </tr>\n",
              "    <tr>\n",
              "      <th>44894</th>\n",
              "      <td>JUSTICE? Yahoo Settles E-mail Privacy Class-ac...</td>\n",
              "      <td>21st Century Wire says It s a familiar theme. ...</td>\n",
              "      <td>Middle-east</td>\n",
              "      <td>January 16, 2016</td>\n",
              "      <td>0</td>\n",
              "    </tr>\n",
              "    <tr>\n",
              "      <th>44895</th>\n",
              "      <td>Sunnistan: US and Allied ‘Safe Zone’ Plan to T...</td>\n",
              "      <td>Patrick Henningsen  21st Century WireRemember ...</td>\n",
              "      <td>Middle-east</td>\n",
              "      <td>January 15, 2016</td>\n",
              "      <td>0</td>\n",
              "    </tr>\n",
              "    <tr>\n",
              "      <th>44896</th>\n",
              "      <td>How to Blow $700 Million: Al Jazeera America F...</td>\n",
              "      <td>21st Century Wire says Al Jazeera America will...</td>\n",
              "      <td>Middle-east</td>\n",
              "      <td>January 14, 2016</td>\n",
              "      <td>0</td>\n",
              "    </tr>\n",
              "    <tr>\n",
              "      <th>44897</th>\n",
              "      <td>10 U.S. Navy Sailors Held by Iranian Military ...</td>\n",
              "      <td>21st Century Wire says As 21WIRE predicted in ...</td>\n",
              "      <td>Middle-east</td>\n",
              "      <td>January 12, 2016</td>\n",
              "      <td>0</td>\n",
              "    </tr>\n",
              "  </tbody>\n",
              "</table>\n",
              "<p>44898 rows × 5 columns</p>\n",
              "</div>"
            ],
            "text/plain": [
              "                                                   title  ... label\n",
              "0      As U.S. budget fight looms, Republicans flip t...  ...     1\n",
              "1      U.S. military to accept transgender recruits o...  ...     1\n",
              "2      Senior U.S. Republican senator: 'Let Mr. Muell...  ...     1\n",
              "3      FBI Russia probe helped by Australian diplomat...  ...     1\n",
              "4      Trump wants Postal Service to charge 'much mor...  ...     1\n",
              "...                                                  ...  ...   ...\n",
              "44893  McPain: John McCain Furious That Iran Treated ...  ...     0\n",
              "44894  JUSTICE? Yahoo Settles E-mail Privacy Class-ac...  ...     0\n",
              "44895  Sunnistan: US and Allied ‘Safe Zone’ Plan to T...  ...     0\n",
              "44896  How to Blow $700 Million: Al Jazeera America F...  ...     0\n",
              "44897  10 U.S. Navy Sailors Held by Iranian Military ...  ...     0\n",
              "\n",
              "[44898 rows x 5 columns]"
            ]
          },
          "metadata": {
            "tags": []
          },
          "execution_count": 8
        }
      ]
    },
    {
      "cell_type": "code",
      "metadata": {
        "id": "x5z_f2ENlzMc"
      },
      "source": [
        "smallDataset = smallDataset.drop(['Unnamed: 0'], axis=1)\n",
        "\n",
        "encodeStatusLabels = {'FAKE' : 0, 'REAL' : 1}\n",
        "\n",
        "smallDataset = smallDataset[smallDataset[\"text\"].str.len() >= 5]\n",
        "\n",
        "smallDataset['label'] = smallDataset['label'].map(encodeStatusLabels)"
      ],
      "execution_count": null,
      "outputs": []
    },
    {
      "cell_type": "code",
      "metadata": {
        "colab": {
          "base_uri": "https://localhost:8080/",
          "height": 419
        },
        "id": "TJ8Ri3NUm0mC",
        "outputId": "e79e2acd-b3c6-4de4-8fc0-c2c4ede82b81"
      },
      "source": [
        "smallDataset"
      ],
      "execution_count": null,
      "outputs": [
        {
          "output_type": "execute_result",
          "data": {
            "text/html": [
              "<div>\n",
              "<style scoped>\n",
              "    .dataframe tbody tr th:only-of-type {\n",
              "        vertical-align: middle;\n",
              "    }\n",
              "\n",
              "    .dataframe tbody tr th {\n",
              "        vertical-align: top;\n",
              "    }\n",
              "\n",
              "    .dataframe thead th {\n",
              "        text-align: right;\n",
              "    }\n",
              "</style>\n",
              "<table border=\"1\" class=\"dataframe\">\n",
              "  <thead>\n",
              "    <tr style=\"text-align: right;\">\n",
              "      <th></th>\n",
              "      <th>title</th>\n",
              "      <th>text</th>\n",
              "      <th>label</th>\n",
              "    </tr>\n",
              "  </thead>\n",
              "  <tbody>\n",
              "    <tr>\n",
              "      <th>0</th>\n",
              "      <td>You Can Smell Hillary’s Fear</td>\n",
              "      <td>Daniel Greenfield, a Shillman Journalism Fello...</td>\n",
              "      <td>0</td>\n",
              "    </tr>\n",
              "    <tr>\n",
              "      <th>1</th>\n",
              "      <td>Watch The Exact Moment Paul Ryan Committed Pol...</td>\n",
              "      <td>Google Pinterest Digg Linkedin Reddit Stumbleu...</td>\n",
              "      <td>0</td>\n",
              "    </tr>\n",
              "    <tr>\n",
              "      <th>2</th>\n",
              "      <td>Kerry to go to Paris in gesture of sympathy</td>\n",
              "      <td>U.S. Secretary of State John F. Kerry said Mon...</td>\n",
              "      <td>1</td>\n",
              "    </tr>\n",
              "    <tr>\n",
              "      <th>3</th>\n",
              "      <td>Bernie supporters on Twitter erupt in anger ag...</td>\n",
              "      <td>— Kaydee King (@KaydeeKing) November 9, 2016 T...</td>\n",
              "      <td>0</td>\n",
              "    </tr>\n",
              "    <tr>\n",
              "      <th>4</th>\n",
              "      <td>The Battle of New York: Why This Primary Matters</td>\n",
              "      <td>It's primary day in New York and front-runners...</td>\n",
              "      <td>1</td>\n",
              "    </tr>\n",
              "    <tr>\n",
              "      <th>...</th>\n",
              "      <td>...</td>\n",
              "      <td>...</td>\n",
              "      <td>...</td>\n",
              "    </tr>\n",
              "    <tr>\n",
              "      <th>6330</th>\n",
              "      <td>State Department says it can't find emails fro...</td>\n",
              "      <td>The State Department told the Republican Natio...</td>\n",
              "      <td>1</td>\n",
              "    </tr>\n",
              "    <tr>\n",
              "      <th>6331</th>\n",
              "      <td>The ‘P’ in PBS Should Stand for ‘Plutocratic’ ...</td>\n",
              "      <td>The ‘P’ in PBS Should Stand for ‘Plutocratic’ ...</td>\n",
              "      <td>0</td>\n",
              "    </tr>\n",
              "    <tr>\n",
              "      <th>6332</th>\n",
              "      <td>Anti-Trump Protesters Are Tools of the Oligarc...</td>\n",
              "      <td>Anti-Trump Protesters Are Tools of the Oligar...</td>\n",
              "      <td>0</td>\n",
              "    </tr>\n",
              "    <tr>\n",
              "      <th>6333</th>\n",
              "      <td>In Ethiopia, Obama seeks progress on peace, se...</td>\n",
              "      <td>ADDIS ABABA, Ethiopia —President Obama convene...</td>\n",
              "      <td>1</td>\n",
              "    </tr>\n",
              "    <tr>\n",
              "      <th>6334</th>\n",
              "      <td>Jeb Bush Is Suddenly Attacking Trump. Here's W...</td>\n",
              "      <td>Jeb Bush Is Suddenly Attacking Trump. Here's W...</td>\n",
              "      <td>1</td>\n",
              "    </tr>\n",
              "  </tbody>\n",
              "</table>\n",
              "<p>6299 rows × 3 columns</p>\n",
              "</div>"
            ],
            "text/plain": [
              "                                                  title  ... label\n",
              "0                          You Can Smell Hillary’s Fear  ...     0\n",
              "1     Watch The Exact Moment Paul Ryan Committed Pol...  ...     0\n",
              "2           Kerry to go to Paris in gesture of sympathy  ...     1\n",
              "3     Bernie supporters on Twitter erupt in anger ag...  ...     0\n",
              "4      The Battle of New York: Why This Primary Matters  ...     1\n",
              "...                                                 ...  ...   ...\n",
              "6330  State Department says it can't find emails fro...  ...     1\n",
              "6331  The ‘P’ in PBS Should Stand for ‘Plutocratic’ ...  ...     0\n",
              "6332  Anti-Trump Protesters Are Tools of the Oligarc...  ...     0\n",
              "6333  In Ethiopia, Obama seeks progress on peace, se...  ...     1\n",
              "6334  Jeb Bush Is Suddenly Attacking Trump. Here's W...  ...     1\n",
              "\n",
              "[6299 rows x 3 columns]"
            ]
          },
          "metadata": {
            "tags": []
          },
          "execution_count": 10
        }
      ]
    },
    {
      "cell_type": "code",
      "metadata": {
        "colab": {
          "base_uri": "https://localhost:8080/"
        },
        "id": "93VJAAQsp9Y8",
        "outputId": "297560dc-23ba-4c99-da3b-a2dd487468c1"
      },
      "source": [
        "smallDataset.isna().sum()"
      ],
      "execution_count": null,
      "outputs": [
        {
          "output_type": "execute_result",
          "data": {
            "text/plain": [
              "title    0\n",
              "text     0\n",
              "label    0\n",
              "dtype: int64"
            ]
          },
          "metadata": {
            "tags": []
          },
          "execution_count": 11
        }
      ]
    },
    {
      "cell_type": "code",
      "metadata": {
        "colab": {
          "base_uri": "https://localhost:8080/"
        },
        "id": "8j9c7wSylIzm",
        "outputId": "0f596078-2e93-4459-b3cf-65e364252a72"
      },
      "source": [
        "cleaningDF.isna().sum()"
      ],
      "execution_count": null,
      "outputs": [
        {
          "output_type": "execute_result",
          "data": {
            "text/plain": [
              "title      0\n",
              "text       0\n",
              "subject    0\n",
              "date       0\n",
              "label      0\n",
              "dtype: int64"
            ]
          },
          "metadata": {
            "tags": []
          },
          "execution_count": 12
        }
      ]
    },
    {
      "cell_type": "code",
      "metadata": {
        "id": "I5P05CnLlIzm"
      },
      "source": [
        "cleaningDF = cleaningDF.drop(['subject', 'date'], axis=1)"
      ],
      "execution_count": null,
      "outputs": []
    },
    {
      "cell_type": "code",
      "metadata": {
        "id": "mnYMo9vDlIzm"
      },
      "source": [
        "def removeLocationAndName(strVal):\n",
        "    splitArr = strVal.split(\"(Reuters) \")\n",
        "    if(len(splitArr) > 1):\n",
        "        return splitArr[1]\n",
        "    return splitArr[0]"
      ],
      "execution_count": null,
      "outputs": []
    },
    {
      "cell_type": "code",
      "metadata": {
        "id": "qDOJOuXylIzm"
      },
      "source": [
        "import re\n",
        "cleaningDF['textCleaned']= cleaningDF['text'].map(lambda x : removeLocationAndName(x))\n",
        "cleaningDF['textCleaned']= cleaningDF['textCleaned'].map(lambda x: re.sub('[^A-Za-z0-9]+', ' ', x))\n",
        "cleaningDF['textCleaned']= cleaningDF['textCleaned'].map(lambda x: x.strip())\n",
        "cleaningDF['textCleaned']= cleaningDF['textCleaned'].map(lambda x: re.sub(' +', ' ',x))\n",
        "cleaningDF['textCleaned']= cleaningDF['textCleaned'].map(lambda x: x.lower())\n",
        "cleaningDF['titleCleaned']= cleaningDF['title'].map(lambda x: re.sub('[^A-Za-z0-9]+', ' ', x))\n",
        "cleaningDF['titleCleaned']= cleaningDF['titleCleaned'].map(lambda x: x.strip())\n",
        "cleaningDF['titleCleaned']= cleaningDF['titleCleaned'].map(lambda x: re.sub(' +', ' ',x))\n",
        "cleaningDF['titleCleaned']= cleaningDF['titleCleaned'].map(lambda x: x.lower())"
      ],
      "execution_count": null,
      "outputs": []
    },
    {
      "cell_type": "code",
      "metadata": {
        "id": "plY-aHTwmaq7"
      },
      "source": [
        "smallDataset['textCleaned']= smallDataset['text'].map(lambda x : removeLocationAndName(x))\n",
        "smallDataset['textCleaned']= smallDataset['textCleaned'].map(lambda x: re.sub('[^A-Za-z0-9]+', ' ', x))\n",
        "smallDataset['textCleaned']= smallDataset['textCleaned'].map(lambda x: x.strip())\n",
        "smallDataset['textCleaned']= smallDataset['textCleaned'].map(lambda x: re.sub(' +', ' ',x))\n",
        "smallDataset['textCleaned']= smallDataset['textCleaned'].map(lambda x: x.lower())\n",
        "smallDataset['titleCleaned']= smallDataset['title'].map(lambda x: re.sub('[^A-Za-z0-9]+', ' ', x))\n",
        "smallDataset['titleCleaned']= smallDataset['titleCleaned'].map(lambda x: x.strip())\n",
        "smallDataset['titleCleaned']= smallDataset['titleCleaned'].map(lambda x: re.sub(' +', ' ',x))\n",
        "smallDataset['titleCleaned']= smallDataset['titleCleaned'].map(lambda x: x.lower())"
      ],
      "execution_count": null,
      "outputs": []
    },
    {
      "cell_type": "code",
      "metadata": {
        "colab": {
          "base_uri": "https://localhost:8080/",
          "height": 589
        },
        "id": "ljowuY1flIzn",
        "outputId": "004700c9-10a3-4c99-a339-464f7335c533"
      },
      "source": [
        "cleaningDF"
      ],
      "execution_count": null,
      "outputs": [
        {
          "output_type": "execute_result",
          "data": {
            "text/html": [
              "<div>\n",
              "<style scoped>\n",
              "    .dataframe tbody tr th:only-of-type {\n",
              "        vertical-align: middle;\n",
              "    }\n",
              "\n",
              "    .dataframe tbody tr th {\n",
              "        vertical-align: top;\n",
              "    }\n",
              "\n",
              "    .dataframe thead th {\n",
              "        text-align: right;\n",
              "    }\n",
              "</style>\n",
              "<table border=\"1\" class=\"dataframe\">\n",
              "  <thead>\n",
              "    <tr style=\"text-align: right;\">\n",
              "      <th></th>\n",
              "      <th>title</th>\n",
              "      <th>text</th>\n",
              "      <th>label</th>\n",
              "      <th>textCleaned</th>\n",
              "      <th>titleCleaned</th>\n",
              "    </tr>\n",
              "  </thead>\n",
              "  <tbody>\n",
              "    <tr>\n",
              "      <th>0</th>\n",
              "      <td>As U.S. budget fight looms, Republicans flip t...</td>\n",
              "      <td>WASHINGTON (Reuters) - The head of a conservat...</td>\n",
              "      <td>1</td>\n",
              "      <td>the head of a conservative republican faction ...</td>\n",
              "      <td>as u s budget fight looms republicans flip the...</td>\n",
              "    </tr>\n",
              "    <tr>\n",
              "      <th>1</th>\n",
              "      <td>U.S. military to accept transgender recruits o...</td>\n",
              "      <td>WASHINGTON (Reuters) - Transgender people will...</td>\n",
              "      <td>1</td>\n",
              "      <td>transgender people will be allowed for the fir...</td>\n",
              "      <td>u s military to accept transgender recruits on...</td>\n",
              "    </tr>\n",
              "    <tr>\n",
              "      <th>2</th>\n",
              "      <td>Senior U.S. Republican senator: 'Let Mr. Muell...</td>\n",
              "      <td>WASHINGTON (Reuters) - The special counsel inv...</td>\n",
              "      <td>1</td>\n",
              "      <td>the special counsel investigation of links bet...</td>\n",
              "      <td>senior u s republican senator let mr mueller d...</td>\n",
              "    </tr>\n",
              "    <tr>\n",
              "      <th>3</th>\n",
              "      <td>FBI Russia probe helped by Australian diplomat...</td>\n",
              "      <td>WASHINGTON (Reuters) - Trump campaign adviser ...</td>\n",
              "      <td>1</td>\n",
              "      <td>trump campaign adviser george papadopoulos tol...</td>\n",
              "      <td>fbi russia probe helped by australian diplomat...</td>\n",
              "    </tr>\n",
              "    <tr>\n",
              "      <th>4</th>\n",
              "      <td>Trump wants Postal Service to charge 'much mor...</td>\n",
              "      <td>SEATTLE/WASHINGTON (Reuters) - President Donal...</td>\n",
              "      <td>1</td>\n",
              "      <td>president donald trump called on the u s posta...</td>\n",
              "      <td>trump wants postal service to charge much more...</td>\n",
              "    </tr>\n",
              "    <tr>\n",
              "      <th>...</th>\n",
              "      <td>...</td>\n",
              "      <td>...</td>\n",
              "      <td>...</td>\n",
              "      <td>...</td>\n",
              "      <td>...</td>\n",
              "    </tr>\n",
              "    <tr>\n",
              "      <th>44893</th>\n",
              "      <td>McPain: John McCain Furious That Iran Treated ...</td>\n",
              "      <td>21st Century Wire says As 21WIRE reported earl...</td>\n",
              "      <td>0</td>\n",
              "      <td>21st century wire says as 21wire reported earl...</td>\n",
              "      <td>mcpain john mccain furious that iran treated u...</td>\n",
              "    </tr>\n",
              "    <tr>\n",
              "      <th>44894</th>\n",
              "      <td>JUSTICE? Yahoo Settles E-mail Privacy Class-ac...</td>\n",
              "      <td>21st Century Wire says It s a familiar theme. ...</td>\n",
              "      <td>0</td>\n",
              "      <td>21st century wire says it s a familiar theme w...</td>\n",
              "      <td>justice yahoo settles e mail privacy class act...</td>\n",
              "    </tr>\n",
              "    <tr>\n",
              "      <th>44895</th>\n",
              "      <td>Sunnistan: US and Allied ‘Safe Zone’ Plan to T...</td>\n",
              "      <td>Patrick Henningsen  21st Century WireRemember ...</td>\n",
              "      <td>0</td>\n",
              "      <td>patrick henningsen 21st century wireremember w...</td>\n",
              "      <td>sunnistan us and allied safe zone plan to take...</td>\n",
              "    </tr>\n",
              "    <tr>\n",
              "      <th>44896</th>\n",
              "      <td>How to Blow $700 Million: Al Jazeera America F...</td>\n",
              "      <td>21st Century Wire says Al Jazeera America will...</td>\n",
              "      <td>0</td>\n",
              "      <td>21st century wire says al jazeera america will...</td>\n",
              "      <td>how to blow 700 million al jazeera america fin...</td>\n",
              "    </tr>\n",
              "    <tr>\n",
              "      <th>44897</th>\n",
              "      <td>10 U.S. Navy Sailors Held by Iranian Military ...</td>\n",
              "      <td>21st Century Wire says As 21WIRE predicted in ...</td>\n",
              "      <td>0</td>\n",
              "      <td>21st century wire says as 21wire predicted in ...</td>\n",
              "      <td>10 u s navy sailors held by iranian military s...</td>\n",
              "    </tr>\n",
              "  </tbody>\n",
              "</table>\n",
              "<p>44898 rows × 5 columns</p>\n",
              "</div>"
            ],
            "text/plain": [
              "                                                   title  ...                                       titleCleaned\n",
              "0      As U.S. budget fight looms, Republicans flip t...  ...  as u s budget fight looms republicans flip the...\n",
              "1      U.S. military to accept transgender recruits o...  ...  u s military to accept transgender recruits on...\n",
              "2      Senior U.S. Republican senator: 'Let Mr. Muell...  ...  senior u s republican senator let mr mueller d...\n",
              "3      FBI Russia probe helped by Australian diplomat...  ...  fbi russia probe helped by australian diplomat...\n",
              "4      Trump wants Postal Service to charge 'much mor...  ...  trump wants postal service to charge much more...\n",
              "...                                                  ...  ...                                                ...\n",
              "44893  McPain: John McCain Furious That Iran Treated ...  ...  mcpain john mccain furious that iran treated u...\n",
              "44894  JUSTICE? Yahoo Settles E-mail Privacy Class-ac...  ...  justice yahoo settles e mail privacy class act...\n",
              "44895  Sunnistan: US and Allied ‘Safe Zone’ Plan to T...  ...  sunnistan us and allied safe zone plan to take...\n",
              "44896  How to Blow $700 Million: Al Jazeera America F...  ...  how to blow 700 million al jazeera america fin...\n",
              "44897  10 U.S. Navy Sailors Held by Iranian Military ...  ...  10 u s navy sailors held by iranian military s...\n",
              "\n",
              "[44898 rows x 5 columns]"
            ]
          },
          "metadata": {
            "tags": []
          },
          "execution_count": 17
        }
      ]
    },
    {
      "cell_type": "code",
      "metadata": {
        "colab": {
          "base_uri": "https://localhost:8080/",
          "height": 589
        },
        "id": "-4ejti9jqQ1Y",
        "outputId": "75213812-86d0-4fa9-a19c-c025a8828135"
      },
      "source": [
        "smallDataset"
      ],
      "execution_count": null,
      "outputs": [
        {
          "output_type": "execute_result",
          "data": {
            "text/html": [
              "<div>\n",
              "<style scoped>\n",
              "    .dataframe tbody tr th:only-of-type {\n",
              "        vertical-align: middle;\n",
              "    }\n",
              "\n",
              "    .dataframe tbody tr th {\n",
              "        vertical-align: top;\n",
              "    }\n",
              "\n",
              "    .dataframe thead th {\n",
              "        text-align: right;\n",
              "    }\n",
              "</style>\n",
              "<table border=\"1\" class=\"dataframe\">\n",
              "  <thead>\n",
              "    <tr style=\"text-align: right;\">\n",
              "      <th></th>\n",
              "      <th>title</th>\n",
              "      <th>text</th>\n",
              "      <th>label</th>\n",
              "      <th>textCleaned</th>\n",
              "      <th>titleCleaned</th>\n",
              "    </tr>\n",
              "  </thead>\n",
              "  <tbody>\n",
              "    <tr>\n",
              "      <th>0</th>\n",
              "      <td>You Can Smell Hillary’s Fear</td>\n",
              "      <td>Daniel Greenfield, a Shillman Journalism Fello...</td>\n",
              "      <td>0</td>\n",
              "      <td>daniel greenfield a shillman journalism fellow...</td>\n",
              "      <td>you can smell hillary s fear</td>\n",
              "    </tr>\n",
              "    <tr>\n",
              "      <th>1</th>\n",
              "      <td>Watch The Exact Moment Paul Ryan Committed Pol...</td>\n",
              "      <td>Google Pinterest Digg Linkedin Reddit Stumbleu...</td>\n",
              "      <td>0</td>\n",
              "      <td>google pinterest digg linkedin reddit stumbleu...</td>\n",
              "      <td>watch the exact moment paul ryan committed pol...</td>\n",
              "    </tr>\n",
              "    <tr>\n",
              "      <th>2</th>\n",
              "      <td>Kerry to go to Paris in gesture of sympathy</td>\n",
              "      <td>U.S. Secretary of State John F. Kerry said Mon...</td>\n",
              "      <td>1</td>\n",
              "      <td>u s secretary of state john f kerry said monda...</td>\n",
              "      <td>kerry to go to paris in gesture of sympathy</td>\n",
              "    </tr>\n",
              "    <tr>\n",
              "      <th>3</th>\n",
              "      <td>Bernie supporters on Twitter erupt in anger ag...</td>\n",
              "      <td>— Kaydee King (@KaydeeKing) November 9, 2016 T...</td>\n",
              "      <td>0</td>\n",
              "      <td>kaydee king kaydeeking november 9 2016 the les...</td>\n",
              "      <td>bernie supporters on twitter erupt in anger ag...</td>\n",
              "    </tr>\n",
              "    <tr>\n",
              "      <th>4</th>\n",
              "      <td>The Battle of New York: Why This Primary Matters</td>\n",
              "      <td>It's primary day in New York and front-runners...</td>\n",
              "      <td>1</td>\n",
              "      <td>it s primary day in new york and front runners...</td>\n",
              "      <td>the battle of new york why this primary matters</td>\n",
              "    </tr>\n",
              "    <tr>\n",
              "      <th>...</th>\n",
              "      <td>...</td>\n",
              "      <td>...</td>\n",
              "      <td>...</td>\n",
              "      <td>...</td>\n",
              "      <td>...</td>\n",
              "    </tr>\n",
              "    <tr>\n",
              "      <th>6330</th>\n",
              "      <td>State Department says it can't find emails fro...</td>\n",
              "      <td>The State Department told the Republican Natio...</td>\n",
              "      <td>1</td>\n",
              "      <td>the state department told the republican natio...</td>\n",
              "      <td>state department says it can t find emails fro...</td>\n",
              "    </tr>\n",
              "    <tr>\n",
              "      <th>6331</th>\n",
              "      <td>The ‘P’ in PBS Should Stand for ‘Plutocratic’ ...</td>\n",
              "      <td>The ‘P’ in PBS Should Stand for ‘Plutocratic’ ...</td>\n",
              "      <td>0</td>\n",
              "      <td>the p in pbs should stand for plutocratic or p...</td>\n",
              "      <td>the p in pbs should stand for plutocratic or p...</td>\n",
              "    </tr>\n",
              "    <tr>\n",
              "      <th>6332</th>\n",
              "      <td>Anti-Trump Protesters Are Tools of the Oligarc...</td>\n",
              "      <td>Anti-Trump Protesters Are Tools of the Oligar...</td>\n",
              "      <td>0</td>\n",
              "      <td>anti trump protesters are tools of the oligarc...</td>\n",
              "      <td>anti trump protesters are tools of the oligarc...</td>\n",
              "    </tr>\n",
              "    <tr>\n",
              "      <th>6333</th>\n",
              "      <td>In Ethiopia, Obama seeks progress on peace, se...</td>\n",
              "      <td>ADDIS ABABA, Ethiopia —President Obama convene...</td>\n",
              "      <td>1</td>\n",
              "      <td>addis ababa ethiopia president obama convened ...</td>\n",
              "      <td>in ethiopia obama seeks progress on peace secu...</td>\n",
              "    </tr>\n",
              "    <tr>\n",
              "      <th>6334</th>\n",
              "      <td>Jeb Bush Is Suddenly Attacking Trump. Here's W...</td>\n",
              "      <td>Jeb Bush Is Suddenly Attacking Trump. Here's W...</td>\n",
              "      <td>1</td>\n",
              "      <td>jeb bush is suddenly attacking trump here s wh...</td>\n",
              "      <td>jeb bush is suddenly attacking trump here s wh...</td>\n",
              "    </tr>\n",
              "  </tbody>\n",
              "</table>\n",
              "<p>6299 rows × 5 columns</p>\n",
              "</div>"
            ],
            "text/plain": [
              "                                                  title  ...                                       titleCleaned\n",
              "0                          You Can Smell Hillary’s Fear  ...                       you can smell hillary s fear\n",
              "1     Watch The Exact Moment Paul Ryan Committed Pol...  ...  watch the exact moment paul ryan committed pol...\n",
              "2           Kerry to go to Paris in gesture of sympathy  ...        kerry to go to paris in gesture of sympathy\n",
              "3     Bernie supporters on Twitter erupt in anger ag...  ...  bernie supporters on twitter erupt in anger ag...\n",
              "4      The Battle of New York: Why This Primary Matters  ...    the battle of new york why this primary matters\n",
              "...                                                 ...  ...                                                ...\n",
              "6330  State Department says it can't find emails fro...  ...  state department says it can t find emails fro...\n",
              "6331  The ‘P’ in PBS Should Stand for ‘Plutocratic’ ...  ...  the p in pbs should stand for plutocratic or p...\n",
              "6332  Anti-Trump Protesters Are Tools of the Oligarc...  ...  anti trump protesters are tools of the oligarc...\n",
              "6333  In Ethiopia, Obama seeks progress on peace, se...  ...  in ethiopia obama seeks progress on peace secu...\n",
              "6334  Jeb Bush Is Suddenly Attacking Trump. Here's W...  ...  jeb bush is suddenly attacking trump here s wh...\n",
              "\n",
              "[6299 rows x 5 columns]"
            ]
          },
          "metadata": {
            "tags": []
          },
          "execution_count": 18
        }
      ]
    },
    {
      "cell_type": "code",
      "metadata": {
        "id": "cCEZ3tR4lIzn"
      },
      "source": [
        "finalDataFrame = cleaningDF.drop(['title', 'text'], axis=1)\n",
        "finalSmallDataset = smallDataset.drop(['title', 'text'], axis=1)"
      ],
      "execution_count": null,
      "outputs": []
    },
    {
      "cell_type": "code",
      "metadata": {
        "id": "f7EO9Z_r2XSY"
      },
      "source": [
        "renameLabels = {\"textCleaned\": \"text\", \"titleCleaned\": \"title\"}"
      ],
      "execution_count": null,
      "outputs": []
    },
    {
      "cell_type": "code",
      "metadata": {
        "colab": {
          "base_uri": "https://localhost:8080/",
          "height": 419
        },
        "id": "D39iJm7llIzn",
        "outputId": "ac7781ea-8895-440b-84c2-c48578f723e5"
      },
      "source": [
        "finalDataFrame = finalDataFrame.rename(columns = renameLabels)\n",
        "finalDataFrame"
      ],
      "execution_count": null,
      "outputs": [
        {
          "output_type": "execute_result",
          "data": {
            "text/html": [
              "<div>\n",
              "<style scoped>\n",
              "    .dataframe tbody tr th:only-of-type {\n",
              "        vertical-align: middle;\n",
              "    }\n",
              "\n",
              "    .dataframe tbody tr th {\n",
              "        vertical-align: top;\n",
              "    }\n",
              "\n",
              "    .dataframe thead th {\n",
              "        text-align: right;\n",
              "    }\n",
              "</style>\n",
              "<table border=\"1\" class=\"dataframe\">\n",
              "  <thead>\n",
              "    <tr style=\"text-align: right;\">\n",
              "      <th></th>\n",
              "      <th>label</th>\n",
              "      <th>text</th>\n",
              "      <th>title</th>\n",
              "    </tr>\n",
              "  </thead>\n",
              "  <tbody>\n",
              "    <tr>\n",
              "      <th>0</th>\n",
              "      <td>1</td>\n",
              "      <td>the head of a conservative republican faction ...</td>\n",
              "      <td>as u s budget fight looms republicans flip the...</td>\n",
              "    </tr>\n",
              "    <tr>\n",
              "      <th>1</th>\n",
              "      <td>1</td>\n",
              "      <td>transgender people will be allowed for the fir...</td>\n",
              "      <td>u s military to accept transgender recruits on...</td>\n",
              "    </tr>\n",
              "    <tr>\n",
              "      <th>2</th>\n",
              "      <td>1</td>\n",
              "      <td>the special counsel investigation of links bet...</td>\n",
              "      <td>senior u s republican senator let mr mueller d...</td>\n",
              "    </tr>\n",
              "    <tr>\n",
              "      <th>3</th>\n",
              "      <td>1</td>\n",
              "      <td>trump campaign adviser george papadopoulos tol...</td>\n",
              "      <td>fbi russia probe helped by australian diplomat...</td>\n",
              "    </tr>\n",
              "    <tr>\n",
              "      <th>4</th>\n",
              "      <td>1</td>\n",
              "      <td>president donald trump called on the u s posta...</td>\n",
              "      <td>trump wants postal service to charge much more...</td>\n",
              "    </tr>\n",
              "    <tr>\n",
              "      <th>...</th>\n",
              "      <td>...</td>\n",
              "      <td>...</td>\n",
              "      <td>...</td>\n",
              "    </tr>\n",
              "    <tr>\n",
              "      <th>44893</th>\n",
              "      <td>0</td>\n",
              "      <td>21st century wire says as 21wire reported earl...</td>\n",
              "      <td>mcpain john mccain furious that iran treated u...</td>\n",
              "    </tr>\n",
              "    <tr>\n",
              "      <th>44894</th>\n",
              "      <td>0</td>\n",
              "      <td>21st century wire says it s a familiar theme w...</td>\n",
              "      <td>justice yahoo settles e mail privacy class act...</td>\n",
              "    </tr>\n",
              "    <tr>\n",
              "      <th>44895</th>\n",
              "      <td>0</td>\n",
              "      <td>patrick henningsen 21st century wireremember w...</td>\n",
              "      <td>sunnistan us and allied safe zone plan to take...</td>\n",
              "    </tr>\n",
              "    <tr>\n",
              "      <th>44896</th>\n",
              "      <td>0</td>\n",
              "      <td>21st century wire says al jazeera america will...</td>\n",
              "      <td>how to blow 700 million al jazeera america fin...</td>\n",
              "    </tr>\n",
              "    <tr>\n",
              "      <th>44897</th>\n",
              "      <td>0</td>\n",
              "      <td>21st century wire says as 21wire predicted in ...</td>\n",
              "      <td>10 u s navy sailors held by iranian military s...</td>\n",
              "    </tr>\n",
              "  </tbody>\n",
              "</table>\n",
              "<p>44898 rows × 3 columns</p>\n",
              "</div>"
            ],
            "text/plain": [
              "       label  ...                                              title\n",
              "0          1  ...  as u s budget fight looms republicans flip the...\n",
              "1          1  ...  u s military to accept transgender recruits on...\n",
              "2          1  ...  senior u s republican senator let mr mueller d...\n",
              "3          1  ...  fbi russia probe helped by australian diplomat...\n",
              "4          1  ...  trump wants postal service to charge much more...\n",
              "...      ...  ...                                                ...\n",
              "44893      0  ...  mcpain john mccain furious that iran treated u...\n",
              "44894      0  ...  justice yahoo settles e mail privacy class act...\n",
              "44895      0  ...  sunnistan us and allied safe zone plan to take...\n",
              "44896      0  ...  how to blow 700 million al jazeera america fin...\n",
              "44897      0  ...  10 u s navy sailors held by iranian military s...\n",
              "\n",
              "[44898 rows x 3 columns]"
            ]
          },
          "metadata": {
            "tags": []
          },
          "execution_count": 21
        }
      ]
    },
    {
      "cell_type": "code",
      "metadata": {
        "colab": {
          "base_uri": "https://localhost:8080/",
          "height": 419
        },
        "id": "utN72DPfqXog",
        "outputId": "c98ad972-d79f-4eb3-ab80-a6459227a7ac"
      },
      "source": [
        "finalSmallDataset = finalSmallDataset.rename(columns = renameLabels)\n",
        "finalSmallDataset"
      ],
      "execution_count": null,
      "outputs": [
        {
          "output_type": "execute_result",
          "data": {
            "text/html": [
              "<div>\n",
              "<style scoped>\n",
              "    .dataframe tbody tr th:only-of-type {\n",
              "        vertical-align: middle;\n",
              "    }\n",
              "\n",
              "    .dataframe tbody tr th {\n",
              "        vertical-align: top;\n",
              "    }\n",
              "\n",
              "    .dataframe thead th {\n",
              "        text-align: right;\n",
              "    }\n",
              "</style>\n",
              "<table border=\"1\" class=\"dataframe\">\n",
              "  <thead>\n",
              "    <tr style=\"text-align: right;\">\n",
              "      <th></th>\n",
              "      <th>label</th>\n",
              "      <th>text</th>\n",
              "      <th>title</th>\n",
              "    </tr>\n",
              "  </thead>\n",
              "  <tbody>\n",
              "    <tr>\n",
              "      <th>0</th>\n",
              "      <td>0</td>\n",
              "      <td>daniel greenfield a shillman journalism fellow...</td>\n",
              "      <td>you can smell hillary s fear</td>\n",
              "    </tr>\n",
              "    <tr>\n",
              "      <th>1</th>\n",
              "      <td>0</td>\n",
              "      <td>google pinterest digg linkedin reddit stumbleu...</td>\n",
              "      <td>watch the exact moment paul ryan committed pol...</td>\n",
              "    </tr>\n",
              "    <tr>\n",
              "      <th>2</th>\n",
              "      <td>1</td>\n",
              "      <td>u s secretary of state john f kerry said monda...</td>\n",
              "      <td>kerry to go to paris in gesture of sympathy</td>\n",
              "    </tr>\n",
              "    <tr>\n",
              "      <th>3</th>\n",
              "      <td>0</td>\n",
              "      <td>kaydee king kaydeeking november 9 2016 the les...</td>\n",
              "      <td>bernie supporters on twitter erupt in anger ag...</td>\n",
              "    </tr>\n",
              "    <tr>\n",
              "      <th>4</th>\n",
              "      <td>1</td>\n",
              "      <td>it s primary day in new york and front runners...</td>\n",
              "      <td>the battle of new york why this primary matters</td>\n",
              "    </tr>\n",
              "    <tr>\n",
              "      <th>...</th>\n",
              "      <td>...</td>\n",
              "      <td>...</td>\n",
              "      <td>...</td>\n",
              "    </tr>\n",
              "    <tr>\n",
              "      <th>6330</th>\n",
              "      <td>1</td>\n",
              "      <td>the state department told the republican natio...</td>\n",
              "      <td>state department says it can t find emails fro...</td>\n",
              "    </tr>\n",
              "    <tr>\n",
              "      <th>6331</th>\n",
              "      <td>0</td>\n",
              "      <td>the p in pbs should stand for plutocratic or p...</td>\n",
              "      <td>the p in pbs should stand for plutocratic or p...</td>\n",
              "    </tr>\n",
              "    <tr>\n",
              "      <th>6332</th>\n",
              "      <td>0</td>\n",
              "      <td>anti trump protesters are tools of the oligarc...</td>\n",
              "      <td>anti trump protesters are tools of the oligarc...</td>\n",
              "    </tr>\n",
              "    <tr>\n",
              "      <th>6333</th>\n",
              "      <td>1</td>\n",
              "      <td>addis ababa ethiopia president obama convened ...</td>\n",
              "      <td>in ethiopia obama seeks progress on peace secu...</td>\n",
              "    </tr>\n",
              "    <tr>\n",
              "      <th>6334</th>\n",
              "      <td>1</td>\n",
              "      <td>jeb bush is suddenly attacking trump here s wh...</td>\n",
              "      <td>jeb bush is suddenly attacking trump here s wh...</td>\n",
              "    </tr>\n",
              "  </tbody>\n",
              "</table>\n",
              "<p>6299 rows × 3 columns</p>\n",
              "</div>"
            ],
            "text/plain": [
              "      label  ...                                              title\n",
              "0         0  ...                       you can smell hillary s fear\n",
              "1         0  ...  watch the exact moment paul ryan committed pol...\n",
              "2         1  ...        kerry to go to paris in gesture of sympathy\n",
              "3         0  ...  bernie supporters on twitter erupt in anger ag...\n",
              "4         1  ...    the battle of new york why this primary matters\n",
              "...     ...  ...                                                ...\n",
              "6330      1  ...  state department says it can t find emails fro...\n",
              "6331      0  ...  the p in pbs should stand for plutocratic or p...\n",
              "6332      0  ...  anti trump protesters are tools of the oligarc...\n",
              "6333      1  ...  in ethiopia obama seeks progress on peace secu...\n",
              "6334      1  ...  jeb bush is suddenly attacking trump here s wh...\n",
              "\n",
              "[6299 rows x 3 columns]"
            ]
          },
          "metadata": {
            "tags": []
          },
          "execution_count": 22
        }
      ]
    },
    {
      "cell_type": "code",
      "metadata": {
        "id": "S2LjQpIVqgET"
      },
      "source": [
        "trainingDataset = pd.concat([finalDataFrame, finalSmallDataset], ignore_index= True)"
      ],
      "execution_count": null,
      "outputs": []
    },
    {
      "cell_type": "code",
      "metadata": {
        "id": "zpJsfTmJlIzn"
      },
      "source": [
        "trainingDataset.to_csv('/content/drive/MyDrive/Colab Notebooks/OutputFiles/TrainNews.csv', index=False)"
      ],
      "execution_count": null,
      "outputs": []
    },
    {
      "cell_type": "code",
      "metadata": {
        "colab": {
          "base_uri": "https://localhost:8080/",
          "height": 419
        },
        "id": "PoSmGrzMq4Mp",
        "outputId": "14947412-73a5-4570-d40a-9a4d0702f954"
      },
      "source": [
        "trainingDataset"
      ],
      "execution_count": null,
      "outputs": [
        {
          "output_type": "execute_result",
          "data": {
            "text/html": [
              "<div>\n",
              "<style scoped>\n",
              "    .dataframe tbody tr th:only-of-type {\n",
              "        vertical-align: middle;\n",
              "    }\n",
              "\n",
              "    .dataframe tbody tr th {\n",
              "        vertical-align: top;\n",
              "    }\n",
              "\n",
              "    .dataframe thead th {\n",
              "        text-align: right;\n",
              "    }\n",
              "</style>\n",
              "<table border=\"1\" class=\"dataframe\">\n",
              "  <thead>\n",
              "    <tr style=\"text-align: right;\">\n",
              "      <th></th>\n",
              "      <th>label</th>\n",
              "      <th>text</th>\n",
              "      <th>title</th>\n",
              "    </tr>\n",
              "  </thead>\n",
              "  <tbody>\n",
              "    <tr>\n",
              "      <th>0</th>\n",
              "      <td>1</td>\n",
              "      <td>the head of a conservative republican faction ...</td>\n",
              "      <td>as u s budget fight looms republicans flip the...</td>\n",
              "    </tr>\n",
              "    <tr>\n",
              "      <th>1</th>\n",
              "      <td>1</td>\n",
              "      <td>transgender people will be allowed for the fir...</td>\n",
              "      <td>u s military to accept transgender recruits on...</td>\n",
              "    </tr>\n",
              "    <tr>\n",
              "      <th>2</th>\n",
              "      <td>1</td>\n",
              "      <td>the special counsel investigation of links bet...</td>\n",
              "      <td>senior u s republican senator let mr mueller d...</td>\n",
              "    </tr>\n",
              "    <tr>\n",
              "      <th>3</th>\n",
              "      <td>1</td>\n",
              "      <td>trump campaign adviser george papadopoulos tol...</td>\n",
              "      <td>fbi russia probe helped by australian diplomat...</td>\n",
              "    </tr>\n",
              "    <tr>\n",
              "      <th>4</th>\n",
              "      <td>1</td>\n",
              "      <td>president donald trump called on the u s posta...</td>\n",
              "      <td>trump wants postal service to charge much more...</td>\n",
              "    </tr>\n",
              "    <tr>\n",
              "      <th>...</th>\n",
              "      <td>...</td>\n",
              "      <td>...</td>\n",
              "      <td>...</td>\n",
              "    </tr>\n",
              "    <tr>\n",
              "      <th>51192</th>\n",
              "      <td>1</td>\n",
              "      <td>the state department told the republican natio...</td>\n",
              "      <td>state department says it can t find emails fro...</td>\n",
              "    </tr>\n",
              "    <tr>\n",
              "      <th>51193</th>\n",
              "      <td>0</td>\n",
              "      <td>the p in pbs should stand for plutocratic or p...</td>\n",
              "      <td>the p in pbs should stand for plutocratic or p...</td>\n",
              "    </tr>\n",
              "    <tr>\n",
              "      <th>51194</th>\n",
              "      <td>0</td>\n",
              "      <td>anti trump protesters are tools of the oligarc...</td>\n",
              "      <td>anti trump protesters are tools of the oligarc...</td>\n",
              "    </tr>\n",
              "    <tr>\n",
              "      <th>51195</th>\n",
              "      <td>1</td>\n",
              "      <td>addis ababa ethiopia president obama convened ...</td>\n",
              "      <td>in ethiopia obama seeks progress on peace secu...</td>\n",
              "    </tr>\n",
              "    <tr>\n",
              "      <th>51196</th>\n",
              "      <td>1</td>\n",
              "      <td>jeb bush is suddenly attacking trump here s wh...</td>\n",
              "      <td>jeb bush is suddenly attacking trump here s wh...</td>\n",
              "    </tr>\n",
              "  </tbody>\n",
              "</table>\n",
              "<p>51197 rows × 3 columns</p>\n",
              "</div>"
            ],
            "text/plain": [
              "       label  ...                                              title\n",
              "0          1  ...  as u s budget fight looms republicans flip the...\n",
              "1          1  ...  u s military to accept transgender recruits on...\n",
              "2          1  ...  senior u s republican senator let mr mueller d...\n",
              "3          1  ...  fbi russia probe helped by australian diplomat...\n",
              "4          1  ...  trump wants postal service to charge much more...\n",
              "...      ...  ...                                                ...\n",
              "51192      1  ...  state department says it can t find emails fro...\n",
              "51193      0  ...  the p in pbs should stand for plutocratic or p...\n",
              "51194      0  ...  anti trump protesters are tools of the oligarc...\n",
              "51195      1  ...  in ethiopia obama seeks progress on peace secu...\n",
              "51196      1  ...  jeb bush is suddenly attacking trump here s wh...\n",
              "\n",
              "[51197 rows x 3 columns]"
            ]
          },
          "metadata": {
            "tags": []
          },
          "execution_count": 25
        }
      ]
    },
    {
      "cell_type": "code",
      "metadata": {
        "id": "xnIil2DtF_Jq"
      },
      "source": [
        "df=trainingDataset.copy()\n"
      ],
      "execution_count": null,
      "outputs": []
    },
    {
      "cell_type": "code",
      "metadata": {
        "colab": {
          "base_uri": "https://localhost:8080/",
          "height": 589
        },
        "id": "BzgVHM25HAhQ",
        "outputId": "70f163a2-a972-4364-94da-27f330652995"
      },
      "source": [
        "import matplotlib.pyplot as plt\n",
        "import seaborn as sns\n",
        "\n",
        "plt.style.use(\"ggplot\")\n",
        "plt.figure(figsize=(10, 8))\n",
        "df['length_title'] = df['title'].apply(lambda x: len(x.split()))\n",
        "sns.distplot(df['length_title'])\n",
        "plt.title('Frequency of title', fontsize=14)\n",
        "plt.xlabel('length', fontsize=14)\n",
        "\n"
      ],
      "execution_count": null,
      "outputs": [
        {
          "output_type": "stream",
          "text": [
            "/usr/local/lib/python3.7/dist-packages/seaborn/distributions.py:2557: FutureWarning: `distplot` is a deprecated function and will be removed in a future version. Please adapt your code to use either `displot` (a figure-level function with similar flexibility) or `histplot` (an axes-level function for histograms).\n",
            "  warnings.warn(msg, FutureWarning)\n"
          ],
          "name": "stderr"
        },
        {
          "output_type": "execute_result",
          "data": {
            "text/plain": [
              "Text(0.5, 0, 'length')"
            ]
          },
          "metadata": {
            "tags": []
          },
          "execution_count": 47
        },
        {
          "output_type": "display_data",
          "data": {
            "image/png": "[encoded data removed]",
            "text/plain": [
              "<Figure size 720x576 with 1 Axes>"
            ]
          },
          "metadata": {
            "tags": []
          }
        }
      ]
    },
    {
      "cell_type": "code",
      "metadata": {
        "colab": {
          "base_uri": "https://localhost:8080/",
          "height": 572
        },
        "id": "pB9trqjTHzdb",
        "outputId": "91416f53-0313-4484-e993-4fa56ebb679a"
      },
      "source": [
        "plt.style.use(\"ggplot\")\n",
        "plt.figure(figsize=(10, 8))\n",
        "df['length_text'] = df['text'].apply(lambda x: len(x.split()))\n",
        "sns.distplot(df[df['length_text'] < 5000]['length_text'])\n",
        "plt.title('Frequence of documents of a given length', fontsize=14)\n",
        "plt.xlabel('length', fontsize=14)\n",
        "None\n",
        "\n"
      ],
      "execution_count": null,
      "outputs": [
        {
          "output_type": "stream",
          "text": [
            "/usr/local/lib/python3.7/dist-packages/seaborn/distributions.py:2557: FutureWarning: `distplot` is a deprecated function and will be removed in a future version. Please adapt your code to use either `displot` (a figure-level function with similar flexibility) or `histplot` (an axes-level function for histograms).\n",
            "  warnings.warn(msg, FutureWarning)\n"
          ],
          "name": "stderr"
        },
        {
          "output_type": "display_data",
          "data": {
            "image/png": "[encoded data removed]",
            "text/plain": [
              "<Figure size 720x576 with 1 Axes>"
            ]
          },
          "metadata": {
            "tags": []
          }
        }
      ]
    }
  ]
}